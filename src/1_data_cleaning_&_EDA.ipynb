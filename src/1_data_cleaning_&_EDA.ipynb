{
 "cells": [
  {
   "cell_type": "code",
   "execution_count": 1,
   "id": "fb7a6ea4-374b-4ab5-a04d-6fcf922781bc",
   "metadata": {
    "ExecuteTime": {
     "end_time": "2024-07-05T15:08:27.848762Z",
     "start_time": "2024-07-05T15:08:27.839705Z"
    }
   },
   "outputs": [],
   "source": [
    "import pandas as pd\n",
    "import numpy as np\n",
    "import re\n",
    "import matplotlib.pyplot as plt\n",
    "import seaborn as sns\n",
    "import datetime as dt\n",
    "import plotly.graph_objects as go"
   ]
  },
  {
   "cell_type": "code",
   "outputs": [],
   "source": [
    "# Color palette\n",
    "# matplotlib and seaborn\n",
    "plt.rcParams.update({\n",
    "    'axes.facecolor': '#FFF9ED',        # background color\n",
    "    'figure.facecolor': '#FFF9ED',      # Figure face color\n",
    "    'grid.color': 'white',              # grid color\n",
    "    'axes.edgecolor': '#682F2F',          # axes color\n",
    "    'axes.labelcolor': '#682F2F',       # label color\n",
    "    'xtick.color': '#682F2F',           # xtick color\n",
    "    'ytick.color': '#682F2F',           # ytick color\n",
    "    'axes.grid': True,                  # enable grid\n",
    "    'axes.titlesize': 14,               # title size\n",
    "    'axes.titleweight': 'bold',         # title weight\n",
    "    'axes.titlecolor':'#682F2F',        # title color\n",
    "    'axes.labelsize': 12,               # label size\n",
    "    'axes.labelweight': 'bold',         # label weight\n",
    "    'font.family': 'serif',             # font family\n",
    "    'font.size': 12,                    # default font size\n",
    "})\n",
    "\n",
    "#plotly\n",
    "# Customizing plotly plot style\n",
    "cus_layout = go.Layout(\n",
    "    plot_bgcolor='#FFF9ED',     # background color\n",
    "    paper_bgcolor='#FFF9ED',    # plot area background color\n",
    "    font=dict(\n",
    "        family='serif',         # font family\n",
    "        size=12,                # default font size\n",
    "        color='#682F2F'           # font color\n",
    "    ),\n",
    "    xaxis=dict(\n",
    "        gridcolor='white',      # x-axis grid color\n",
    "        tickcolor='#682F2F'       # x-axis tick color\n",
    "    ),\n",
    "    yaxis=dict(\n",
    "        gridcolor='white',      # y-axis grid color\n",
    "        tickcolor='#682F2F'       # y-axis tick color\n",
    "    ),\n",
    "    title=dict(\n",
    "        x = 0.5,\n",
    "        y = 0.95,\n",
    "        font=dict(\n",
    "            size=14,            # title size\n",
    "            color='#682F2F',      # title color\n",
    "            family='serif',     # title font family\n",
    "            weight='bold',      # title font weight\n",
    "        )\n",
    "    )\n",
    ")"
   ],
   "metadata": {
    "collapsed": false,
    "ExecuteTime": {
     "end_time": "2024-07-05T15:08:27.895275Z",
     "start_time": "2024-07-05T15:08:27.853107Z"
    }
   },
   "id": "c1d97f1edba2f9a9",
   "execution_count": 2
  },
  {
   "cell_type": "code",
   "outputs": [],
   "source": [],
   "metadata": {
    "collapsed": false,
    "ExecuteTime": {
     "end_time": "2024-07-05T15:08:27.910765Z",
     "start_time": "2024-07-05T15:08:27.897453Z"
    }
   },
   "id": "4f2bd5d559dcddc",
   "execution_count": 2
  },
  {
   "cell_type": "code",
   "execution_count": 3,
   "id": "566cf384-cec5-4234-b145-9275def29a97",
   "metadata": {
    "ExecuteTime": {
     "end_time": "2024-07-05T15:08:32.656500Z",
     "start_time": "2024-07-05T15:08:27.913884Z"
    }
   },
   "outputs": [],
   "source": [
    "# Importing Data\n",
    "df = pd.read_csv('../data/SBAnational.csv', low_memory=False)"
   ]
  },
  {
   "cell_type": "code",
   "execution_count": 4,
   "id": "7db1cdfa-5c0b-4bd2-bf4c-f57abf092298",
   "metadata": {
    "ExecuteTime": {
     "end_time": "2024-07-05T15:08:32.733220Z",
     "start_time": "2024-07-05T15:08:32.659500Z"
    }
   },
   "outputs": [
    {
     "data": {
      "text/plain": "        LoanNr_ChkDgt                            Name          City State  \\\n858899     9232123000                    S & O REPAIR     WORCESTER    MA   \n649714     6514094005                 KMS REALTY, LLC   ARKADELPHIA    AR   \n36462      1278675003  PHYLLIS PORCASE DBA TOEY'S TAV    YOUNGSTOWN    OH   \n716438     7456944006   ROSANE CRUZ dba EZ-4 US CHILD     WORCESTER    MA   \n888549     9773124010         ELECTRIC-GATE STORE INC  SAN FERNANDO    CA   \n\n          Zip                         Bank BankState   NAICS ApprovalDate  \\\n858899   1602         PEOPLE'S UNITED BANK        CT  811111    29-Apr-96   \n649714  71923        SIX BRIDGES CAP. CORP        AR  721110    23-Jul-03   \n36462   44502     CITIZENS BANK NATL ASSOC        RI  722110    22-Apr-05   \n716438   1605     CITIZENS BANK NATL ASSOC        RI  624410    21-May-04   \n888549  91340  NATIONAL BANK OF CALIFORNIA        CA  238290    25-Jan-06   \n\n       ApprovalFY  ...  RevLineCr  LowDoc  ChgOffDate  DisbursementDate  \\\n858899       1996  ...          0       N         NaN         30-Sep-96   \n649714       2003  ...          N       N         NaN         17-Mar-04   \n36462        2005  ...          N       N    5-Oct-09         31-May-05   \n716438       2004  ...          Y       N   23-Aug-12         30-Nov-04   \n888549       2006  ...          0       N         NaN         28-Feb-06   \n\n        DisbursementGross  BalanceGross  MIS_Status ChgOffPrinGr  \\\n858899       $165,000.00         $0.00        P I F       $0.00    \n649714       $742,000.00         $0.00        P I F       $0.00    \n36462         $36,000.00         $0.00       CHGOFF  $16,175.00    \n716438        $40,628.00         $0.00       CHGOFF  $19,910.00    \n888549     $1,717,000.00         $0.00        P I F       $0.00    \n\n                GrAppv        SBA_Appv  \n858899    $165,000.00     $123,750.00   \n649714    $751,000.00     $751,000.00   \n36462      $36,000.00      $18,000.00   \n716438     $20,000.00      $10,000.00   \n888549  $1,717,000.00   $1,287,750.00   \n\n[5 rows x 27 columns]",
      "text/html": "<div>\n<style scoped>\n    .dataframe tbody tr th:only-of-type {\n        vertical-align: middle;\n    }\n\n    .dataframe tbody tr th {\n        vertical-align: top;\n    }\n\n    .dataframe thead th {\n        text-align: right;\n    }\n</style>\n<table border=\"1\" class=\"dataframe\">\n  <thead>\n    <tr style=\"text-align: right;\">\n      <th></th>\n      <th>LoanNr_ChkDgt</th>\n      <th>Name</th>\n      <th>City</th>\n      <th>State</th>\n      <th>Zip</th>\n      <th>Bank</th>\n      <th>BankState</th>\n      <th>NAICS</th>\n      <th>ApprovalDate</th>\n      <th>ApprovalFY</th>\n      <th>...</th>\n      <th>RevLineCr</th>\n      <th>LowDoc</th>\n      <th>ChgOffDate</th>\n      <th>DisbursementDate</th>\n      <th>DisbursementGross</th>\n      <th>BalanceGross</th>\n      <th>MIS_Status</th>\n      <th>ChgOffPrinGr</th>\n      <th>GrAppv</th>\n      <th>SBA_Appv</th>\n    </tr>\n  </thead>\n  <tbody>\n    <tr>\n      <th>858899</th>\n      <td>9232123000</td>\n      <td>S &amp; O REPAIR</td>\n      <td>WORCESTER</td>\n      <td>MA</td>\n      <td>1602</td>\n      <td>PEOPLE'S UNITED BANK</td>\n      <td>CT</td>\n      <td>811111</td>\n      <td>29-Apr-96</td>\n      <td>1996</td>\n      <td>...</td>\n      <td>0</td>\n      <td>N</td>\n      <td>NaN</td>\n      <td>30-Sep-96</td>\n      <td>$165,000.00</td>\n      <td>$0.00</td>\n      <td>P I F</td>\n      <td>$0.00</td>\n      <td>$165,000.00</td>\n      <td>$123,750.00</td>\n    </tr>\n    <tr>\n      <th>649714</th>\n      <td>6514094005</td>\n      <td>KMS REALTY, LLC</td>\n      <td>ARKADELPHIA</td>\n      <td>AR</td>\n      <td>71923</td>\n      <td>SIX BRIDGES CAP. CORP</td>\n      <td>AR</td>\n      <td>721110</td>\n      <td>23-Jul-03</td>\n      <td>2003</td>\n      <td>...</td>\n      <td>N</td>\n      <td>N</td>\n      <td>NaN</td>\n      <td>17-Mar-04</td>\n      <td>$742,000.00</td>\n      <td>$0.00</td>\n      <td>P I F</td>\n      <td>$0.00</td>\n      <td>$751,000.00</td>\n      <td>$751,000.00</td>\n    </tr>\n    <tr>\n      <th>36462</th>\n      <td>1278675003</td>\n      <td>PHYLLIS PORCASE DBA TOEY'S TAV</td>\n      <td>YOUNGSTOWN</td>\n      <td>OH</td>\n      <td>44502</td>\n      <td>CITIZENS BANK NATL ASSOC</td>\n      <td>RI</td>\n      <td>722110</td>\n      <td>22-Apr-05</td>\n      <td>2005</td>\n      <td>...</td>\n      <td>N</td>\n      <td>N</td>\n      <td>5-Oct-09</td>\n      <td>31-May-05</td>\n      <td>$36,000.00</td>\n      <td>$0.00</td>\n      <td>CHGOFF</td>\n      <td>$16,175.00</td>\n      <td>$36,000.00</td>\n      <td>$18,000.00</td>\n    </tr>\n    <tr>\n      <th>716438</th>\n      <td>7456944006</td>\n      <td>ROSANE CRUZ dba EZ-4 US CHILD</td>\n      <td>WORCESTER</td>\n      <td>MA</td>\n      <td>1605</td>\n      <td>CITIZENS BANK NATL ASSOC</td>\n      <td>RI</td>\n      <td>624410</td>\n      <td>21-May-04</td>\n      <td>2004</td>\n      <td>...</td>\n      <td>Y</td>\n      <td>N</td>\n      <td>23-Aug-12</td>\n      <td>30-Nov-04</td>\n      <td>$40,628.00</td>\n      <td>$0.00</td>\n      <td>CHGOFF</td>\n      <td>$19,910.00</td>\n      <td>$20,000.00</td>\n      <td>$10,000.00</td>\n    </tr>\n    <tr>\n      <th>888549</th>\n      <td>9773124010</td>\n      <td>ELECTRIC-GATE STORE INC</td>\n      <td>SAN FERNANDO</td>\n      <td>CA</td>\n      <td>91340</td>\n      <td>NATIONAL BANK OF CALIFORNIA</td>\n      <td>CA</td>\n      <td>238290</td>\n      <td>25-Jan-06</td>\n      <td>2006</td>\n      <td>...</td>\n      <td>0</td>\n      <td>N</td>\n      <td>NaN</td>\n      <td>28-Feb-06</td>\n      <td>$1,717,000.00</td>\n      <td>$0.00</td>\n      <td>P I F</td>\n      <td>$0.00</td>\n      <td>$1,717,000.00</td>\n      <td>$1,287,750.00</td>\n    </tr>\n  </tbody>\n</table>\n<p>5 rows × 27 columns</p>\n</div>"
     },
     "execution_count": 4,
     "metadata": {},
     "output_type": "execute_result"
    }
   ],
   "source": [
    "df.sample(5)"
   ]
  },
  {
   "cell_type": "code",
   "execution_count": 4,
   "id": "832faf94-0c16-49fc-a578-ce830094dfa8",
   "metadata": {
    "ExecuteTime": {
     "end_time": "2024-07-05T15:08:32.748478Z",
     "start_time": "2024-07-05T15:08:32.735222Z"
    }
   },
   "outputs": [],
   "source": []
  },
  {
   "cell_type": "markdown",
   "id": "d05eca78-4968-4b26-bb1a-0a4177a52f33",
   "metadata": {},
   "source": [
    "## 1. Basic Information"
   ]
  },
  {
   "cell_type": "code",
   "execution_count": 5,
   "id": "54c3b408-cbce-4e76-8456-078fa6837ded",
   "metadata": {
    "ExecuteTime": {
     "end_time": "2024-07-05T15:08:32.921123Z",
     "start_time": "2024-07-05T15:08:32.750610Z"
    }
   },
   "outputs": [
    {
     "name": "stdout",
     "output_type": "stream",
     "text": [
      "There are 899,164 obseravations and 27 features in the dfset.\n",
      "There are 10 Numerical features and 17 Categorical features in the dfset.\n"
     ]
    }
   ],
   "source": [
    "print(\"There are {:,} obseravations and {} features in the dfset.\".format(df.shape[0], df.shape[1]))\n",
    "print(f'There are {len(df.select_dtypes(exclude=[\"object\"]).columns)} Numerical features and {len(df.select_dtypes(include=[\"object\"]).columns)} Categorical features in the dfset.')"
   ]
  },
  {
   "cell_type": "code",
   "execution_count": 6,
   "id": "32b83a6b-8770-48a7-b00e-9e95d63a5c47",
   "metadata": {
    "ExecuteTime": {
     "end_time": "2024-07-05T15:08:33.386293Z",
     "start_time": "2024-07-05T15:08:32.923269Z"
    }
   },
   "outputs": [
    {
     "name": "stdout",
     "output_type": "stream",
     "text": [
      "<class 'pandas.core.frame.DataFrame'>\n",
      "RangeIndex: 899164 entries, 0 to 899163\n",
      "Data columns (total 27 columns):\n",
      " #   Column             Non-Null Count   Dtype  \n",
      "---  ------             --------------   -----  \n",
      " 0   LoanNr_ChkDgt      899164 non-null  int64  \n",
      " 1   Name               899150 non-null  object \n",
      " 2   City               899134 non-null  object \n",
      " 3   State              899150 non-null  object \n",
      " 4   Zip                899164 non-null  int64  \n",
      " 5   Bank               897605 non-null  object \n",
      " 6   BankState          897598 non-null  object \n",
      " 7   NAICS              899164 non-null  int64  \n",
      " 8   ApprovalDate       899164 non-null  object \n",
      " 9   ApprovalFY         899164 non-null  object \n",
      " 10  Term               899164 non-null  int64  \n",
      " 11  NoEmp              899164 non-null  int64  \n",
      " 12  NewExist           899028 non-null  float64\n",
      " 13  CreateJob          899164 non-null  int64  \n",
      " 14  RetainedJob        899164 non-null  int64  \n",
      " 15  FranchiseCode      899164 non-null  int64  \n",
      " 16  UrbanRural         899164 non-null  int64  \n",
      " 17  RevLineCr          894636 non-null  object \n",
      " 18  LowDoc             896582 non-null  object \n",
      " 19  ChgOffDate         162699 non-null  object \n",
      " 20  DisbursementDate   896796 non-null  object \n",
      " 21  DisbursementGross  899164 non-null  object \n",
      " 22  BalanceGross       899164 non-null  object \n",
      " 23  MIS_Status         897167 non-null  object \n",
      " 24  ChgOffPrinGr       899164 non-null  object \n",
      " 25  GrAppv             899164 non-null  object \n",
      " 26  SBA_Appv           899164 non-null  object \n",
      "dtypes: float64(1), int64(9), object(17)\n",
      "memory usage: 185.2+ MB\n"
     ]
    }
   ],
   "source": [
    "# feature info\n",
    "df.info()"
   ]
  },
  {
   "cell_type": "code",
   "execution_count": 7,
   "id": "f79d6b20-aea7-4143-94c1-25d0c6a31705",
   "metadata": {
    "ExecuteTime": {
     "end_time": "2024-07-05T15:08:33.402440Z",
     "start_time": "2024-07-05T15:08:33.389746Z"
    }
   },
   "outputs": [
    {
     "data": {
      "text/plain": "Index(['LoanNr_ChkDgt', 'Name', 'City', 'State', 'Zip', 'Bank', 'BankState',\n       'NAICS', 'ApprovalDate', 'ApprovalFY', 'Term', 'NoEmp', 'NewExist',\n       'CreateJob', 'RetainedJob', 'FranchiseCode', 'UrbanRural', 'RevLineCr',\n       'LowDoc', 'ChgOffDate', 'DisbursementDate', 'DisbursementGross',\n       'BalanceGross', 'MIS_Status', 'ChgOffPrinGr', 'GrAppv', 'SBA_Appv'],\n      dtype='object')"
     },
     "execution_count": 7,
     "metadata": {},
     "output_type": "execute_result"
    }
   ],
   "source": [
    "df.columns"
   ]
  },
  {
   "cell_type": "markdown",
   "id": "19f4ab9b-2368-46c9-8e21-30fc004d9bd1",
   "metadata": {},
   "source": [
    "### 1.1 Summary Statistics of Numerical Features"
   ]
  },
  {
   "cell_type": "code",
   "execution_count": 7,
   "id": "eeb6142c-d7d6-49a1-a022-33bfdbb904a1",
   "metadata": {
    "ExecuteTime": {
     "end_time": "2024-07-05T15:08:33.417874Z",
     "start_time": "2024-07-05T15:08:33.411804Z"
    }
   },
   "outputs": [],
   "source": []
  },
  {
   "cell_type": "code",
   "execution_count": 8,
   "id": "b7840586-18ba-4b78-a4ec-ebfb63816458",
   "metadata": {
    "ExecuteTime": {
     "end_time": "2024-07-05T15:08:33.790526Z",
     "start_time": "2024-07-05T15:08:33.420876Z"
    }
   },
   "outputs": [
    {
     "data": {
      "text/plain": "<pandas.io.formats.style.Styler at 0x202f568dd60>",
      "text/html": "<style type=\"text/css\">\n#T_28f21_row0_col0, #T_28f21_row1_col0, #T_28f21_row1_col1, #T_28f21_row1_col2, #T_28f21_row1_col4, #T_28f21_row1_col5, #T_28f21_row1_col6, #T_28f21_row1_col7, #T_28f21_row2_col0, #T_28f21_row2_col1, #T_28f21_row2_col2, #T_28f21_row2_col4, #T_28f21_row2_col5, #T_28f21_row2_col6, #T_28f21_row2_col7, #T_28f21_row3_col0, #T_28f21_row4_col0, #T_28f21_row4_col7, #T_28f21_row5_col0, #T_28f21_row6_col0, #T_28f21_row6_col7, #T_28f21_row7_col0, #T_28f21_row7_col7, #T_28f21_row8_col0, #T_28f21_row8_col1, #T_28f21_row8_col2, #T_28f21_row8_col7, #T_28f21_row9_col0 {\n  background-color: lightcoral;\n}\n#T_28f21_row0_col1, #T_28f21_row0_col2, #T_28f21_row0_col3, #T_28f21_row0_col4, #T_28f21_row0_col5, #T_28f21_row0_col6, #T_28f21_row0_col7 {\n  background-color: purple;\n}\n#T_28f21_row1_col3, #T_28f21_row2_col3, #T_28f21_row3_col3, #T_28f21_row4_col3, #T_28f21_row5_col3, #T_28f21_row6_col3, #T_28f21_row6_col4, #T_28f21_row6_col5, #T_28f21_row7_col3, #T_28f21_row7_col4, #T_28f21_row8_col3, #T_28f21_row9_col3, #T_28f21_row9_col4 {\n  background-color: white;\n}\n#T_28f21_row3_col1, #T_28f21_row3_col6, #T_28f21_row3_col7, #T_28f21_row6_col2, #T_28f21_row7_col2 {\n  background-color: lightblue;\n}\n#T_28f21_row3_col2, #T_28f21_row3_col4, #T_28f21_row3_col5, #T_28f21_row4_col1, #T_28f21_row4_col2, #T_28f21_row7_col1 {\n  background-color: lightgreen;\n}\n#T_28f21_row4_col4, #T_28f21_row4_col5, #T_28f21_row4_col6, #T_28f21_row5_col1, #T_28f21_row5_col2, #T_28f21_row5_col4, #T_28f21_row5_col5, #T_28f21_row5_col6, #T_28f21_row5_col7, #T_28f21_row6_col1, #T_28f21_row6_col6, #T_28f21_row7_col5, #T_28f21_row7_col6, #T_28f21_row8_col4, #T_28f21_row8_col5, #T_28f21_row8_col6, #T_28f21_row9_col1, #T_28f21_row9_col2, #T_28f21_row9_col5, #T_28f21_row9_col6, #T_28f21_row9_col7 {\n  background-color: lightyellow;\n}\n</style>\n<table id=\"T_28f21\">\n  <thead>\n    <tr>\n      <th class=\"blank level0\" >&nbsp;</th>\n      <th id=\"T_28f21_level0_col0\" class=\"col_heading level0 col0\" >count</th>\n      <th id=\"T_28f21_level0_col1\" class=\"col_heading level0 col1\" >mean</th>\n      <th id=\"T_28f21_level0_col2\" class=\"col_heading level0 col2\" >std</th>\n      <th id=\"T_28f21_level0_col3\" class=\"col_heading level0 col3\" >min</th>\n      <th id=\"T_28f21_level0_col4\" class=\"col_heading level0 col4\" >25%</th>\n      <th id=\"T_28f21_level0_col5\" class=\"col_heading level0 col5\" >50%</th>\n      <th id=\"T_28f21_level0_col6\" class=\"col_heading level0 col6\" >75%</th>\n      <th id=\"T_28f21_level0_col7\" class=\"col_heading level0 col7\" >max</th>\n    </tr>\n  </thead>\n  <tbody>\n    <tr>\n      <th id=\"T_28f21_level0_row0\" class=\"row_heading level0 row0\" >LoanNr_ChkDgt</th>\n      <td id=\"T_28f21_row0_col0\" class=\"data row0 col0\" >899164.000</td>\n      <td id=\"T_28f21_row0_col1\" class=\"data row0 col1\" >4772612310.594</td>\n      <td id=\"T_28f21_row0_col2\" class=\"data row0 col2\" >2538175037.453</td>\n      <td id=\"T_28f21_row0_col3\" class=\"data row0 col3\" >1000014003.000</td>\n      <td id=\"T_28f21_row0_col4\" class=\"data row0 col4\" >2589757508.500</td>\n      <td id=\"T_28f21_row0_col5\" class=\"data row0 col5\" >4361439006.000</td>\n      <td id=\"T_28f21_row0_col6\" class=\"data row0 col6\" >6904626504.750</td>\n      <td id=\"T_28f21_row0_col7\" class=\"data row0 col7\" >9996003010.000</td>\n    </tr>\n    <tr>\n      <th id=\"T_28f21_level0_row1\" class=\"row_heading level0 row1\" >Zip</th>\n      <td id=\"T_28f21_row1_col0\" class=\"data row1 col0\" >899164.000</td>\n      <td id=\"T_28f21_row1_col1\" class=\"data row1 col1\" >53804.391</td>\n      <td id=\"T_28f21_row1_col2\" class=\"data row1 col2\" >31184.159</td>\n      <td id=\"T_28f21_row1_col3\" class=\"data row1 col3\" >0.000</td>\n      <td id=\"T_28f21_row1_col4\" class=\"data row1 col4\" >27587.000</td>\n      <td id=\"T_28f21_row1_col5\" class=\"data row1 col5\" >55410.000</td>\n      <td id=\"T_28f21_row1_col6\" class=\"data row1 col6\" >83704.000</td>\n      <td id=\"T_28f21_row1_col7\" class=\"data row1 col7\" >99999.000</td>\n    </tr>\n    <tr>\n      <th id=\"T_28f21_level0_row2\" class=\"row_heading level0 row2\" >NAICS</th>\n      <td id=\"T_28f21_row2_col0\" class=\"data row2 col0\" >899164.000</td>\n      <td id=\"T_28f21_row2_col1\" class=\"data row2 col1\" >398660.950</td>\n      <td id=\"T_28f21_row2_col2\" class=\"data row2 col2\" >263318.313</td>\n      <td id=\"T_28f21_row2_col3\" class=\"data row2 col3\" >0.000</td>\n      <td id=\"T_28f21_row2_col4\" class=\"data row2 col4\" >235210.000</td>\n      <td id=\"T_28f21_row2_col5\" class=\"data row2 col5\" >445310.000</td>\n      <td id=\"T_28f21_row2_col6\" class=\"data row2 col6\" >561730.000</td>\n      <td id=\"T_28f21_row2_col7\" class=\"data row2 col7\" >928120.000</td>\n    </tr>\n    <tr>\n      <th id=\"T_28f21_level0_row3\" class=\"row_heading level0 row3\" >Term</th>\n      <td id=\"T_28f21_row3_col0\" class=\"data row3 col0\" >899164.000</td>\n      <td id=\"T_28f21_row3_col1\" class=\"data row3 col1\" >110.773</td>\n      <td id=\"T_28f21_row3_col2\" class=\"data row3 col2\" >78.857</td>\n      <td id=\"T_28f21_row3_col3\" class=\"data row3 col3\" >0.000</td>\n      <td id=\"T_28f21_row3_col4\" class=\"data row3 col4\" >60.000</td>\n      <td id=\"T_28f21_row3_col5\" class=\"data row3 col5\" >84.000</td>\n      <td id=\"T_28f21_row3_col6\" class=\"data row3 col6\" >120.000</td>\n      <td id=\"T_28f21_row3_col7\" class=\"data row3 col7\" >569.000</td>\n    </tr>\n    <tr>\n      <th id=\"T_28f21_level0_row4\" class=\"row_heading level0 row4\" >NoEmp</th>\n      <td id=\"T_28f21_row4_col0\" class=\"data row4 col0\" >899164.000</td>\n      <td id=\"T_28f21_row4_col1\" class=\"data row4 col1\" >11.411</td>\n      <td id=\"T_28f21_row4_col2\" class=\"data row4 col2\" >74.108</td>\n      <td id=\"T_28f21_row4_col3\" class=\"data row4 col3\" >0.000</td>\n      <td id=\"T_28f21_row4_col4\" class=\"data row4 col4\" >2.000</td>\n      <td id=\"T_28f21_row4_col5\" class=\"data row4 col5\" >4.000</td>\n      <td id=\"T_28f21_row4_col6\" class=\"data row4 col6\" >10.000</td>\n      <td id=\"T_28f21_row4_col7\" class=\"data row4 col7\" >9999.000</td>\n    </tr>\n    <tr>\n      <th id=\"T_28f21_level0_row5\" class=\"row_heading level0 row5\" >NewExist</th>\n      <td id=\"T_28f21_row5_col0\" class=\"data row5 col0\" >899028.000</td>\n      <td id=\"T_28f21_row5_col1\" class=\"data row5 col1\" >1.280</td>\n      <td id=\"T_28f21_row5_col2\" class=\"data row5 col2\" >0.452</td>\n      <td id=\"T_28f21_row5_col3\" class=\"data row5 col3\" >0.000</td>\n      <td id=\"T_28f21_row5_col4\" class=\"data row5 col4\" >1.000</td>\n      <td id=\"T_28f21_row5_col5\" class=\"data row5 col5\" >1.000</td>\n      <td id=\"T_28f21_row5_col6\" class=\"data row5 col6\" >2.000</td>\n      <td id=\"T_28f21_row5_col7\" class=\"data row5 col7\" >2.000</td>\n    </tr>\n    <tr>\n      <th id=\"T_28f21_level0_row6\" class=\"row_heading level0 row6\" >CreateJob</th>\n      <td id=\"T_28f21_row6_col0\" class=\"data row6 col0\" >899164.000</td>\n      <td id=\"T_28f21_row6_col1\" class=\"data row6 col1\" >8.430</td>\n      <td id=\"T_28f21_row6_col2\" class=\"data row6 col2\" >236.688</td>\n      <td id=\"T_28f21_row6_col3\" class=\"data row6 col3\" >0.000</td>\n      <td id=\"T_28f21_row6_col4\" class=\"data row6 col4\" >0.000</td>\n      <td id=\"T_28f21_row6_col5\" class=\"data row6 col5\" >0.000</td>\n      <td id=\"T_28f21_row6_col6\" class=\"data row6 col6\" >1.000</td>\n      <td id=\"T_28f21_row6_col7\" class=\"data row6 col7\" >8800.000</td>\n    </tr>\n    <tr>\n      <th id=\"T_28f21_level0_row7\" class=\"row_heading level0 row7\" >RetainedJob</th>\n      <td id=\"T_28f21_row7_col0\" class=\"data row7 col0\" >899164.000</td>\n      <td id=\"T_28f21_row7_col1\" class=\"data row7 col1\" >10.797</td>\n      <td id=\"T_28f21_row7_col2\" class=\"data row7 col2\" >237.121</td>\n      <td id=\"T_28f21_row7_col3\" class=\"data row7 col3\" >0.000</td>\n      <td id=\"T_28f21_row7_col4\" class=\"data row7 col4\" >0.000</td>\n      <td id=\"T_28f21_row7_col5\" class=\"data row7 col5\" >1.000</td>\n      <td id=\"T_28f21_row7_col6\" class=\"data row7 col6\" >4.000</td>\n      <td id=\"T_28f21_row7_col7\" class=\"data row7 col7\" >9500.000</td>\n    </tr>\n    <tr>\n      <th id=\"T_28f21_level0_row8\" class=\"row_heading level0 row8\" >FranchiseCode</th>\n      <td id=\"T_28f21_row8_col0\" class=\"data row8 col0\" >899164.000</td>\n      <td id=\"T_28f21_row8_col1\" class=\"data row8 col1\" >2753.726</td>\n      <td id=\"T_28f21_row8_col2\" class=\"data row8 col2\" >12758.019</td>\n      <td id=\"T_28f21_row8_col3\" class=\"data row8 col3\" >0.000</td>\n      <td id=\"T_28f21_row8_col4\" class=\"data row8 col4\" >1.000</td>\n      <td id=\"T_28f21_row8_col5\" class=\"data row8 col5\" >1.000</td>\n      <td id=\"T_28f21_row8_col6\" class=\"data row8 col6\" >1.000</td>\n      <td id=\"T_28f21_row8_col7\" class=\"data row8 col7\" >99999.000</td>\n    </tr>\n    <tr>\n      <th id=\"T_28f21_level0_row9\" class=\"row_heading level0 row9\" >UrbanRural</th>\n      <td id=\"T_28f21_row9_col0\" class=\"data row9 col0\" >899164.000</td>\n      <td id=\"T_28f21_row9_col1\" class=\"data row9 col1\" >0.758</td>\n      <td id=\"T_28f21_row9_col2\" class=\"data row9 col2\" >0.646</td>\n      <td id=\"T_28f21_row9_col3\" class=\"data row9 col3\" >0.000</td>\n      <td id=\"T_28f21_row9_col4\" class=\"data row9 col4\" >0.000</td>\n      <td id=\"T_28f21_row9_col5\" class=\"data row9 col5\" >1.000</td>\n      <td id=\"T_28f21_row9_col6\" class=\"data row9 col6\" >1.000</td>\n      <td id=\"T_28f21_row9_col7\" class=\"data row9 col7\" >2.000</td>\n    </tr>\n  </tbody>\n</table>\n"
     },
     "execution_count": 8,
     "metadata": {},
     "output_type": "execute_result"
    }
   ],
   "source": [
    "df.describe().T.round(3).style.applymap(lambda val: 'background-color: {}'.format('white' if val == 0 else 'lightyellow' \n",
    "                                                                             if val <= 10 else 'lightgreen' \n",
    "                                                                             if val <= 100 else 'lightblue' \n",
    "                                                                             if val <= 1000 else 'lightcoral' \n",
    "                                                                             if val <= 1000000 else 'purple')).format(precision=3)"
   ]
  },
  {
   "cell_type": "markdown",
   "id": "3909e473-1a21-42bc-9323-53ae088b5896",
   "metadata": {},
   "source": [
    "### 1.2 Summary Statistics of Categorical Features"
   ]
  },
  {
   "cell_type": "code",
   "outputs": [
    {
     "data": {
      "text/plain": "<pandas.io.formats.style.Styler at 0x2029366a9a0>",
      "text/html": "<style type=\"text/css\">\n#T_80b9e_row0_col0, #T_80b9e_row0_col1, #T_80b9e_row0_col2, #T_80b9e_row0_col3, #T_80b9e_row0_col4, #T_80b9e_row0_col5, #T_80b9e_row0_col6, #T_80b9e_row0_col7, #T_80b9e_row0_col8, #T_80b9e_row0_col9, #T_80b9e_row0_col10, #T_80b9e_row0_col11, #T_80b9e_row0_col12, #T_80b9e_row0_col13, #T_80b9e_row0_col14, #T_80b9e_row0_col15, #T_80b9e_row0_col16 {\n  background-color: lightblue;\n}\n#T_80b9e_row1_col0, #T_80b9e_row1_col1, #T_80b9e_row1_col2, #T_80b9e_row1_col3, #T_80b9e_row1_col4, #T_80b9e_row1_col5, #T_80b9e_row1_col6, #T_80b9e_row1_col7, #T_80b9e_row1_col8, #T_80b9e_row1_col9, #T_80b9e_row1_col10, #T_80b9e_row1_col11, #T_80b9e_row1_col12, #T_80b9e_row1_col13, #T_80b9e_row1_col14, #T_80b9e_row1_col15, #T_80b9e_row1_col16 {\n  background-color: lightgreen;\n}\n#T_80b9e_row2_col0, #T_80b9e_row2_col1, #T_80b9e_row2_col2, #T_80b9e_row2_col3, #T_80b9e_row2_col4, #T_80b9e_row2_col5, #T_80b9e_row2_col6, #T_80b9e_row2_col7, #T_80b9e_row2_col8, #T_80b9e_row2_col9, #T_80b9e_row2_col10, #T_80b9e_row2_col11, #T_80b9e_row2_col12, #T_80b9e_row2_col13, #T_80b9e_row2_col14, #T_80b9e_row2_col15, #T_80b9e_row2_col16 {\n  background-color: lightcoral;\n}\n#T_80b9e_row3_col0, #T_80b9e_row3_col1, #T_80b9e_row3_col2, #T_80b9e_row3_col3, #T_80b9e_row3_col4, #T_80b9e_row3_col5, #T_80b9e_row3_col6, #T_80b9e_row3_col7, #T_80b9e_row3_col8, #T_80b9e_row3_col9, #T_80b9e_row3_col10, #T_80b9e_row3_col11, #T_80b9e_row3_col12, #T_80b9e_row3_col13, #T_80b9e_row3_col14, #T_80b9e_row3_col15, #T_80b9e_row3_col16 {\n  background-color: lightyellow;\n}\n</style>\n<table id=\"T_80b9e\">\n  <thead>\n    <tr>\n      <th class=\"blank level0\" >&nbsp;</th>\n      <th id=\"T_80b9e_level0_col0\" class=\"col_heading level0 col0\" >Name</th>\n      <th id=\"T_80b9e_level0_col1\" class=\"col_heading level0 col1\" >City</th>\n      <th id=\"T_80b9e_level0_col2\" class=\"col_heading level0 col2\" >State</th>\n      <th id=\"T_80b9e_level0_col3\" class=\"col_heading level0 col3\" >Bank</th>\n      <th id=\"T_80b9e_level0_col4\" class=\"col_heading level0 col4\" >BankState</th>\n      <th id=\"T_80b9e_level0_col5\" class=\"col_heading level0 col5\" >ApprovalDate</th>\n      <th id=\"T_80b9e_level0_col6\" class=\"col_heading level0 col6\" >ApprovalFY</th>\n      <th id=\"T_80b9e_level0_col7\" class=\"col_heading level0 col7\" >RevLineCr</th>\n      <th id=\"T_80b9e_level0_col8\" class=\"col_heading level0 col8\" >LowDoc</th>\n      <th id=\"T_80b9e_level0_col9\" class=\"col_heading level0 col9\" >ChgOffDate</th>\n      <th id=\"T_80b9e_level0_col10\" class=\"col_heading level0 col10\" >DisbursementDate</th>\n      <th id=\"T_80b9e_level0_col11\" class=\"col_heading level0 col11\" >DisbursementGross</th>\n      <th id=\"T_80b9e_level0_col12\" class=\"col_heading level0 col12\" >BalanceGross</th>\n      <th id=\"T_80b9e_level0_col13\" class=\"col_heading level0 col13\" >MIS_Status</th>\n      <th id=\"T_80b9e_level0_col14\" class=\"col_heading level0 col14\" >ChgOffPrinGr</th>\n      <th id=\"T_80b9e_level0_col15\" class=\"col_heading level0 col15\" >GrAppv</th>\n      <th id=\"T_80b9e_level0_col16\" class=\"col_heading level0 col16\" >SBA_Appv</th>\n    </tr>\n  </thead>\n  <tbody>\n    <tr>\n      <th id=\"T_80b9e_level0_row0\" class=\"row_heading level0 row0\" >count</th>\n      <td id=\"T_80b9e_row0_col0\" class=\"data row0 col0\" >899150</td>\n      <td id=\"T_80b9e_row0_col1\" class=\"data row0 col1\" >899134</td>\n      <td id=\"T_80b9e_row0_col2\" class=\"data row0 col2\" >899150</td>\n      <td id=\"T_80b9e_row0_col3\" class=\"data row0 col3\" >897605</td>\n      <td id=\"T_80b9e_row0_col4\" class=\"data row0 col4\" >897598</td>\n      <td id=\"T_80b9e_row0_col5\" class=\"data row0 col5\" >899164</td>\n      <td id=\"T_80b9e_row0_col6\" class=\"data row0 col6\" >899164</td>\n      <td id=\"T_80b9e_row0_col7\" class=\"data row0 col7\" >894636</td>\n      <td id=\"T_80b9e_row0_col8\" class=\"data row0 col8\" >896582</td>\n      <td id=\"T_80b9e_row0_col9\" class=\"data row0 col9\" >162699</td>\n      <td id=\"T_80b9e_row0_col10\" class=\"data row0 col10\" >896796</td>\n      <td id=\"T_80b9e_row0_col11\" class=\"data row0 col11\" >899164</td>\n      <td id=\"T_80b9e_row0_col12\" class=\"data row0 col12\" >899164</td>\n      <td id=\"T_80b9e_row0_col13\" class=\"data row0 col13\" >897167</td>\n      <td id=\"T_80b9e_row0_col14\" class=\"data row0 col14\" >899164</td>\n      <td id=\"T_80b9e_row0_col15\" class=\"data row0 col15\" >899164</td>\n      <td id=\"T_80b9e_row0_col16\" class=\"data row0 col16\" >899164</td>\n    </tr>\n    <tr>\n      <th id=\"T_80b9e_level0_row1\" class=\"row_heading level0 row1\" >unique</th>\n      <td id=\"T_80b9e_row1_col0\" class=\"data row1 col0\" >779583</td>\n      <td id=\"T_80b9e_row1_col1\" class=\"data row1 col1\" >32581</td>\n      <td id=\"T_80b9e_row1_col2\" class=\"data row1 col2\" >51</td>\n      <td id=\"T_80b9e_row1_col3\" class=\"data row1 col3\" >5802</td>\n      <td id=\"T_80b9e_row1_col4\" class=\"data row1 col4\" >56</td>\n      <td id=\"T_80b9e_row1_col5\" class=\"data row1 col5\" >9859</td>\n      <td id=\"T_80b9e_row1_col6\" class=\"data row1 col6\" >52</td>\n      <td id=\"T_80b9e_row1_col7\" class=\"data row1 col7\" >18</td>\n      <td id=\"T_80b9e_row1_col8\" class=\"data row1 col8\" >8</td>\n      <td id=\"T_80b9e_row1_col9\" class=\"data row1 col9\" >6448</td>\n      <td id=\"T_80b9e_row1_col10\" class=\"data row1 col10\" >8472</td>\n      <td id=\"T_80b9e_row1_col11\" class=\"data row1 col11\" >118859</td>\n      <td id=\"T_80b9e_row1_col12\" class=\"data row1 col12\" >15</td>\n      <td id=\"T_80b9e_row1_col13\" class=\"data row1 col13\" >2</td>\n      <td id=\"T_80b9e_row1_col14\" class=\"data row1 col14\" >83165</td>\n      <td id=\"T_80b9e_row1_col15\" class=\"data row1 col15\" >22128</td>\n      <td id=\"T_80b9e_row1_col16\" class=\"data row1 col16\" >38326</td>\n    </tr>\n    <tr>\n      <th id=\"T_80b9e_level0_row2\" class=\"row_heading level0 row2\" >top</th>\n      <td id=\"T_80b9e_row2_col0\" class=\"data row2 col0\" >SUBWAY</td>\n      <td id=\"T_80b9e_row2_col1\" class=\"data row2 col1\" >LOS ANGELES</td>\n      <td id=\"T_80b9e_row2_col2\" class=\"data row2 col2\" >CA</td>\n      <td id=\"T_80b9e_row2_col3\" class=\"data row2 col3\" >BANK OF AMERICA NATL ASSOC</td>\n      <td id=\"T_80b9e_row2_col4\" class=\"data row2 col4\" >CA</td>\n      <td id=\"T_80b9e_row2_col5\" class=\"data row2 col5\" >7-Jul-93</td>\n      <td id=\"T_80b9e_row2_col6\" class=\"data row2 col6\" >2005</td>\n      <td id=\"T_80b9e_row2_col7\" class=\"data row2 col7\" >N</td>\n      <td id=\"T_80b9e_row2_col8\" class=\"data row2 col8\" >N</td>\n      <td id=\"T_80b9e_row2_col9\" class=\"data row2 col9\" >13-Mar-10</td>\n      <td id=\"T_80b9e_row2_col10\" class=\"data row2 col10\" >31-Jul-95</td>\n      <td id=\"T_80b9e_row2_col11\" class=\"data row2 col11\" >$50,000.00 </td>\n      <td id=\"T_80b9e_row2_col12\" class=\"data row2 col12\" >$0.00 </td>\n      <td id=\"T_80b9e_row2_col13\" class=\"data row2 col13\" >P I F</td>\n      <td id=\"T_80b9e_row2_col14\" class=\"data row2 col14\" >$0.00 </td>\n      <td id=\"T_80b9e_row2_col15\" class=\"data row2 col15\" >$50,000.00 </td>\n      <td id=\"T_80b9e_row2_col16\" class=\"data row2 col16\" >$25,000.00 </td>\n    </tr>\n    <tr>\n      <th id=\"T_80b9e_level0_row3\" class=\"row_heading level0 row3\" >freq</th>\n      <td id=\"T_80b9e_row3_col0\" class=\"data row3 col0\" >1269</td>\n      <td id=\"T_80b9e_row3_col1\" class=\"data row3 col1\" >11558</td>\n      <td id=\"T_80b9e_row3_col2\" class=\"data row3 col2\" >130619</td>\n      <td id=\"T_80b9e_row3_col3\" class=\"data row3 col3\" >86853</td>\n      <td id=\"T_80b9e_row3_col4\" class=\"data row3 col4\" >118116</td>\n      <td id=\"T_80b9e_row3_col5\" class=\"data row3 col5\" >1131</td>\n      <td id=\"T_80b9e_row3_col6\" class=\"data row3 col6\" >77525</td>\n      <td id=\"T_80b9e_row3_col7\" class=\"data row3 col7\" >420288</td>\n      <td id=\"T_80b9e_row3_col8\" class=\"data row3 col8\" >782822</td>\n      <td id=\"T_80b9e_row3_col9\" class=\"data row3 col9\" >734</td>\n      <td id=\"T_80b9e_row3_col10\" class=\"data row3 col10\" >10371</td>\n      <td id=\"T_80b9e_row3_col11\" class=\"data row3 col11\" >43787</td>\n      <td id=\"T_80b9e_row3_col12\" class=\"data row3 col12\" >899150</td>\n      <td id=\"T_80b9e_row3_col13\" class=\"data row3 col13\" >739609</td>\n      <td id=\"T_80b9e_row3_col14\" class=\"data row3 col14\" >737152</td>\n      <td id=\"T_80b9e_row3_col15\" class=\"data row3 col15\" >69394</td>\n      <td id=\"T_80b9e_row3_col16\" class=\"data row3 col16\" >49579</td>\n    </tr>\n  </tbody>\n</table>\n"
     },
     "execution_count": 9,
     "metadata": {},
     "output_type": "execute_result"
    }
   ],
   "source": [
    "df.select_dtypes(include=[\"object\"]).describe().style.apply(\n",
    "    lambda x: ['background-color: lightblue' if x.name == 'count' else\n",
    "               'background-color: lightgreen' if x.name == 'unique' else\n",
    "               'background-color: lightcoral' if x.name == 'top' else\n",
    "               'background-color: lightyellow' if x.name == 'freq' else ''\n",
    "               for _ in x], axis=1\n",
    ")"
   ],
   "metadata": {
    "ExecuteTime": {
     "end_time": "2024-07-05T15:08:36.390102Z",
     "start_time": "2024-07-05T15:08:33.792526Z"
    }
   },
   "id": "a3854c46-d42a-4525-bec0-f7c6f8e8be6d",
   "execution_count": 9
  },
  {
   "cell_type": "markdown",
   "source": [
    "## 2. Data Cleaning & Processing"
   ],
   "metadata": {},
   "id": "78a02b8f-32d3-433c-97f9-07afc46fe872"
  },
  {
   "cell_type": "markdown",
   "id": "32ec4c58-a7b9-463d-9c3a-c10cd6f5b67d",
   "metadata": {},
   "source": [
    "### 2.1 Handling Features "
   ]
  },
  {
   "cell_type": "code",
   "outputs": [
    {
     "name": "stdout",
     "output_type": "stream",
     "text": [
      "<class 'pandas.core.frame.DataFrame'>\n",
      "RangeIndex: 899164 entries, 0 to 899163\n",
      "Data columns (total 27 columns):\n",
      " #   Column             Non-Null Count   Dtype  \n",
      "---  ------             --------------   -----  \n",
      " 0   LoanNr_ChkDgt      899164 non-null  int64  \n",
      " 1   Name               899150 non-null  object \n",
      " 2   City               899134 non-null  object \n",
      " 3   State              899150 non-null  object \n",
      " 4   Zip                899164 non-null  int64  \n",
      " 5   Bank               897605 non-null  object \n",
      " 6   BankState          897598 non-null  object \n",
      " 7   NAICS              899164 non-null  int64  \n",
      " 8   ApprovalDate       899164 non-null  object \n",
      " 9   ApprovalFY         899164 non-null  object \n",
      " 10  Term               899164 non-null  int64  \n",
      " 11  NoEmp              899164 non-null  int64  \n",
      " 12  NewExist           899028 non-null  float64\n",
      " 13  CreateJob          899164 non-null  int64  \n",
      " 14  RetainedJob        899164 non-null  int64  \n",
      " 15  FranchiseCode      899164 non-null  int64  \n",
      " 16  UrbanRural         899164 non-null  int64  \n",
      " 17  RevLineCr          894636 non-null  object \n",
      " 18  LowDoc             896582 non-null  object \n",
      " 19  ChgOffDate         162699 non-null  object \n",
      " 20  DisbursementDate   896796 non-null  object \n",
      " 21  DisbursementGross  899164 non-null  object \n",
      " 22  BalanceGross       899164 non-null  object \n",
      " 23  MIS_Status         897167 non-null  object \n",
      " 24  ChgOffPrinGr       899164 non-null  object \n",
      " 25  GrAppv             899164 non-null  object \n",
      " 26  SBA_Appv           899164 non-null  object \n",
      "dtypes: float64(1), int64(9), object(17)\n",
      "memory usage: 185.2+ MB\n"
     ]
    }
   ],
   "source": [
    "df.info()"
   ],
   "metadata": {
    "collapsed": false,
    "ExecuteTime": {
     "end_time": "2024-07-05T15:08:36.872763Z",
     "start_time": "2024-07-05T15:08:36.393099Z"
    }
   },
   "id": "3c11633ad67ee055",
   "execution_count": 10
  },
  {
   "cell_type": "code",
   "execution_count": 11,
   "id": "1be6f15b-aae3-4d20-9885-a35e87b00e12",
   "metadata": {
    "ExecuteTime": {
     "end_time": "2024-07-05T15:08:36.888472Z",
     "start_time": "2024-07-05T15:08:36.874185Z"
    }
   },
   "outputs": [],
   "source": [
    "# find symbols\n",
    "regex_pattern = r'[^0-9a-zA-Z]'\n",
    "\n",
    "def find_symbols(cols, regex_pattern):\n",
    "    for col in cols:\n",
    "        symbs = []\n",
    "        for s in df[col]:\n",
    "            s = str(s)\n",
    "            sym = re.findall(regex_pattern, s)\n",
    "            symbs.extend(sym)\n",
    "        if symbs:\n",
    "            symbs_str = ', '.join(set(symbs))\n",
    "            print(f'Column: {col} ==> {symbs_str}')"
   ]
  },
  {
   "cell_type": "code",
   "execution_count": 12,
   "id": "ea30682e-c8bb-4513-9e13-99b6409bc585",
   "metadata": {
    "ExecuteTime": {
     "end_time": "2024-07-05T15:09:06.144270Z",
     "start_time": "2024-07-05T15:08:36.891469Z"
    }
   },
   "outputs": [
    {
     "name": "stdout",
     "output_type": "stream",
     "text": [
      "Column: Name ==> ,, ', >, &, (, \", #, ;, _, ), \\, ., ], ?, +, ^, -, <, $, /, !, =, `, @, [, %, :, *,  \n",
      "Column: City ==> `, @, [, ,, ^, -, ', ;, :, ), *, /, ., (, &, \\, #,  \n",
      "Column: Bank ==> +, ,, %, -, ', :, ), /, *, ., &, (, #,  \n",
      "Column: ApprovalDate ==> -\n",
      "Column: RevLineCr ==> ,, -, `, .\n",
      "Column: ChgOffDate ==> -\n",
      "Column: DisbursementDate ==> -\n",
      "Column: DisbursementGross ==> ,, $, .,  \n",
      "Column: BalanceGross ==> ,, $, .,  \n",
      "Column: MIS_Status ==>  \n",
      "Column: ChgOffPrinGr ==> ,, $, .,  \n",
      "Column: GrAppv ==> ,, $, .,  \n",
      "Column: SBA_Appv ==> ,, $, .,  \n"
     ]
    }
   ],
   "source": [
    "find_symbols(df.select_dtypes(include=['object']).columns, regex_pattern)"
   ]
  },
  {
   "cell_type": "code",
   "outputs": [
    {
     "data": {
      "text/plain": "Index(['Name', 'City', 'State', 'Bank', 'BankState', 'ApprovalDate',\n       'ApprovalFY', 'RevLineCr', 'LowDoc', 'ChgOffDate', 'DisbursementDate',\n       'DisbursementGross', 'BalanceGross', 'MIS_Status', 'ChgOffPrinGr',\n       'GrAppv', 'SBA_Appv'],\n      dtype='object')"
     },
     "execution_count": 13,
     "metadata": {},
     "output_type": "execute_result"
    }
   ],
   "source": [
    "df.select_dtypes(include=['object']).columns"
   ],
   "metadata": {
    "collapsed": false,
    "ExecuteTime": {
     "end_time": "2024-07-05T15:09:06.284499Z",
     "start_time": "2024-07-05T15:09:06.146265Z"
    }
   },
   "id": "6c5c85971b2c2dcc",
   "execution_count": 13
  },
  {
   "cell_type": "markdown",
   "source": [
    "#### 2.1.1 Handling monetary features (DisbursementGross, BalanceGross, ChgOffPrinGr, GrAppv, SBA_Appv)"
   ],
   "metadata": {},
   "id": "248795af-addc-4f16-8f63-4ae078c67d6a"
  },
  {
   "cell_type": "code",
   "outputs": [
    {
     "data": {
      "text/plain": "DisbursementGross\n$50,000.00        43787\n$100,000.00       36714\n$25,000.00        27387\n$150,000.00       23373\n$10,000.00        21328\n                  ...  \n$143,118.00           1\n$23,827.00            1\n$157,338.00           1\n$60,698.00            1\n$1,086,300.00         1\nName: count, Length: 118859, dtype: int64"
     },
     "execution_count": 14,
     "metadata": {},
     "output_type": "execute_result"
    }
   ],
   "source": [
    "df['DisbursementGross'].value_counts()"
   ],
   "metadata": {
    "ExecuteTime": {
     "end_time": "2024-07-05T15:09:06.456708Z",
     "start_time": "2024-07-05T15:09:06.286615Z"
    }
   },
   "id": "941fa6f3-2a0d-41c4-afdc-c50442184826",
   "execution_count": 14
  },
  {
   "cell_type": "markdown",
   "id": "31d74ca7-6455-4cf6-ac97-416de56d6442",
   "metadata": {},
   "source": []
  },
  {
   "cell_type": "code",
   "execution_count": 15,
   "id": "2daf44a8-f57c-4615-8457-f1a2ad030e4d",
   "metadata": {
    "ExecuteTime": {
     "end_time": "2024-07-05T15:09:06.472002Z",
     "start_time": "2024-07-05T15:09:06.458707Z"
    }
   },
   "outputs": [],
   "source": [
    "#remove , $ and ' '"
   ]
  },
  {
   "cell_type": "code",
   "execution_count": 16,
   "id": "6781ff0b-8ce2-4ddc-8634-162dabe30aff",
   "metadata": {
    "ExecuteTime": {
     "end_time": "2024-07-05T15:09:06.487589Z",
     "start_time": "2024-07-05T15:09:06.474110Z"
    }
   },
   "outputs": [],
   "source": [
    "def remove_symbols(cols):\n",
    "    for col in cols:\n",
    "        df[col] = df[col].str.replace('$', '').str.replace(',', '').str.replace(' ', '')"
   ]
  },
  {
   "cell_type": "code",
   "execution_count": 17,
   "id": "74dbd9fa-97a5-48a7-b4b7-e3a68d8320b2",
   "metadata": {
    "ExecuteTime": {
     "end_time": "2024-07-05T15:09:11.243863Z",
     "start_time": "2024-07-05T15:09:06.489688Z"
    }
   },
   "outputs": [],
   "source": [
    "cols = ['DisbursementGross', 'BalanceGross', 'ChgOffPrinGr' , 'GrAppv', 'SBA_Appv']\n",
    "remove_symbols(cols)"
   ]
  },
  {
   "cell_type": "code",
   "execution_count": 18,
   "id": "da8b2017-44c0-410a-98c9-aef94b61a8c3",
   "metadata": {
    "ExecuteTime": {
     "end_time": "2024-07-05T15:09:11.482702Z",
     "start_time": "2024-07-05T15:09:11.245926Z"
    }
   },
   "outputs": [
    {
     "data": {
      "text/plain": "DisbursementGross\n50000.00      43787\n100000.00     36714\n25000.00      27387\n150000.00     23373\n10000.00      21328\n              ...  \n143118.00         1\n23827.00          1\n157338.00         1\n60698.00          1\n1086300.00        1\nName: count, Length: 118859, dtype: int64"
     },
     "execution_count": 18,
     "metadata": {},
     "output_type": "execute_result"
    }
   ],
   "source": [
    "df['DisbursementGross'].value_counts()"
   ]
  },
  {
   "cell_type": "code",
   "execution_count": 19,
   "id": "80d176ba-2f7f-40d9-a966-f6d0f9be4e41",
   "metadata": {
    "ExecuteTime": {
     "end_time": "2024-07-05T15:09:11.498742Z",
     "start_time": "2024-07-05T15:09:11.485708Z"
    }
   },
   "outputs": [
    {
     "data": {
      "text/plain": "dtype('O')"
     },
     "execution_count": 19,
     "metadata": {},
     "output_type": "execute_result"
    }
   ],
   "source": [
    "df['DisbursementGross'].dtype"
   ]
  },
  {
   "cell_type": "code",
   "execution_count": 20,
   "id": "31caa811-92d4-446d-bf95-b07d1c776d15",
   "metadata": {
    "ExecuteTime": {
     "end_time": "2024-07-05T15:09:12.452178Z",
     "start_time": "2024-07-05T15:09:11.500807Z"
    }
   },
   "outputs": [],
   "source": [
    "# convert to float\n",
    "for col in cols:\n",
    "    df[col] = df[col].astype('float64')"
   ]
  },
  {
   "cell_type": "code",
   "execution_count": 21,
   "id": "410003b0-363f-46b3-a390-b679db200498",
   "metadata": {
    "ExecuteTime": {
     "end_time": "2024-07-05T15:09:12.639283Z",
     "start_time": "2024-07-05T15:09:12.454185Z"
    }
   },
   "outputs": [
    {
     "data": {
      "text/plain": "<pandas.io.formats.style.Styler at 0x2029301cf10>",
      "text/html": "<style type=\"text/css\">\n#T_29992_row0_col0, #T_29992_row0_col1, #T_29992_row0_col2, #T_29992_row0_col4, #T_29992_row0_col5, #T_29992_row0_col6, #T_29992_row1_col0, #T_29992_row1_col2, #T_29992_row1_col7, #T_29992_row2_col0, #T_29992_row2_col1, #T_29992_row2_col2, #T_29992_row3_col0, #T_29992_row3_col1, #T_29992_row3_col2, #T_29992_row3_col4, #T_29992_row3_col5, #T_29992_row3_col6, #T_29992_row4_col0, #T_29992_row4_col1, #T_29992_row4_col2, #T_29992_row4_col4, #T_29992_row4_col5, #T_29992_row4_col6 {\n  background-color: lightcoral;\n}\n#T_29992_row0_col3, #T_29992_row1_col3, #T_29992_row1_col4, #T_29992_row1_col5, #T_29992_row1_col6, #T_29992_row2_col3, #T_29992_row2_col4, #T_29992_row2_col5, #T_29992_row2_col6 {\n  background-color: white;\n}\n#T_29992_row0_col7, #T_29992_row2_col7, #T_29992_row3_col7, #T_29992_row4_col7 {\n  background-color: purple;\n}\n#T_29992_row1_col1 {\n  background-color: lightyellow;\n}\n#T_29992_row3_col3 {\n  background-color: lightblue;\n}\n#T_29992_row4_col3 {\n  background-color: lightgreen;\n}\n</style>\n<table id=\"T_29992\">\n  <thead>\n    <tr>\n      <th class=\"blank level0\" >&nbsp;</th>\n      <th id=\"T_29992_level0_col0\" class=\"col_heading level0 col0\" >count</th>\n      <th id=\"T_29992_level0_col1\" class=\"col_heading level0 col1\" >mean</th>\n      <th id=\"T_29992_level0_col2\" class=\"col_heading level0 col2\" >std</th>\n      <th id=\"T_29992_level0_col3\" class=\"col_heading level0 col3\" >min</th>\n      <th id=\"T_29992_level0_col4\" class=\"col_heading level0 col4\" >25%</th>\n      <th id=\"T_29992_level0_col5\" class=\"col_heading level0 col5\" >50%</th>\n      <th id=\"T_29992_level0_col6\" class=\"col_heading level0 col6\" >75%</th>\n      <th id=\"T_29992_level0_col7\" class=\"col_heading level0 col7\" >max</th>\n    </tr>\n  </thead>\n  <tbody>\n    <tr>\n      <th id=\"T_29992_level0_row0\" class=\"row_heading level0 row0\" >DisbursementGross</th>\n      <td id=\"T_29992_row0_col0\" class=\"data row0 col0\" >899164.000</td>\n      <td id=\"T_29992_row0_col1\" class=\"data row0 col1\" >201154.017</td>\n      <td id=\"T_29992_row0_col2\" class=\"data row0 col2\" >287640.850</td>\n      <td id=\"T_29992_row0_col3\" class=\"data row0 col3\" >0.000</td>\n      <td id=\"T_29992_row0_col4\" class=\"data row0 col4\" >42000.000</td>\n      <td id=\"T_29992_row0_col5\" class=\"data row0 col5\" >100000.000</td>\n      <td id=\"T_29992_row0_col6\" class=\"data row0 col6\" >238000.000</td>\n      <td id=\"T_29992_row0_col7\" class=\"data row0 col7\" >11446325.000</td>\n    </tr>\n    <tr>\n      <th id=\"T_29992_level0_row1\" class=\"row_heading level0 row1\" >BalanceGross</th>\n      <td id=\"T_29992_row1_col0\" class=\"data row1 col0\" >899164.000</td>\n      <td id=\"T_29992_row1_col1\" class=\"data row1 col1\" >2.989</td>\n      <td id=\"T_29992_row1_col2\" class=\"data row1 col2\" >1442.162</td>\n      <td id=\"T_29992_row1_col3\" class=\"data row1 col3\" >0.000</td>\n      <td id=\"T_29992_row1_col4\" class=\"data row1 col4\" >0.000</td>\n      <td id=\"T_29992_row1_col5\" class=\"data row1 col5\" >0.000</td>\n      <td id=\"T_29992_row1_col6\" class=\"data row1 col6\" >0.000</td>\n      <td id=\"T_29992_row1_col7\" class=\"data row1 col7\" >996262.000</td>\n    </tr>\n    <tr>\n      <th id=\"T_29992_level0_row2\" class=\"row_heading level0 row2\" >ChgOffPrinGr</th>\n      <td id=\"T_29992_row2_col0\" class=\"data row2 col0\" >899164.000</td>\n      <td id=\"T_29992_row2_col1\" class=\"data row2 col1\" >13503.295</td>\n      <td id=\"T_29992_row2_col2\" class=\"data row2 col2\" >65152.293</td>\n      <td id=\"T_29992_row2_col3\" class=\"data row2 col3\" >0.000</td>\n      <td id=\"T_29992_row2_col4\" class=\"data row2 col4\" >0.000</td>\n      <td id=\"T_29992_row2_col5\" class=\"data row2 col5\" >0.000</td>\n      <td id=\"T_29992_row2_col6\" class=\"data row2 col6\" >0.000</td>\n      <td id=\"T_29992_row2_col7\" class=\"data row2 col7\" >3512596.000</td>\n    </tr>\n    <tr>\n      <th id=\"T_29992_level0_row3\" class=\"row_heading level0 row3\" >GrAppv</th>\n      <td id=\"T_29992_row3_col0\" class=\"data row3 col0\" >899164.000</td>\n      <td id=\"T_29992_row3_col1\" class=\"data row3 col1\" >192686.976</td>\n      <td id=\"T_29992_row3_col2\" class=\"data row3 col2\" >283263.391</td>\n      <td id=\"T_29992_row3_col3\" class=\"data row3 col3\" >200.000</td>\n      <td id=\"T_29992_row3_col4\" class=\"data row3 col4\" >35000.000</td>\n      <td id=\"T_29992_row3_col5\" class=\"data row3 col5\" >90000.000</td>\n      <td id=\"T_29992_row3_col6\" class=\"data row3 col6\" >225000.000</td>\n      <td id=\"T_29992_row3_col7\" class=\"data row3 col7\" >5472000.000</td>\n    </tr>\n    <tr>\n      <th id=\"T_29992_level0_row4\" class=\"row_heading level0 row4\" >SBA_Appv</th>\n      <td id=\"T_29992_row4_col0\" class=\"data row4 col0\" >899164.000</td>\n      <td id=\"T_29992_row4_col1\" class=\"data row4 col1\" >149488.788</td>\n      <td id=\"T_29992_row4_col2\" class=\"data row4 col2\" >228414.562</td>\n      <td id=\"T_29992_row4_col3\" class=\"data row4 col3\" >100.000</td>\n      <td id=\"T_29992_row4_col4\" class=\"data row4 col4\" >21250.000</td>\n      <td id=\"T_29992_row4_col5\" class=\"data row4 col5\" >61250.000</td>\n      <td id=\"T_29992_row4_col6\" class=\"data row4 col6\" >175000.000</td>\n      <td id=\"T_29992_row4_col7\" class=\"data row4 col7\" >5472000.000</td>\n    </tr>\n  </tbody>\n</table>\n"
     },
     "execution_count": 21,
     "metadata": {},
     "output_type": "execute_result"
    }
   ],
   "source": [
    "df[cols].describe().T.round(3).style.applymap(lambda val: 'background-color: {}'.format('white' if val == 0 else 'lightyellow' \n",
    "                                                                             if val <= 10 else 'lightgreen' \n",
    "                                                                             if val <= 100 else 'lightblue' \n",
    "                                                                             if val <= 1000 else 'lightcoral' \n",
    "                                                                             if val <= 1000000 else 'purple')).format(precision=3)"
   ]
  },
  {
   "cell_type": "markdown",
   "id": "fe52b615-ce7b-4b6f-9477-4fd85fecaa40",
   "metadata": {},
   "source": [
    "#### 2.1.2 Handling Date features (ApprovalDate, DisbursementDate)"
   ]
  },
  {
   "cell_type": "code",
   "execution_count": 22,
   "id": "768c1fbb-34ce-4490-b46c-285fa3bc9c2b",
   "metadata": {
    "ExecuteTime": {
     "end_time": "2024-07-05T15:09:12.999924Z",
     "start_time": "2024-07-05T15:09:12.641286Z"
    }
   },
   "outputs": [
    {
     "name": "stdout",
     "output_type": "stream",
     "text": [
      "<class 'pandas.core.frame.DataFrame'>\n",
      "RangeIndex: 899164 entries, 0 to 899163\n",
      "Data columns (total 27 columns):\n",
      " #   Column             Non-Null Count   Dtype  \n",
      "---  ------             --------------   -----  \n",
      " 0   LoanNr_ChkDgt      899164 non-null  int64  \n",
      " 1   Name               899150 non-null  object \n",
      " 2   City               899134 non-null  object \n",
      " 3   State              899150 non-null  object \n",
      " 4   Zip                899164 non-null  int64  \n",
      " 5   Bank               897605 non-null  object \n",
      " 6   BankState          897598 non-null  object \n",
      " 7   NAICS              899164 non-null  int64  \n",
      " 8   ApprovalDate       899164 non-null  object \n",
      " 9   ApprovalFY         899164 non-null  object \n",
      " 10  Term               899164 non-null  int64  \n",
      " 11  NoEmp              899164 non-null  int64  \n",
      " 12  NewExist           899028 non-null  float64\n",
      " 13  CreateJob          899164 non-null  int64  \n",
      " 14  RetainedJob        899164 non-null  int64  \n",
      " 15  FranchiseCode      899164 non-null  int64  \n",
      " 16  UrbanRural         899164 non-null  int64  \n",
      " 17  RevLineCr          894636 non-null  object \n",
      " 18  LowDoc             896582 non-null  object \n",
      " 19  ChgOffDate         162699 non-null  object \n",
      " 20  DisbursementDate   896796 non-null  object \n",
      " 21  DisbursementGross  899164 non-null  float64\n",
      " 22  BalanceGross       899164 non-null  float64\n",
      " 23  MIS_Status         897167 non-null  object \n",
      " 24  ChgOffPrinGr       899164 non-null  float64\n",
      " 25  GrAppv             899164 non-null  float64\n",
      " 26  SBA_Appv           899164 non-null  float64\n",
      "dtypes: float64(6), int64(9), object(12)\n",
      "memory usage: 185.2+ MB\n"
     ]
    }
   ],
   "source": [
    "df.info()"
   ]
  },
  {
   "cell_type": "code",
   "outputs": [
    {
     "data": {
      "text/plain": "0    28-Feb-97\n1    28-Feb-97\nName: ApprovalDate, dtype: object"
     },
     "execution_count": 23,
     "metadata": {},
     "output_type": "execute_result"
    }
   ],
   "source": [
    "df['ApprovalDate'].head(2)"
   ],
   "metadata": {
    "collapsed": false,
    "ExecuteTime": {
     "end_time": "2024-07-05T15:09:13.015545Z",
     "start_time": "2024-07-05T15:09:13.002918Z"
    }
   },
   "id": "b5b89add59454e14",
   "execution_count": 23
  },
  {
   "cell_type": "code",
   "outputs": [
    {
     "data": {
      "text/plain": "0    28-Feb-99\n1    31-May-97\nName: DisbursementDate, dtype: object"
     },
     "execution_count": 24,
     "metadata": {},
     "output_type": "execute_result"
    }
   ],
   "source": [
    "df['DisbursementDate'].head(2)"
   ],
   "metadata": {
    "collapsed": false,
    "ExecuteTime": {
     "end_time": "2024-07-05T15:09:13.030991Z",
     "start_time": "2024-07-05T15:09:13.017682Z"
    }
   },
   "id": "fdc9baa86eda1828",
   "execution_count": 24
  },
  {
   "cell_type": "code",
   "execution_count": 25,
   "id": "3652cdb7-cd10-436c-b443-e84e545e1790",
   "metadata": {
    "ExecuteTime": {
     "end_time": "2024-07-05T15:09:13.267406Z",
     "start_time": "2024-07-05T15:09:13.033072Z"
    }
   },
   "outputs": [],
   "source": [
    "# convert 'ApprovalDate', 'DisbursementDate' to date type\n",
    "date_cols = ['ApprovalDate', 'DisbursementDate']\n",
    "for col in date_cols:\n",
    "    df[col] = pd.to_datetime(df[col], format='%d-%b-%y', errors='coerce')"
   ]
  },
  {
   "cell_type": "markdown",
   "source": [
    "#### 2.1.3 ApprovalFY"
   ],
   "metadata": {
    "collapsed": false
   },
   "id": "2da3fb7947e6aea2"
  },
  {
   "cell_type": "code",
   "execution_count": 26,
   "id": "9868ded8-aa36-465d-91df-adfb61498b4e",
   "metadata": {
    "ExecuteTime": {
     "end_time": "2024-07-05T15:09:13.283256Z",
     "start_time": "2024-07-05T15:09:13.269533Z"
    }
   },
   "outputs": [
    {
     "data": {
      "text/plain": "dtype('O')"
     },
     "execution_count": 26,
     "metadata": {},
     "output_type": "execute_result"
    }
   ],
   "source": [
    "# ApprovalFY\n",
    "df['ApprovalFY'].dtype"
   ]
  },
  {
   "cell_type": "code",
   "execution_count": 27,
   "id": "67659302-312a-4906-945e-aa8d43dbdf63",
   "metadata": {
    "ExecuteTime": {
     "end_time": "2024-07-05T15:09:13.329294Z",
     "start_time": "2024-07-05T15:09:13.286260Z"
    }
   },
   "outputs": [
    {
     "data": {
      "text/plain": "ApprovalFY\n2005     77525\n2006     76040\n2007     71876\n2004     68290\n2003     58193\n1995     45758\n2002     44391\n1996     40112\n2008     39540\n1997     37748\n2000     37381\n1999     37363\n2001     37350\n1998     36016\n1994     31598\n1993     23305\n1992     20885\n2009     19126\n2010     16848\n1991     15666\n1990     14859\n1989     13248\n2011     12608\n2012      5997\n2013      2458\n1987      2218\n1986      2118\n1984      2022\n1985      1944\n1988      1898\n1983      1684\n1982       719\n1981       630\n1980       477\n1979       352\n2014       268\n1978       242\n1977       137\n1976        66\n1973        52\n1974        42\n1975        30\n1972        27\n1971        20\n1976A       18\n1970         8\n1969         4\n1967         2\n1968         2\n1965         1\n1966         1\n1962         1\nName: count, dtype: int64"
     },
     "execution_count": 27,
     "metadata": {},
     "output_type": "execute_result"
    }
   ],
   "source": [
    "# ApprovalFY\n",
    "df['ApprovalFY'].value_counts()"
   ]
  },
  {
   "cell_type": "code",
   "execution_count": 28,
   "id": "f1489957-5e51-425e-98f5-8eb83052a473",
   "metadata": {
    "ExecuteTime": {
     "end_time": "2024-07-05T15:09:13.390830Z",
     "start_time": "2024-07-05T15:09:13.332294Z"
    }
   },
   "outputs": [],
   "source": [
    "# remove 'A'\n",
    "df['ApprovalFY'].replace('1976A', 1976, inplace=True)"
   ]
  },
  {
   "cell_type": "code",
   "outputs": [],
   "source": [
    "df['ApprovalFY'] = df['ApprovalFY'].astype(int)"
   ],
   "metadata": {
    "collapsed": false,
    "ExecuteTime": {
     "end_time": "2024-07-05T15:09:13.501175Z",
     "start_time": "2024-07-05T15:09:13.392838Z"
    }
   },
   "id": "4fa52c2393789dac",
   "execution_count": 29
  },
  {
   "cell_type": "markdown",
   "source": [
    "#### 2.1.4 LoanNr_Chkgt, Name"
   ],
   "metadata": {
    "collapsed": false
   },
   "id": "edcac6bd824bdd32"
  },
  {
   "cell_type": "code",
   "outputs": [],
   "source": [
    "# no need these columns --> drop\n",
    "df.drop(['LoanNr_ChkDgt', 'Name'], axis=1, inplace=True)"
   ],
   "metadata": {
    "collapsed": false,
    "ExecuteTime": {
     "end_time": "2024-07-05T15:09:13.627583Z",
     "start_time": "2024-07-05T15:09:13.504205Z"
    }
   },
   "id": "31f9542e9858d6e0",
   "execution_count": 30
  },
  {
   "cell_type": "markdown",
   "source": [
    "#### 2.1.5 City, State, Zip"
   ],
   "metadata": {
    "collapsed": false
   },
   "id": "ebb0165c4a40b5e0"
  },
  {
   "cell_type": "code",
   "outputs": [
    {
     "name": "stdout",
     "output_type": "stream",
     "text": [
      "Unique Cities : 32581 | Dtype : object\n",
      "Unique States : 51    | Dtype : object\n",
      "Unique Zip    : 33611 | Dtype : int64\n"
     ]
    }
   ],
   "source": [
    "print(f'Unique Cities : {df[\"City\"].nunique()} | Dtype : {df[\"City\"].dtype}\\nUnique States : {df[\"State\"].nunique()}    | Dtype : {df[\"State\"].dtype}\\nUnique Zip    : {df[\"Zip\"].nunique()} | Dtype : {df[\"Zip\"].dtype}')"
   ],
   "metadata": {
    "collapsed": false,
    "ExecuteTime": {
     "end_time": "2024-07-05T15:09:13.752040Z",
     "start_time": "2024-07-05T15:09:13.629586Z"
    }
   },
   "id": "37ff281d2533673e",
   "execution_count": 31
  },
  {
   "cell_type": "code",
   "outputs": [],
   "source": [],
   "metadata": {
    "collapsed": false,
    "ExecuteTime": {
     "end_time": "2024-07-05T15:09:13.767530Z",
     "start_time": "2024-07-05T15:09:13.755077Z"
    }
   },
   "id": "b2ae3a96ef0f4a05",
   "execution_count": 31
  },
  {
   "cell_type": "code",
   "outputs": [],
   "source": [],
   "metadata": {
    "collapsed": false,
    "ExecuteTime": {
     "end_time": "2024-07-05T15:09:13.783400Z",
     "start_time": "2024-07-05T15:09:13.770731Z"
    }
   },
   "id": "2f9245f4b2009823",
   "execution_count": 31
  },
  {
   "cell_type": "markdown",
   "source": [
    "#### 2.1.6 Bank, BankState"
   ],
   "metadata": {
    "collapsed": false
   },
   "id": "d890d8f1a06f9189"
  },
  {
   "cell_type": "code",
   "outputs": [
    {
     "data": {
      "text/plain": "               Bank BankState\n0  FIFTH THIRD BANK        OH\n1   1ST SOURCE BANK        IN",
      "text/html": "<div>\n<style scoped>\n    .dataframe tbody tr th:only-of-type {\n        vertical-align: middle;\n    }\n\n    .dataframe tbody tr th {\n        vertical-align: top;\n    }\n\n    .dataframe thead th {\n        text-align: right;\n    }\n</style>\n<table border=\"1\" class=\"dataframe\">\n  <thead>\n    <tr style=\"text-align: right;\">\n      <th></th>\n      <th>Bank</th>\n      <th>BankState</th>\n    </tr>\n  </thead>\n  <tbody>\n    <tr>\n      <th>0</th>\n      <td>FIFTH THIRD BANK</td>\n      <td>OH</td>\n    </tr>\n    <tr>\n      <th>1</th>\n      <td>1ST SOURCE BANK</td>\n      <td>IN</td>\n    </tr>\n  </tbody>\n</table>\n</div>"
     },
     "execution_count": 32,
     "metadata": {},
     "output_type": "execute_result"
    }
   ],
   "source": [
    "df[['Bank', 'BankState']].head(2)"
   ],
   "metadata": {
    "collapsed": false,
    "ExecuteTime": {
     "end_time": "2024-07-05T15:09:13.829586Z",
     "start_time": "2024-07-05T15:09:13.798725Z"
    }
   },
   "id": "67d17013e43f61f5",
   "execution_count": 32
  },
  {
   "cell_type": "code",
   "outputs": [
    {
     "data": {
      "text/plain": "56"
     },
     "execution_count": 33,
     "metadata": {},
     "output_type": "execute_result"
    }
   ],
   "source": [
    "df['BankState'].nunique()"
   ],
   "metadata": {
    "collapsed": false,
    "ExecuteTime": {
     "end_time": "2024-07-05T15:09:13.874909Z",
     "start_time": "2024-07-05T15:09:13.833612Z"
    }
   },
   "id": "46c061e97962f34d",
   "execution_count": 33
  },
  {
   "cell_type": "code",
   "outputs": [
    {
     "data": {
      "text/plain": "5802"
     },
     "execution_count": 34,
     "metadata": {},
     "output_type": "execute_result"
    }
   ],
   "source": [
    "df['Bank'].nunique()"
   ],
   "metadata": {
    "collapsed": false,
    "ExecuteTime": {
     "end_time": "2024-07-05T15:09:13.937093Z",
     "start_time": "2024-07-05T15:09:13.877006Z"
    }
   },
   "id": "4598baa2921dd4e",
   "execution_count": 34
  },
  {
   "cell_type": "markdown",
   "source": [
    "#### 2.1.7 Term"
   ],
   "metadata": {
    "collapsed": false
   },
   "id": "ce8644eee2edfdd"
  },
  {
   "cell_type": "code",
   "outputs": [
    {
     "data": {
      "text/plain": "0    84\n1    60\nName: Term, dtype: int64"
     },
     "execution_count": 35,
     "metadata": {},
     "output_type": "execute_result"
    }
   ],
   "source": [
    "df['Term'].head(2)"
   ],
   "metadata": {
    "collapsed": false,
    "ExecuteTime": {
     "end_time": "2024-07-05T15:09:13.952560Z",
     "start_time": "2024-07-05T15:09:13.940333Z"
    }
   },
   "id": "577985981ee7b69",
   "execution_count": 35
  },
  {
   "cell_type": "markdown",
   "source": [
    "#### 2.1.8 MIS_Status"
   ],
   "metadata": {
    "collapsed": false
   },
   "id": "5c1e08a20e6a845e"
  },
  {
   "cell_type": "code",
   "outputs": [
    {
     "data": {
      "text/plain": "MIS_Status\nP I F     739609\nCHGOFF    157558\nName: count, dtype: int64"
     },
     "execution_count": 36,
     "metadata": {},
     "output_type": "execute_result"
    }
   ],
   "source": [
    "df['MIS_Status'].value_counts()"
   ],
   "metadata": {
    "collapsed": false,
    "ExecuteTime": {
     "end_time": "2024-07-05T15:09:13.997987Z",
     "start_time": "2024-07-05T15:09:13.954776Z"
    }
   },
   "id": "b416db2e9e85f0e1",
   "execution_count": 36
  },
  {
   "cell_type": "markdown",
   "source": [
    "#### 2.1.9 LowDoc"
   ],
   "metadata": {
    "collapsed": false
   },
   "id": "e4da8beb7156da60"
  },
  {
   "cell_type": "code",
   "outputs": [
    {
     "data": {
      "text/plain": "LowDoc\nN    782822\nY    110335\n0      1491\nC       758\nS       603\nA       497\nR        75\n1         1\nName: count, dtype: int64"
     },
     "execution_count": 37,
     "metadata": {},
     "output_type": "execute_result"
    }
   ],
   "source": [
    "df['LowDoc'].value_counts()"
   ],
   "metadata": {
    "collapsed": false,
    "ExecuteTime": {
     "end_time": "2024-07-05T15:09:14.044529Z",
     "start_time": "2024-07-05T15:09:13.999985Z"
    }
   },
   "id": "6b94f689c8fc6174",
   "execution_count": 37
  },
  {
   "cell_type": "code",
   "outputs": [],
   "source": [
    "### LowDoc Loan Program: Y = Yes, N = No Only. Others (0, C, S, A, R, 1) are incompatible. --> replace with NA\n",
    "df['LowDoc'].replace(['0','C', 'S', 'A', 'R', '1'], np.nan, inplace=True)"
   ],
   "metadata": {
    "collapsed": false,
    "ExecuteTime": {
     "end_time": "2024-07-05T15:09:14.245155Z",
     "start_time": "2024-07-05T15:09:14.047536Z"
    }
   },
   "id": "5f108432901702d2",
   "execution_count": 38
  },
  {
   "cell_type": "code",
   "outputs": [
    {
     "data": {
      "text/plain": "LowDoc\nN    782822\nY    110335\nName: count, dtype: int64"
     },
     "execution_count": 39,
     "metadata": {},
     "output_type": "execute_result"
    }
   ],
   "source": [
    "df['LowDoc'].value_counts()"
   ],
   "metadata": {
    "collapsed": false,
    "ExecuteTime": {
     "end_time": "2024-07-05T15:09:14.292812Z",
     "start_time": "2024-07-05T15:09:14.248154Z"
    }
   },
   "id": "4a8c4232a759a29d",
   "execution_count": 39
  },
  {
   "cell_type": "markdown",
   "source": [
    "#### 2.2.10 NoEmp"
   ],
   "metadata": {
    "collapsed": false
   },
   "id": "ab96d592a41e5185"
  },
  {
   "cell_type": "code",
   "outputs": [
    {
     "data": {
      "text/plain": "dtype('int64')"
     },
     "execution_count": 40,
     "metadata": {},
     "output_type": "execute_result"
    }
   ],
   "source": [
    "df['NoEmp'].dtype"
   ],
   "metadata": {
    "collapsed": false,
    "ExecuteTime": {
     "end_time": "2024-07-05T15:09:14.308624Z",
     "start_time": "2024-07-05T15:09:14.295023Z"
    }
   },
   "id": "47493fab27479afc",
   "execution_count": 40
  },
  {
   "cell_type": "markdown",
   "source": [
    "#### 2.2.11 NewExit"
   ],
   "metadata": {
    "collapsed": false
   },
   "id": "16fc3116ae2aeb82"
  },
  {
   "cell_type": "code",
   "outputs": [
    {
     "data": {
      "text/plain": "NewExist\n1.0    644869\n2.0    253125\n0.0      1034\nName: count, dtype: int64"
     },
     "execution_count": 41,
     "metadata": {},
     "output_type": "execute_result"
    }
   ],
   "source": [
    "df['NewExist'].value_counts()"
   ],
   "metadata": {
    "collapsed": false,
    "ExecuteTime": {
     "end_time": "2024-07-05T15:09:14.340061Z",
     "start_time": "2024-07-05T15:09:14.310680Z"
    }
   },
   "id": "f4d674373d5aee46",
   "execution_count": 41
  },
  {
   "cell_type": "markdown",
   "source": [
    "#### 2.2.12 CreateJob"
   ],
   "metadata": {
    "collapsed": false
   },
   "id": "53bd978398361af9"
  },
  {
   "cell_type": "code",
   "outputs": [
    {
     "data": {
      "text/plain": "CreateJob\n0      629248\n1       63174\n2       57831\n3       28806\n4       20511\n        ...  \n171         1\n146         1\n214         1\n179         1\n860         1\nName: count, Length: 246, dtype: int64"
     },
     "execution_count": 42,
     "metadata": {},
     "output_type": "execute_result"
    }
   ],
   "source": [
    "df['CreateJob'].value_counts()"
   ],
   "metadata": {
    "collapsed": false,
    "ExecuteTime": {
     "end_time": "2024-07-05T15:09:14.370843Z",
     "start_time": "2024-07-05T15:09:14.343235Z"
    }
   },
   "id": "3710ee904ade9425",
   "execution_count": 42
  },
  {
   "cell_type": "code",
   "outputs": [
    {
     "data": {
      "text/plain": "IsJobCreated\nN    629248\nY    269916\nName: count, dtype: int64"
     },
     "execution_count": 43,
     "metadata": {},
     "output_type": "execute_result"
    }
   ],
   "source": [
    "## Cronverting 'CreateJob' to new binary variable to find whether a new job is created or not \n",
    "## If CreateJob is 0 ==> No new job created - 0 \n",
    "## else Createjob > 0 ==> New job created - 1 \n",
    "## Remove 'CreateJob'\n",
    "df['IsJobCreated'] =df['CreateJob'].apply(lambda x: 'Y' if x > 0 else 'N')\n",
    "df['IsJobCreated'].value_counts()"
   ],
   "metadata": {
    "collapsed": false,
    "ExecuteTime": {
     "end_time": "2024-07-05T15:09:14.559888Z",
     "start_time": "2024-07-05T15:09:14.374079Z"
    }
   },
   "id": "2944da6e16f309c7",
   "execution_count": 43
  },
  {
   "cell_type": "code",
   "outputs": [],
   "source": [
    "df.drop(['CreateJob'], axis=1, inplace=True)"
   ],
   "metadata": {
    "collapsed": false,
    "ExecuteTime": {
     "end_time": "2024-07-05T15:09:14.668713Z",
     "start_time": "2024-07-05T15:09:14.562894Z"
    }
   },
   "id": "3b6fa07eb70aaa6e",
   "execution_count": 44
  },
  {
   "cell_type": "markdown",
   "source": [
    "#### 2.2.13 RetainedJob "
   ],
   "metadata": {
    "collapsed": false
   },
   "id": "df13283fec1ee29a"
  },
  {
   "cell_type": "code",
   "outputs": [
    {
     "data": {
      "text/plain": "RetainedJob\n0      440403\n1       88790\n2       76851\n3       49963\n4       39666\n        ...  \n191         1\n247         1\n226         1\n675         1\n198         1\nName: count, Length: 358, dtype: int64"
     },
     "execution_count": 45,
     "metadata": {},
     "output_type": "execute_result"
    }
   ],
   "source": [
    "df['RetainedJob'].value_counts()"
   ],
   "metadata": {
    "collapsed": false,
    "ExecuteTime": {
     "end_time": "2024-07-05T15:09:14.700739Z",
     "start_time": "2024-07-05T15:09:14.670712Z"
    }
   },
   "id": "81eba84c4b3ddb93",
   "execution_count": 45
  },
  {
   "cell_type": "code",
   "outputs": [
    {
     "data": {
      "text/plain": "IsJobRetained\nY    458761\nN    440403\nName: count, dtype: int64"
     },
     "execution_count": 46,
     "metadata": {},
     "output_type": "execute_result"
    }
   ],
   "source": [
    "## Cronverting 'RetainedJob' to new binary variable to find whether job is retained or not \n",
    "## If RetainedJob is 0 ==> job not retained - 'N' \n",
    "## else RetainedJob > 0 ==> job in retained - 'Y'\n",
    "## drop 'RetainedJob'\n",
    "df['IsJobRetained'] =df['RetainedJob'].apply(lambda x: 'Y' if x > 0 else 'N')\n",
    "df['IsJobRetained'].value_counts()"
   ],
   "metadata": {
    "collapsed": false,
    "ExecuteTime": {
     "end_time": "2024-07-05T15:09:14.887494Z",
     "start_time": "2024-07-05T15:09:14.702727Z"
    }
   },
   "id": "86cffe9ca4e76746",
   "execution_count": 46
  },
  {
   "cell_type": "code",
   "outputs": [],
   "source": [
    "df.drop(['RetainedJob'], axis=1, inplace=True)"
   ],
   "metadata": {
    "collapsed": false,
    "ExecuteTime": {
     "end_time": "2024-07-05T15:09:15.009283Z",
     "start_time": "2024-07-05T15:09:14.890498Z"
    }
   },
   "id": "ede10ae05e77d6f3",
   "execution_count": 47
  },
  {
   "cell_type": "markdown",
   "source": [
    "#### 2.2.14 FranchiseCode"
   ],
   "metadata": {
    "collapsed": false
   },
   "id": "55a11a9290af2af9"
  },
  {
   "cell_type": "code",
   "outputs": [
    {
     "data": {
      "text/plain": "FranchiseCode\n1        638554\n0        208835\n78760      3373\n68020      1921\n50564      1034\n          ...  \n24421         1\n61615         1\n81580         1\n83876         1\n15930         1\nName: count, Length: 2768, dtype: int64"
     },
     "execution_count": 48,
     "metadata": {},
     "output_type": "execute_result"
    }
   ],
   "source": [
    "df['FranchiseCode'].value_counts()"
   ],
   "metadata": {
    "collapsed": false,
    "ExecuteTime": {
     "end_time": "2024-07-05T15:09:15.040139Z",
     "start_time": "2024-07-05T15:09:15.011402Z"
    }
   },
   "id": "b3b5bd4d847291de",
   "execution_count": 48
  },
  {
   "cell_type": "code",
   "outputs": [
    {
     "data": {
      "text/plain": "IsFranchised\nN    847389\nY     51775\nName: count, dtype: int64"
     },
     "execution_count": 49,
     "metadata": {},
     "output_type": "execute_result"
    }
   ],
   "source": [
    "# Franchise code, (00000 or 00001) = No franchise , then others should be franchise\n",
    "# new column ==> 'IsFranchised' = 'N' , if 0 or 1\n",
    "# 'IsFranchised' = 'Y'  for all other values\n",
    "df['IsFranchised'] = df['FranchiseCode'].apply(lambda x: 'N' if x in [0, 1] else 'Y')\n",
    "df['IsFranchised'].value_counts()"
   ],
   "metadata": {
    "collapsed": false,
    "ExecuteTime": {
     "end_time": "2024-07-05T15:09:15.229662Z",
     "start_time": "2024-07-05T15:09:15.043301Z"
    }
   },
   "id": "67ba96dfe34ab5cf",
   "execution_count": 49
  },
  {
   "cell_type": "code",
   "outputs": [],
   "source": [
    "df.drop(['FranchiseCode'], axis=1, inplace=True)"
   ],
   "metadata": {
    "collapsed": false,
    "ExecuteTime": {
     "end_time": "2024-07-05T15:09:15.372207Z",
     "start_time": "2024-07-05T15:09:15.231656Z"
    }
   },
   "id": "2afcbc65512a9a5",
   "execution_count": 50
  },
  {
   "cell_type": "markdown",
   "source": [
    "#### 2.2.15 UrbanRural"
   ],
   "metadata": {
    "collapsed": false
   },
   "id": "eb422408b475fa0b"
  },
  {
   "cell_type": "code",
   "outputs": [
    {
     "data": {
      "text/plain": "UrbanRural\n1    470654\n0    323167\n2    105343\nName: count, dtype: int64"
     },
     "execution_count": 51,
     "metadata": {},
     "output_type": "execute_result"
    }
   ],
   "source": [
    "df['UrbanRural'].value_counts()"
   ],
   "metadata": {
    "collapsed": false,
    "ExecuteTime": {
     "end_time": "2024-07-05T15:09:15.402248Z",
     "start_time": "2024-07-05T15:09:15.374208Z"
    }
   },
   "id": "6a9eb4a363306579",
   "execution_count": 51
  },
  {
   "cell_type": "code",
   "outputs": [],
   "source": [
    "# 1 = Urban, 2 = rural, 0 = undefined"
   ],
   "metadata": {
    "collapsed": false,
    "ExecuteTime": {
     "end_time": "2024-07-05T15:09:15.417840Z",
     "start_time": "2024-07-05T15:09:15.404352Z"
    }
   },
   "id": "2aaf6054af7fa3f2",
   "execution_count": 52
  },
  {
   "cell_type": "markdown",
   "source": [
    "#### 2.2.16 RevLineCr"
   ],
   "metadata": {
    "collapsed": false
   },
   "id": "226a945b9e3cd9b5"
  },
  {
   "cell_type": "code",
   "outputs": [
    {
     "data": {
      "text/plain": "RevLineCr\nN    420288\n0    257602\nY    201397\nT     15284\n1        23\nR        14\n`        11\n2         6\nC         2\n3         1\n,         1\n7         1\nA         1\n5         1\n.         1\n4         1\n-         1\nQ         1\nName: count, dtype: int64"
     },
     "execution_count": 53,
     "metadata": {},
     "output_type": "execute_result"
    }
   ],
   "source": [
    "df['RevLineCr'].value_counts()"
   ],
   "metadata": {
    "collapsed": false,
    "ExecuteTime": {
     "end_time": "2024-07-05T15:09:15.464922Z",
     "start_time": "2024-07-05T15:09:15.419854Z"
    }
   },
   "id": "993fcf1c8650c0ba",
   "execution_count": 53
  },
  {
   "cell_type": "code",
   "outputs": [],
   "source": [
    "# Revolving line of credit: Y = Yes, N = No, Others incompatible"
   ],
   "metadata": {
    "collapsed": false,
    "ExecuteTime": {
     "end_time": "2024-07-05T15:09:15.480631Z",
     "start_time": "2024-07-05T15:09:15.467586Z"
    }
   },
   "id": "d1349d5f5c512b9",
   "execution_count": 54
  },
  {
   "cell_type": "code",
   "outputs": [],
   "source": [
    "df['RevLineCr'].replace({'Y':'Y', '1':'Y', 'N':'N', '0':'N',r'[^YN]':np.nan}, regex = True, inplace=True)"
   ],
   "metadata": {
    "collapsed": false,
    "ExecuteTime": {
     "end_time": "2024-07-05T15:09:23.023965Z",
     "start_time": "2024-07-05T15:09:15.483776Z"
    }
   },
   "id": "371f6ea2f8da6e60",
   "execution_count": 55
  },
  {
   "cell_type": "code",
   "outputs": [
    {
     "data": {
      "text/plain": "RevLineCr\nN    677890\nY    201420\nName: count, dtype: int64"
     },
     "execution_count": 56,
     "metadata": {},
     "output_type": "execute_result"
    }
   ],
   "source": [
    "df['RevLineCr'].value_counts()"
   ],
   "metadata": {
    "collapsed": false,
    "ExecuteTime": {
     "end_time": "2024-07-05T15:09:23.071290Z",
     "start_time": "2024-07-05T15:09:23.026973Z"
    }
   },
   "id": "11b0ad4b683bb14b",
   "execution_count": 56
  },
  {
   "cell_type": "markdown",
   "source": [
    "#### 2.2.17 NAICS"
   ],
   "metadata": {
    "collapsed": false
   },
   "id": "8a986755cace14fc"
  },
  {
   "cell_type": "code",
   "outputs": [],
   "source": [
    "naics = pd.read_csv('../data/NAICS.csv')"
   ],
   "metadata": {
    "collapsed": false,
    "ExecuteTime": {
     "end_time": "2024-07-05T15:09:23.086996Z",
     "start_time": "2024-07-05T15:09:23.074428Z"
    }
   },
   "id": "b00c5ec9c3925ce7",
   "execution_count": 57
  },
  {
   "cell_type": "code",
   "outputs": [
    {
     "data": {
      "text/plain": "   Sector                                        Description\n0      11         Agriculture, forestry, fishing and hunting\n1      21      Mining, quarrying, and oil and gas extraction\n2      22                                          Utilities\n3      23                                       Construction\n4   31-33                                      Manufacturing\n5      42                                    Wholesale trade\n6   44-45                                       Retail trade\n7   48-49                     Transportation and warehousing\n8      51                                        Information\n9      52                              Finance and insurance\n10     53                 Real estate and rental and leasing\n11     54   Professional, scientific, and technical services\n12     55            Management of companies and enterprises\n13     56  Administrative and support and waste managemen...\n14     61                               Educational services\n15     62                  Health care and social assistance\n16     71                Arts, entertainment, and recreation\n17     72                    Accommodation and food services\n18     81      Other services (except public administration)\n19     92                              Public administration",
      "text/html": "<div>\n<style scoped>\n    .dataframe tbody tr th:only-of-type {\n        vertical-align: middle;\n    }\n\n    .dataframe tbody tr th {\n        vertical-align: top;\n    }\n\n    .dataframe thead th {\n        text-align: right;\n    }\n</style>\n<table border=\"1\" class=\"dataframe\">\n  <thead>\n    <tr style=\"text-align: right;\">\n      <th></th>\n      <th>Sector</th>\n      <th>Description</th>\n    </tr>\n  </thead>\n  <tbody>\n    <tr>\n      <th>0</th>\n      <td>11</td>\n      <td>Agriculture, forestry, fishing and hunting</td>\n    </tr>\n    <tr>\n      <th>1</th>\n      <td>21</td>\n      <td>Mining, quarrying, and oil and gas extraction</td>\n    </tr>\n    <tr>\n      <th>2</th>\n      <td>22</td>\n      <td>Utilities</td>\n    </tr>\n    <tr>\n      <th>3</th>\n      <td>23</td>\n      <td>Construction</td>\n    </tr>\n    <tr>\n      <th>4</th>\n      <td>31-33</td>\n      <td>Manufacturing</td>\n    </tr>\n    <tr>\n      <th>5</th>\n      <td>42</td>\n      <td>Wholesale trade</td>\n    </tr>\n    <tr>\n      <th>6</th>\n      <td>44-45</td>\n      <td>Retail trade</td>\n    </tr>\n    <tr>\n      <th>7</th>\n      <td>48-49</td>\n      <td>Transportation and warehousing</td>\n    </tr>\n    <tr>\n      <th>8</th>\n      <td>51</td>\n      <td>Information</td>\n    </tr>\n    <tr>\n      <th>9</th>\n      <td>52</td>\n      <td>Finance and insurance</td>\n    </tr>\n    <tr>\n      <th>10</th>\n      <td>53</td>\n      <td>Real estate and rental and leasing</td>\n    </tr>\n    <tr>\n      <th>11</th>\n      <td>54</td>\n      <td>Professional, scientific, and technical services</td>\n    </tr>\n    <tr>\n      <th>12</th>\n      <td>55</td>\n      <td>Management of companies and enterprises</td>\n    </tr>\n    <tr>\n      <th>13</th>\n      <td>56</td>\n      <td>Administrative and support and waste managemen...</td>\n    </tr>\n    <tr>\n      <th>14</th>\n      <td>61</td>\n      <td>Educational services</td>\n    </tr>\n    <tr>\n      <th>15</th>\n      <td>62</td>\n      <td>Health care and social assistance</td>\n    </tr>\n    <tr>\n      <th>16</th>\n      <td>71</td>\n      <td>Arts, entertainment, and recreation</td>\n    </tr>\n    <tr>\n      <th>17</th>\n      <td>72</td>\n      <td>Accommodation and food services</td>\n    </tr>\n    <tr>\n      <th>18</th>\n      <td>81</td>\n      <td>Other services (except public administration)</td>\n    </tr>\n    <tr>\n      <th>19</th>\n      <td>92</td>\n      <td>Public administration</td>\n    </tr>\n  </tbody>\n</table>\n</div>"
     },
     "execution_count": 58,
     "metadata": {},
     "output_type": "execute_result"
    }
   ],
   "source": [
    "naics"
   ],
   "metadata": {
    "collapsed": false,
    "ExecuteTime": {
     "end_time": "2024-07-05T15:09:23.102741Z",
     "start_time": "2024-07-05T15:09:23.089095Z"
    }
   },
   "id": "b410192e76cee50a",
   "execution_count": 58
  },
  {
   "cell_type": "code",
   "outputs": [
    {
     "data": {
      "text/plain": "510404         0\n779730         0\n421438    812310\n677658    423610\n663897    447190\nName: NAICS, dtype: int64"
     },
     "execution_count": 59,
     "metadata": {},
     "output_type": "execute_result"
    }
   ],
   "source": [
    "df['NAICS'].sample(5)"
   ],
   "metadata": {
    "collapsed": false,
    "ExecuteTime": {
     "end_time": "2024-07-05T15:09:23.149244Z",
     "start_time": "2024-07-05T15:09:23.104823Z"
    }
   },
   "id": "56dec79b2f6c6f08",
   "execution_count": 59
  },
  {
   "cell_type": "code",
   "outputs": [],
   "source": [
    "#SectorId \n",
    "df['SectorCode'] = df['NAICS'].astype(str).str[:2].astype('int')"
   ],
   "metadata": {
    "collapsed": false,
    "ExecuteTime": {
     "end_time": "2024-07-05T15:09:23.906927Z",
     "start_time": "2024-07-05T15:09:23.152234Z"
    }
   },
   "id": "fa6aedd466185ca1",
   "execution_count": 60
  },
  {
   "cell_type": "code",
   "outputs": [],
   "source": [
    "def get_sectorDesc(id):\n",
    "    for idx, row in naics.iterrows():\n",
    "        sec_code = str(row['Sector'])\n",
    "        sec_des = row['Description']\n",
    "        \n",
    "        if '-' in sec_code:\n",
    "            st, et = sec_code.split('-')\n",
    "            st = int(st)\n",
    "            et = int(et)\n",
    "            if st <= id <= et:\n",
    "                return sec_des\n",
    "        else:\n",
    "            if int(sec_code) == id:\n",
    "                return sec_des"
   ],
   "metadata": {
    "collapsed": false,
    "ExecuteTime": {
     "end_time": "2024-07-05T15:09:23.922507Z",
     "start_time": "2024-07-05T15:09:23.909082Z"
    }
   },
   "id": "d70757502954259",
   "execution_count": 61
  },
  {
   "cell_type": "code",
   "outputs": [],
   "source": [
    "df['SectorDesc'] = df['SectorCode'].apply(get_sectorDesc)"
   ],
   "metadata": {
    "collapsed": false,
    "ExecuteTime": {
     "end_time": "2024-07-05T15:20:47.657754Z",
     "start_time": "2024-07-05T15:09:23.924600Z"
    }
   },
   "id": "eb67f24eb62b996a",
   "execution_count": 62
  },
  {
   "cell_type": "code",
   "outputs": [
    {
     "data": {
      "text/plain": "    NAICS  SectorCode                         SectorDesc\n0  451120          45                       Retail trade\n1  722410          72    Accommodation and food services\n2  621210          62  Health care and social assistance\n3       0           0                               None\n4       0           0                               None",
      "text/html": "<div>\n<style scoped>\n    .dataframe tbody tr th:only-of-type {\n        vertical-align: middle;\n    }\n\n    .dataframe tbody tr th {\n        vertical-align: top;\n    }\n\n    .dataframe thead th {\n        text-align: right;\n    }\n</style>\n<table border=\"1\" class=\"dataframe\">\n  <thead>\n    <tr style=\"text-align: right;\">\n      <th></th>\n      <th>NAICS</th>\n      <th>SectorCode</th>\n      <th>SectorDesc</th>\n    </tr>\n  </thead>\n  <tbody>\n    <tr>\n      <th>0</th>\n      <td>451120</td>\n      <td>45</td>\n      <td>Retail trade</td>\n    </tr>\n    <tr>\n      <th>1</th>\n      <td>722410</td>\n      <td>72</td>\n      <td>Accommodation and food services</td>\n    </tr>\n    <tr>\n      <th>2</th>\n      <td>621210</td>\n      <td>62</td>\n      <td>Health care and social assistance</td>\n    </tr>\n    <tr>\n      <th>3</th>\n      <td>0</td>\n      <td>0</td>\n      <td>None</td>\n    </tr>\n    <tr>\n      <th>4</th>\n      <td>0</td>\n      <td>0</td>\n      <td>None</td>\n    </tr>\n  </tbody>\n</table>\n</div>"
     },
     "execution_count": 63,
     "metadata": {},
     "output_type": "execute_result"
    }
   ],
   "source": [
    "df[['NAICS','SectorCode', 'SectorDesc']].head(5)"
   ],
   "metadata": {
    "collapsed": false,
    "ExecuteTime": {
     "end_time": "2024-07-05T15:20:47.688873Z",
     "start_time": "2024-07-05T15:20:47.658777Z"
    }
   },
   "id": "58b14d75a9d9b671",
   "execution_count": 63
  },
  {
   "cell_type": "code",
   "outputs": [
    {
     "data": {
      "text/plain": "Index(['City', 'State', 'Zip', 'Bank', 'BankState', 'NAICS', 'ApprovalDate',\n       'ApprovalFY', 'Term', 'NoEmp', 'NewExist', 'UrbanRural', 'RevLineCr',\n       'LowDoc', 'ChgOffDate', 'DisbursementDate', 'DisbursementGross',\n       'BalanceGross', 'MIS_Status', 'ChgOffPrinGr', 'GrAppv', 'SBA_Appv',\n       'IsJobCreated', 'IsJobRetained', 'IsFranchised', 'SectorCode',\n       'SectorDesc'],\n      dtype='object')"
     },
     "execution_count": 64,
     "metadata": {},
     "output_type": "execute_result"
    }
   ],
   "source": [
    "df.columns"
   ],
   "metadata": {
    "collapsed": false,
    "ExecuteTime": {
     "end_time": "2024-07-05T15:20:47.704192Z",
     "start_time": "2024-07-05T15:20:47.690939Z"
    }
   },
   "id": "8dcb338e85c8a74e",
   "execution_count": 64
  },
  {
   "cell_type": "markdown",
   "source": [],
   "metadata": {
    "collapsed": false
   },
   "id": "6a0f8a82973fee34"
  },
  {
   "cell_type": "code",
   "outputs": [
    {
     "data": {
      "text/plain": "201948"
     },
     "execution_count": 65,
     "metadata": {},
     "output_type": "execute_result"
    }
   ],
   "source": [
    "df['SectorDesc'].isna().sum()"
   ],
   "metadata": {
    "collapsed": false,
    "ExecuteTime": {
     "end_time": "2024-07-05T15:20:47.735387Z",
     "start_time": "2024-07-05T15:20:47.706257Z"
    }
   },
   "id": "3372d8db7b7f0951",
   "execution_count": 65
  },
  {
   "cell_type": "code",
   "outputs": [
    {
     "data": {
      "text/plain": "201948"
     },
     "execution_count": 66,
     "metadata": {},
     "output_type": "execute_result"
    }
   ],
   "source": [
    "len(df[df['NAICS']==0])"
   ],
   "metadata": {
    "collapsed": false,
    "ExecuteTime": {
     "end_time": "2024-07-05T15:20:47.813338Z",
     "start_time": "2024-07-05T15:20:47.737396Z"
    }
   },
   "id": "539fc204f93ed56c",
   "execution_count": 66
  },
  {
   "cell_type": "code",
   "outputs": [],
   "source": [
    "## 0 are count as null"
   ],
   "metadata": {
    "collapsed": false,
    "ExecuteTime": {
     "end_time": "2024-07-05T15:20:47.829129Z",
     "start_time": "2024-07-05T15:20:47.815478Z"
    }
   },
   "id": "ba70ade74ac3c74f",
   "execution_count": 67
  },
  {
   "cell_type": "code",
   "outputs": [],
   "source": [
    "## Sector_Rate"
   ],
   "metadata": {
    "collapsed": false,
    "ExecuteTime": {
     "end_time": "2024-07-05T15:20:47.845070Z",
     "start_time": "2024-07-05T15:20:47.832258Z"
    }
   },
   "id": "fbf5154e0bf06e6",
   "execution_count": 68
  },
  {
   "cell_type": "code",
   "outputs": [],
   "source": [
    "sec_rate = pd.read_csv('../data/SectorRate.csv')"
   ],
   "metadata": {
    "collapsed": false,
    "ExecuteTime": {
     "end_time": "2024-07-05T15:20:47.861017Z",
     "start_time": "2024-07-05T15:20:47.847213Z"
    }
   },
   "id": "50524fea6b122304",
   "execution_count": 69
  },
  {
   "cell_type": "code",
   "outputs": [
    {
     "data": {
      "text/plain": "   2 digit code                                       Description  \\\n16           51                                       Information   \n6            54  Professional, scientific, and technical services   \n1            11        Agriculture, forestry, fishing and hunting   \n4            22                                         Utilities   \n2            55           Management of companies and enterprises   \n0            21     Mining, quarrying, and oil and gas extraction   \n19           53                Real estate and rental and leasing   \n5            92                             Public administration   \n7            42                                   Wholesale trade   \n12        44-45                                      Retail trade   \n\n   Default rate (%)  \n16               25  \n6                19  \n1                 9  \n4                14  \n2                10  \n0                 8  \n19               29  \n5                15  \n7                19  \n12           22, 23  ",
      "text/html": "<div>\n<style scoped>\n    .dataframe tbody tr th:only-of-type {\n        vertical-align: middle;\n    }\n\n    .dataframe tbody tr th {\n        vertical-align: top;\n    }\n\n    .dataframe thead th {\n        text-align: right;\n    }\n</style>\n<table border=\"1\" class=\"dataframe\">\n  <thead>\n    <tr style=\"text-align: right;\">\n      <th></th>\n      <th>2 digit code</th>\n      <th>Description</th>\n      <th>Default rate (%)</th>\n    </tr>\n  </thead>\n  <tbody>\n    <tr>\n      <th>16</th>\n      <td>51</td>\n      <td>Information</td>\n      <td>25</td>\n    </tr>\n    <tr>\n      <th>6</th>\n      <td>54</td>\n      <td>Professional, scientific, and technical services</td>\n      <td>19</td>\n    </tr>\n    <tr>\n      <th>1</th>\n      <td>11</td>\n      <td>Agriculture, forestry, fishing and hunting</td>\n      <td>9</td>\n    </tr>\n    <tr>\n      <th>4</th>\n      <td>22</td>\n      <td>Utilities</td>\n      <td>14</td>\n    </tr>\n    <tr>\n      <th>2</th>\n      <td>55</td>\n      <td>Management of companies and enterprises</td>\n      <td>10</td>\n    </tr>\n    <tr>\n      <th>0</th>\n      <td>21</td>\n      <td>Mining, quarrying, and oil and gas extraction</td>\n      <td>8</td>\n    </tr>\n    <tr>\n      <th>19</th>\n      <td>53</td>\n      <td>Real estate and rental and leasing</td>\n      <td>29</td>\n    </tr>\n    <tr>\n      <th>5</th>\n      <td>92</td>\n      <td>Public administration</td>\n      <td>15</td>\n    </tr>\n    <tr>\n      <th>7</th>\n      <td>42</td>\n      <td>Wholesale trade</td>\n      <td>19</td>\n    </tr>\n    <tr>\n      <th>12</th>\n      <td>44-45</td>\n      <td>Retail trade</td>\n      <td>22, 23</td>\n    </tr>\n  </tbody>\n</table>\n</div>"
     },
     "execution_count": 70,
     "metadata": {},
     "output_type": "execute_result"
    }
   ],
   "source": [
    "sec_rate.sample(10)"
   ],
   "metadata": {
    "collapsed": false,
    "ExecuteTime": {
     "end_time": "2024-07-05T15:20:47.876668Z",
     "start_time": "2024-07-05T15:20:47.863142Z"
    }
   },
   "id": "c661bf4f43f971e2",
   "execution_count": 70
  },
  {
   "cell_type": "code",
   "outputs": [],
   "source": [
    "# mapping rates\n",
    "rate_mapping = {}\n",
    "for _, row in sec_rate.iterrows():\n",
    "    codes = row['2 digit code']\n",
    "    rate = row['Default rate (%)']\n",
    "    \n",
    "    if '-' in codes:\n",
    "        st, ed = map(int, codes.split('-'))\n",
    "        rates = list(map(int, rate.split(',')))\n",
    "        for i, code in enumerate(range(st, ed+1)):\n",
    "            rate_mapping[code] = rates[i] / 100.0\n",
    "    else:\n",
    "        rate_mapping[int(codes)] = int(rate)/ 100.0"
   ],
   "metadata": {
    "collapsed": false,
    "ExecuteTime": {
     "end_time": "2024-07-05T15:20:47.892497Z",
     "start_time": "2024-07-05T15:20:47.878012Z"
    }
   },
   "id": "c2b4938e1071cba9",
   "execution_count": 71
  },
  {
   "cell_type": "code",
   "outputs": [
    {
     "data": {
      "text/plain": "{21: 0.08,\n 11: 0.09,\n 55: 0.1,\n 62: 0.1,\n 22: 0.14,\n 92: 0.15,\n 54: 0.19,\n 42: 0.19,\n 31: 0.19,\n 32: 0.16,\n 33: 0.14,\n 81: 0.2,\n 71: 0.21,\n 72: 0.22,\n 44: 0.22,\n 45: 0.23,\n 23: 0.23,\n 56: 0.24,\n 61: 0.24,\n 51: 0.25,\n 48: 0.27,\n 49: 0.23,\n 52: 0.28,\n 53: 0.29}"
     },
     "execution_count": 72,
     "metadata": {},
     "output_type": "execute_result"
    }
   ],
   "source": [
    "rate_mapping"
   ],
   "metadata": {
    "collapsed": false,
    "ExecuteTime": {
     "end_time": "2024-07-05T15:20:47.907740Z",
     "start_time": "2024-07-05T15:20:47.894035Z"
    }
   },
   "id": "b7f9f7800effa3a9",
   "execution_count": 72
  },
  {
   "cell_type": "code",
   "outputs": [],
   "source": [
    "df['SectorRate'] = df['SectorCode'].map(rate_mapping)"
   ],
   "metadata": {
    "collapsed": false,
    "ExecuteTime": {
     "end_time": "2024-07-05T15:20:47.938869Z",
     "start_time": "2024-07-05T15:20:47.909833Z"
    }
   },
   "id": "b58864075d65697f",
   "execution_count": 73
  },
  {
   "cell_type": "code",
   "outputs": [
    {
     "data": {
      "text/plain": "    NAICS  SectorCode                         SectorDesc  SectorRate\n0  451120          45                       Retail trade        0.23\n1  722410          72    Accommodation and food services        0.22\n2  621210          62  Health care and social assistance        0.10\n3       0           0                               None         NaN\n4       0           0                               None         NaN",
      "text/html": "<div>\n<style scoped>\n    .dataframe tbody tr th:only-of-type {\n        vertical-align: middle;\n    }\n\n    .dataframe tbody tr th {\n        vertical-align: top;\n    }\n\n    .dataframe thead th {\n        text-align: right;\n    }\n</style>\n<table border=\"1\" class=\"dataframe\">\n  <thead>\n    <tr style=\"text-align: right;\">\n      <th></th>\n      <th>NAICS</th>\n      <th>SectorCode</th>\n      <th>SectorDesc</th>\n      <th>SectorRate</th>\n    </tr>\n  </thead>\n  <tbody>\n    <tr>\n      <th>0</th>\n      <td>451120</td>\n      <td>45</td>\n      <td>Retail trade</td>\n      <td>0.23</td>\n    </tr>\n    <tr>\n      <th>1</th>\n      <td>722410</td>\n      <td>72</td>\n      <td>Accommodation and food services</td>\n      <td>0.22</td>\n    </tr>\n    <tr>\n      <th>2</th>\n      <td>621210</td>\n      <td>62</td>\n      <td>Health care and social assistance</td>\n      <td>0.10</td>\n    </tr>\n    <tr>\n      <th>3</th>\n      <td>0</td>\n      <td>0</td>\n      <td>None</td>\n      <td>NaN</td>\n    </tr>\n    <tr>\n      <th>4</th>\n      <td>0</td>\n      <td>0</td>\n      <td>None</td>\n      <td>NaN</td>\n    </tr>\n  </tbody>\n</table>\n</div>"
     },
     "execution_count": 74,
     "metadata": {},
     "output_type": "execute_result"
    }
   ],
   "source": [
    "df[['NAICS','SectorCode', 'SectorDesc', 'SectorRate']].head(5)"
   ],
   "metadata": {
    "collapsed": false,
    "ExecuteTime": {
     "end_time": "2024-07-05T15:20:47.969714Z",
     "start_time": "2024-07-05T15:20:47.941083Z"
    }
   },
   "id": "d7ced73996ddfa54",
   "execution_count": 74
  },
  {
   "cell_type": "code",
   "outputs": [],
   "source": [],
   "metadata": {
    "collapsed": false,
    "ExecuteTime": {
     "end_time": "2024-07-05T15:20:47.984532Z",
     "start_time": "2024-07-05T15:20:47.970809Z"
    }
   },
   "id": "fe125032f0439b47",
   "execution_count": 74
  },
  {
   "cell_type": "code",
   "outputs": [],
   "source": [],
   "metadata": {
    "collapsed": false,
    "ExecuteTime": {
     "end_time": "2024-07-05T15:20:47.999680Z",
     "start_time": "2024-07-05T15:20:47.986614Z"
    }
   },
   "id": "e617494915e8f3e6",
   "execution_count": 74
  },
  {
   "cell_type": "markdown",
   "source": [
    "#### 2.2.18 Additional Variables according to the Guidelines"
   ],
   "metadata": {
    "collapsed": false
   },
   "id": "5a40eb069770646c"
  },
  {
   "cell_type": "markdown",
   "source": [
    "##### 2.2.18.1 New"
   ],
   "metadata": {
    "collapsed": false
   },
   "id": "9b2fc732e8633bf4"
  },
  {
   "cell_type": "code",
   "outputs": [],
   "source": [
    "## New = =1 if NewExist=2 (New Business), =0 if NewExist=1 (Existing Business)\n",
    "# 1 = Existing business, 2 = New business, 0 - incompatible\n",
    "# Additional var by guideline : reassigning Existing business= 0, New business = 1 and incompatible with NaN\n",
    "df['New'] = df['NewExist'].replace({1.0:0,2.0:1,0.0:np.nan}).fillna(0).astype('int')"
   ],
   "metadata": {
    "collapsed": false,
    "ExecuteTime": {
     "end_time": "2024-07-05T15:20:48.046197Z",
     "start_time": "2024-07-05T15:20:48.001923Z"
    }
   },
   "id": "fa322f78a2087f97",
   "execution_count": 75
  },
  {
   "cell_type": "code",
   "outputs": [],
   "source": [
    "df.drop(['NewExist'], axis=1, inplace=True)"
   ],
   "metadata": {
    "collapsed": false,
    "ExecuteTime": {
     "end_time": "2024-07-05T15:20:48.184855Z",
     "start_time": "2024-07-05T15:20:48.048429Z"
    }
   },
   "id": "393cebd2024aeffb",
   "execution_count": 76
  },
  {
   "cell_type": "code",
   "outputs": [
    {
     "data": {
      "text/plain": "New\n0    646039\n1    253125\nName: count, dtype: int64"
     },
     "execution_count": 77,
     "metadata": {},
     "output_type": "execute_result"
    }
   ],
   "source": [
    "df['New'].value_counts()"
   ],
   "metadata": {
    "collapsed": false,
    "ExecuteTime": {
     "end_time": "2024-07-05T15:20:48.200702Z",
     "start_time": "2024-07-05T15:20:48.186857Z"
    }
   },
   "id": "12df9c9693767641",
   "execution_count": 77
  },
  {
   "cell_type": "markdown",
   "source": [
    "##### 2.2.18.2 Portion"
   ],
   "metadata": {
    "collapsed": false
   },
   "id": "6c5dc39fae8bdff2"
  },
  {
   "cell_type": "code",
   "outputs": [],
   "source": [
    "# Proportion of gross amount guaranteed by SBA\n",
    "df['SBA_portion'] = np.where(df['GrAppv'] != 0, df['SBA_Appv'] / df['GrAppv'], np.nan)"
   ],
   "metadata": {
    "collapsed": false,
    "ExecuteTime": {
     "end_time": "2024-07-05T15:20:48.216158Z",
     "start_time": "2024-07-05T15:20:48.202742Z"
    }
   },
   "id": "e0ba286bfe3eddfd",
   "execution_count": 78
  },
  {
   "cell_type": "markdown",
   "source": [
    "##### 2.2.18.3 RealEstate"
   ],
   "metadata": {
    "collapsed": false
   },
   "id": "1fb8fac2c4cb93bf"
  },
  {
   "cell_type": "code",
   "outputs": [],
   "source": [
    "# =1 if loan is backed by real estate, =0 otherwise\n",
    "# If loan term is 20 years or more than 20 years it is backed up with property, if less no \n",
    "df['RealEstate'] = df['Term'].apply(lambda x : 1 if x >= 240 else 0)"
   ],
   "metadata": {
    "collapsed": false,
    "ExecuteTime": {
     "end_time": "2024-07-05T15:20:48.528447Z",
     "start_time": "2024-07-05T15:20:48.218290Z"
    }
   },
   "id": "a04f120b96ba62aa",
   "execution_count": 79
  },
  {
   "cell_type": "markdown",
   "source": [
    "##### 2.2.18.4 Selected"
   ],
   "metadata": {
    "collapsed": false
   },
   "id": "4162dd8d195e85b6"
  },
  {
   "cell_type": "code",
   "outputs": [],
   "source": [
    "# =1 if the df are selected as training df to build model for assignment, =0 if the df are selected as testing df to validate model"
   ],
   "metadata": {
    "collapsed": false,
    "ExecuteTime": {
     "end_time": "2024-07-05T15:20:48.544499Z",
     "start_time": "2024-07-05T15:20:48.530594Z"
    }
   },
   "id": "8e5329d780bdd72e",
   "execution_count": 80
  },
  {
   "cell_type": "code",
   "outputs": [],
   "source": [],
   "metadata": {
    "collapsed": false,
    "ExecuteTime": {
     "end_time": "2024-07-05T15:20:48.560215Z",
     "start_time": "2024-07-05T15:20:48.546612Z"
    }
   },
   "id": "12ba48a07e98c851",
   "execution_count": 80
  },
  {
   "cell_type": "markdown",
   "source": [
    "##### 2.2.18.5 Default"
   ],
   "metadata": {
    "collapsed": false
   },
   "id": "5dad941cbec1799c"
  },
  {
   "cell_type": "code",
   "outputs": [
    {
     "data": {
      "text/plain": "MIS_Status\nP I F     739609\nCHGOFF    157558\nName: count, dtype: int64"
     },
     "execution_count": 81,
     "metadata": {},
     "output_type": "execute_result"
    }
   ],
   "source": [
    "df['MIS_Status'].value_counts()"
   ],
   "metadata": {
    "collapsed": false,
    "ExecuteTime": {
     "end_time": "2024-07-05T15:20:48.608077Z",
     "start_time": "2024-07-05T15:20:48.562215Z"
    }
   },
   "id": "bf1d9f37d8f0e82e",
   "execution_count": 81
  },
  {
   "cell_type": "code",
   "outputs": [],
   "source": [
    "# \t=1 if MIS_Status=CHGOFF, =0 if MIS_Status=PIF\n",
    "df['Default'] = df['MIS_Status'].apply(lambda x: 1 if x == 'CHGOFF' else (0 if x == 'P I F' else np.nan))"
   ],
   "metadata": {
    "collapsed": false,
    "ExecuteTime": {
     "end_time": "2024-07-05T15:20:48.918209Z",
     "start_time": "2024-07-05T15:20:48.610206Z"
    }
   },
   "id": "a047ef9df2a763ae",
   "execution_count": 82
  },
  {
   "cell_type": "code",
   "outputs": [
    {
     "data": {
      "text/plain": "Default\n0.0    739609\n1.0    157558\nName: count, dtype: int64"
     },
     "execution_count": 83,
     "metadata": {},
     "output_type": "execute_result"
    }
   ],
   "source": [
    "df['Default'].value_counts()"
   ],
   "metadata": {
    "collapsed": false,
    "ExecuteTime": {
     "end_time": "2024-07-05T15:20:48.949128Z",
     "start_time": "2024-07-05T15:20:48.920300Z"
    }
   },
   "id": "3c004a46cd224a50",
   "execution_count": 83
  },
  {
   "cell_type": "code",
   "outputs": [],
   "source": [],
   "metadata": {
    "collapsed": false,
    "ExecuteTime": {
     "end_time": "2024-07-05T15:20:48.964136Z",
     "start_time": "2024-07-05T15:20:48.952130Z"
    }
   },
   "id": "e356d39824151df5",
   "execution_count": 83
  },
  {
   "cell_type": "markdown",
   "source": [
    "##### 2.2.18.6 daysterm"
   ],
   "metadata": {
    "collapsed": false
   },
   "id": "aecc9cf8f9fa9b25"
  },
  {
   "cell_type": "code",
   "outputs": [],
   "source": [
    "# Extra variable generated when creating “Recession\n",
    "# Convert Term in to days\n",
    "df['DaysTerm'] = df['Term'] * 30"
   ],
   "metadata": {
    "collapsed": false,
    "ExecuteTime": {
     "end_time": "2024-07-05T15:20:48.996174Z",
     "start_time": "2024-07-05T15:20:48.968165Z"
    }
   },
   "id": "c9026220919c2bc5",
   "execution_count": 84
  },
  {
   "cell_type": "markdown",
   "source": [
    "##### 2.2.18.7 xx"
   ],
   "metadata": {
    "collapsed": false
   },
   "id": "dfa2aae2d4fe1fda"
  },
  {
   "cell_type": "code",
   "outputs": [],
   "source": [
    "# Extra variable generated when creating “Recession\n",
    "## xx = DaysTerm column with DisbursementDate\n",
    "df['xx'] = df['DisbursementDate'] + pd.TimedeltaIndex(df['DaysTerm'], unit='D')"
   ],
   "metadata": {
    "collapsed": false,
    "ExecuteTime": {
     "end_time": "2024-07-05T15:20:49.089569Z",
     "start_time": "2024-07-05T15:20:49.000618Z"
    }
   },
   "id": "d9d4cc58a28f1741",
   "execution_count": 85
  },
  {
   "cell_type": "markdown",
   "source": [
    "##### 2.2.18.8 Recession"
   ],
   "metadata": {
    "collapsed": false
   },
   "id": "96194589701960dd"
  },
  {
   "cell_type": "code",
   "outputs": [
    {
     "data": {
      "text/plain": "dtype('<M8[ns]')"
     },
     "execution_count": 86,
     "metadata": {},
     "output_type": "execute_result"
    }
   ],
   "source": [
    "df['DisbursementDate'].dtype"
   ],
   "metadata": {
    "collapsed": false,
    "ExecuteTime": {
     "end_time": "2024-07-05T15:20:49.105338Z",
     "start_time": "2024-07-05T15:20:49.093081Z"
    }
   },
   "id": "1b336baff169068e",
   "execution_count": 86
  },
  {
   "cell_type": "code",
   "outputs": [],
   "source": [
    "# =1 if loan is active during Great Recession, =0 otherwise\n",
    "# Recession is a period between a peak and a trough in the business cycle where there is a significant decline in \n",
    "# economic activity spread across the economy that can last from a few months to more than a year.\n",
    "# recession period 1-12-2007 - 30-06-2009\n",
    "s_dt = pd.Timestamp('2007-12-01').date()\n",
    "e_dt = pd.Timestamp('2009-06-30').date()\n",
    "\n",
    "df['Recession'] = df['xx'].apply(lambda x : 1 if pd.notna(x) and s_dt <= x.date() <= e_dt else 0)"
   ],
   "metadata": {
    "collapsed": false,
    "ExecuteTime": {
     "end_time": "2024-07-05T15:20:50.969796Z",
     "start_time": "2024-07-05T15:20:49.107521Z"
    }
   },
   "id": "842f034d03d99bbc",
   "execution_count": 87
  },
  {
   "cell_type": "markdown",
   "source": [
    "#### 2.2.18.9 State Rate"
   ],
   "metadata": {
    "collapsed": false
   },
   "id": "2f9138619454558f"
  },
  {
   "cell_type": "code",
   "outputs": [
    {
     "data": {
      "text/plain": "State\nCA    130619\nTX     70458\nNY     57693\nFL     41212\nPA     35170\nOH     32622\nIL     29669\nMA     25272\nMN     24373\nNJ     24035\nWA     23263\nGA     22277\nWI     21040\nMO     20678\nCO     20605\nMI     20545\nUT     18776\nAZ     17631\nNC     14294\nIN     14132\nMD     13269\nVA     13264\nCT     12229\nNH     12109\nIA     11996\nKS     11464\nOR     11051\nOK      9950\nLA      9576\nID      9498\nTN      9403\nRI      9028\nMT      8749\nAL      8362\nNV      8024\nKY      7723\nMS      7686\nNE      6386\nAR      6341\nNM      6033\nME      5944\nSC      5597\nVT      5454\nND      5245\nSD      4431\nHI      3610\nWV      3287\nWY      2839\nAK      2405\nDE      2220\nDC      1613\nName: count, dtype: int64"
     },
     "execution_count": 88,
     "metadata": {},
     "output_type": "execute_result"
    }
   ],
   "source": [
    "# State Rate\n",
    "df['State'].value_counts()"
   ],
   "metadata": {
    "collapsed": false,
    "ExecuteTime": {
     "end_time": "2024-07-05T15:20:51.017085Z",
     "start_time": "2024-07-05T15:20:50.971017Z"
    }
   },
   "id": "bfa944c7d88f2b",
   "execution_count": 88
  },
  {
   "cell_type": "code",
   "outputs": [],
   "source": [
    "state_rates = df.groupby('State')['Default'].mean().round(1)"
   ],
   "metadata": {
    "collapsed": false,
    "ExecuteTime": {
     "end_time": "2024-07-05T15:20:51.079196Z",
     "start_time": "2024-07-05T15:20:51.019234Z"
    }
   },
   "id": "71dddca26f9a0ea5",
   "execution_count": 89
  },
  {
   "cell_type": "code",
   "outputs": [],
   "source": [
    "df['StateRate'] = df['State'].map(state_rates)"
   ],
   "metadata": {
    "collapsed": false,
    "ExecuteTime": {
     "end_time": "2024-07-05T15:20:51.125753Z",
     "start_time": "2024-07-05T15:20:51.082200Z"
    }
   },
   "id": "dbc0390730decdbe",
   "execution_count": 90
  },
  {
   "cell_type": "code",
   "outputs": [
    {
     "data": {
      "text/plain": "       State  StateRate\n87157     WI        0.1\n156933    NJ        0.2\n369877    CO        0.2\n866136    IL        0.2\n317861    IL        0.2\n173473    MT        0.1\n450686    GA        0.2\n153730    RI        0.1\n699155    CA        0.2\n735920    NH        0.1\n197214    ID        0.1\n166930    AZ        0.2\n858079    GA        0.2\n214097    KS        0.1\n298905    TX        0.2",
      "text/html": "<div>\n<style scoped>\n    .dataframe tbody tr th:only-of-type {\n        vertical-align: middle;\n    }\n\n    .dataframe tbody tr th {\n        vertical-align: top;\n    }\n\n    .dataframe thead th {\n        text-align: right;\n    }\n</style>\n<table border=\"1\" class=\"dataframe\">\n  <thead>\n    <tr style=\"text-align: right;\">\n      <th></th>\n      <th>State</th>\n      <th>StateRate</th>\n    </tr>\n  </thead>\n  <tbody>\n    <tr>\n      <th>87157</th>\n      <td>WI</td>\n      <td>0.1</td>\n    </tr>\n    <tr>\n      <th>156933</th>\n      <td>NJ</td>\n      <td>0.2</td>\n    </tr>\n    <tr>\n      <th>369877</th>\n      <td>CO</td>\n      <td>0.2</td>\n    </tr>\n    <tr>\n      <th>866136</th>\n      <td>IL</td>\n      <td>0.2</td>\n    </tr>\n    <tr>\n      <th>317861</th>\n      <td>IL</td>\n      <td>0.2</td>\n    </tr>\n    <tr>\n      <th>173473</th>\n      <td>MT</td>\n      <td>0.1</td>\n    </tr>\n    <tr>\n      <th>450686</th>\n      <td>GA</td>\n      <td>0.2</td>\n    </tr>\n    <tr>\n      <th>153730</th>\n      <td>RI</td>\n      <td>0.1</td>\n    </tr>\n    <tr>\n      <th>699155</th>\n      <td>CA</td>\n      <td>0.2</td>\n    </tr>\n    <tr>\n      <th>735920</th>\n      <td>NH</td>\n      <td>0.1</td>\n    </tr>\n    <tr>\n      <th>197214</th>\n      <td>ID</td>\n      <td>0.1</td>\n    </tr>\n    <tr>\n      <th>166930</th>\n      <td>AZ</td>\n      <td>0.2</td>\n    </tr>\n    <tr>\n      <th>858079</th>\n      <td>GA</td>\n      <td>0.2</td>\n    </tr>\n    <tr>\n      <th>214097</th>\n      <td>KS</td>\n      <td>0.1</td>\n    </tr>\n    <tr>\n      <th>298905</th>\n      <td>TX</td>\n      <td>0.2</td>\n    </tr>\n  </tbody>\n</table>\n</div>"
     },
     "execution_count": 91,
     "metadata": {},
     "output_type": "execute_result"
    }
   ],
   "source": [
    "df[['State', 'StateRate']].sample(15)"
   ],
   "metadata": {
    "collapsed": false,
    "ExecuteTime": {
     "end_time": "2024-07-05T15:20:51.186882Z",
     "start_time": "2024-07-05T15:20:51.128741Z"
    }
   },
   "id": "274b1284957bd24a",
   "execution_count": 91
  },
  {
   "cell_type": "markdown",
   "source": [
    "### 2.2 Handling missing values"
   ],
   "metadata": {},
   "id": "546a6a81-ebc4-4290-9ed9-53db5e713d93"
  },
  {
   "cell_type": "code",
   "outputs": [
    {
     "name": "stdout",
     "output_type": "stream",
     "text": [
      "There are total 1178135 values are missing in the df set.\n"
     ]
    }
   ],
   "source": [
    "print(f'There are total {df.isna().sum().sum()} values are missing in the df set.')"
   ],
   "metadata": {
    "ExecuteTime": {
     "end_time": "2024-07-05T15:20:51.484765Z",
     "start_time": "2024-07-05T15:20:51.188867Z"
    }
   },
   "id": "89f95bbb-f41b-46d4-918c-b57b01e32cc6",
   "execution_count": 92
  },
  {
   "cell_type": "code",
   "outputs": [
    {
     "data": {
      "text/plain": "City                     30\nState                    14\nZip                       0\nBank                   1559\nBankState              1566\nNAICS                     0\nApprovalDate              0\nApprovalFY                0\nTerm                      0\nNoEmp                     0\nUrbanRural                0\nRevLineCr             19854\nLowDoc                 6007\nChgOffDate           736465\nDisbursementDate       2368\nDisbursementGross         0\nBalanceGross              0\nMIS_Status             1997\nChgOffPrinGr              0\nGrAppv                    0\nSBA_Appv                  0\nIsJobCreated              0\nIsJobRetained             0\nIsFranchised              0\nSectorCode                0\nSectorDesc           201948\nSectorRate           201948\nNew                       0\nSBA_portion               0\nRealEstate                0\nDefault                1997\nDaysTerm                  0\nxx                     2368\nRecession                 0\nStateRate                14\ndtype: int64"
     },
     "execution_count": 93,
     "metadata": {},
     "output_type": "execute_result"
    }
   ],
   "source": [
    "df.isna().sum()"
   ],
   "metadata": {
    "ExecuteTime": {
     "end_time": "2024-07-05T15:20:51.779673Z",
     "start_time": "2024-07-05T15:20:51.485846Z"
    }
   },
   "id": "51f1f887-54cd-4450-8311-f54e6ee6a2d5",
   "execution_count": 93
  },
  {
   "cell_type": "code",
   "outputs": [
    {
     "data": {
      "text/plain": "<pandas.io.formats.style.Styler at 0x202b42810a0>",
      "text/html": "<style type=\"text/css\">\n#T_7e750_row0_col2, #T_7e750_row1_col2, #T_7e750_row2_col2, #T_7e750_row3_col2, #T_7e750_row4_col2, #T_7e750_row5_col2, #T_7e750_row6_col2, #T_7e750_row7_col2, #T_7e750_row8_col2, #T_7e750_row9_col2, #T_7e750_row10_col2, #T_7e750_row11_col2, #T_7e750_row12_col2, #T_7e750_row14_col2, #T_7e750_row15_col2, #T_7e750_row16_col2, #T_7e750_row17_col2, #T_7e750_row18_col2, #T_7e750_row19_col2, #T_7e750_row20_col2, #T_7e750_row21_col2, #T_7e750_row22_col2, #T_7e750_row23_col2, #T_7e750_row24_col2, #T_7e750_row27_col2, #T_7e750_row28_col2, #T_7e750_row29_col2, #T_7e750_row30_col2, #T_7e750_row31_col2, #T_7e750_row32_col2, #T_7e750_row33_col2, #T_7e750_row34_col2 {\n  background-color: lightgreen;\n}\n#T_7e750_row13_col2 {\n  background-color: lightcoral;\n}\n#T_7e750_row25_col2, #T_7e750_row26_col2 {\n  background-color: yellow;\n}\n</style>\n<table id=\"T_7e750\">\n  <thead>\n    <tr>\n      <th class=\"blank level0\" >&nbsp;</th>\n      <th id=\"T_7e750_level0_col0\" class=\"col_heading level0 col0\" >Column</th>\n      <th id=\"T_7e750_level0_col1\" class=\"col_heading level0 col1\" ># of Missing values</th>\n      <th id=\"T_7e750_level0_col2\" class=\"col_heading level0 col2\" >Proportion of Missing values</th>\n    </tr>\n  </thead>\n  <tbody>\n    <tr>\n      <th id=\"T_7e750_level0_row0\" class=\"row_heading level0 row0\" >0</th>\n      <td id=\"T_7e750_row0_col0\" class=\"data row0 col0\" >City</td>\n      <td id=\"T_7e750_row0_col1\" class=\"data row0 col1\" >30</td>\n      <td id=\"T_7e750_row0_col2\" class=\"data row0 col2\" >0.00330 %</td>\n    </tr>\n    <tr>\n      <th id=\"T_7e750_level0_row1\" class=\"row_heading level0 row1\" >1</th>\n      <td id=\"T_7e750_row1_col0\" class=\"data row1 col0\" >State</td>\n      <td id=\"T_7e750_row1_col1\" class=\"data row1 col1\" >14</td>\n      <td id=\"T_7e750_row1_col2\" class=\"data row1 col2\" >0.00160 %</td>\n    </tr>\n    <tr>\n      <th id=\"T_7e750_level0_row2\" class=\"row_heading level0 row2\" >2</th>\n      <td id=\"T_7e750_row2_col0\" class=\"data row2 col0\" >Zip</td>\n      <td id=\"T_7e750_row2_col1\" class=\"data row2 col1\" >0</td>\n      <td id=\"T_7e750_row2_col2\" class=\"data row2 col2\" >0.00000 %</td>\n    </tr>\n    <tr>\n      <th id=\"T_7e750_level0_row3\" class=\"row_heading level0 row3\" >3</th>\n      <td id=\"T_7e750_row3_col0\" class=\"data row3 col0\" >Bank</td>\n      <td id=\"T_7e750_row3_col1\" class=\"data row3 col1\" >1559</td>\n      <td id=\"T_7e750_row3_col2\" class=\"data row3 col2\" >0.17340 %</td>\n    </tr>\n    <tr>\n      <th id=\"T_7e750_level0_row4\" class=\"row_heading level0 row4\" >4</th>\n      <td id=\"T_7e750_row4_col0\" class=\"data row4 col0\" >BankState</td>\n      <td id=\"T_7e750_row4_col1\" class=\"data row4 col1\" >1566</td>\n      <td id=\"T_7e750_row4_col2\" class=\"data row4 col2\" >0.17420 %</td>\n    </tr>\n    <tr>\n      <th id=\"T_7e750_level0_row5\" class=\"row_heading level0 row5\" >5</th>\n      <td id=\"T_7e750_row5_col0\" class=\"data row5 col0\" >NAICS</td>\n      <td id=\"T_7e750_row5_col1\" class=\"data row5 col1\" >0</td>\n      <td id=\"T_7e750_row5_col2\" class=\"data row5 col2\" >0.00000 %</td>\n    </tr>\n    <tr>\n      <th id=\"T_7e750_level0_row6\" class=\"row_heading level0 row6\" >6</th>\n      <td id=\"T_7e750_row6_col0\" class=\"data row6 col0\" >ApprovalDate</td>\n      <td id=\"T_7e750_row6_col1\" class=\"data row6 col1\" >0</td>\n      <td id=\"T_7e750_row6_col2\" class=\"data row6 col2\" >0.00000 %</td>\n    </tr>\n    <tr>\n      <th id=\"T_7e750_level0_row7\" class=\"row_heading level0 row7\" >7</th>\n      <td id=\"T_7e750_row7_col0\" class=\"data row7 col0\" >ApprovalFY</td>\n      <td id=\"T_7e750_row7_col1\" class=\"data row7 col1\" >0</td>\n      <td id=\"T_7e750_row7_col2\" class=\"data row7 col2\" >0.00000 %</td>\n    </tr>\n    <tr>\n      <th id=\"T_7e750_level0_row8\" class=\"row_heading level0 row8\" >8</th>\n      <td id=\"T_7e750_row8_col0\" class=\"data row8 col0\" >Term</td>\n      <td id=\"T_7e750_row8_col1\" class=\"data row8 col1\" >0</td>\n      <td id=\"T_7e750_row8_col2\" class=\"data row8 col2\" >0.00000 %</td>\n    </tr>\n    <tr>\n      <th id=\"T_7e750_level0_row9\" class=\"row_heading level0 row9\" >9</th>\n      <td id=\"T_7e750_row9_col0\" class=\"data row9 col0\" >NoEmp</td>\n      <td id=\"T_7e750_row9_col1\" class=\"data row9 col1\" >0</td>\n      <td id=\"T_7e750_row9_col2\" class=\"data row9 col2\" >0.00000 %</td>\n    </tr>\n    <tr>\n      <th id=\"T_7e750_level0_row10\" class=\"row_heading level0 row10\" >10</th>\n      <td id=\"T_7e750_row10_col0\" class=\"data row10 col0\" >UrbanRural</td>\n      <td id=\"T_7e750_row10_col1\" class=\"data row10 col1\" >0</td>\n      <td id=\"T_7e750_row10_col2\" class=\"data row10 col2\" >0.00000 %</td>\n    </tr>\n    <tr>\n      <th id=\"T_7e750_level0_row11\" class=\"row_heading level0 row11\" >11</th>\n      <td id=\"T_7e750_row11_col0\" class=\"data row11 col0\" >RevLineCr</td>\n      <td id=\"T_7e750_row11_col1\" class=\"data row11 col1\" >19854</td>\n      <td id=\"T_7e750_row11_col2\" class=\"data row11 col2\" >2.20810 %</td>\n    </tr>\n    <tr>\n      <th id=\"T_7e750_level0_row12\" class=\"row_heading level0 row12\" >12</th>\n      <td id=\"T_7e750_row12_col0\" class=\"data row12 col0\" >LowDoc</td>\n      <td id=\"T_7e750_row12_col1\" class=\"data row12 col1\" >6007</td>\n      <td id=\"T_7e750_row12_col2\" class=\"data row12 col2\" >0.66810 %</td>\n    </tr>\n    <tr>\n      <th id=\"T_7e750_level0_row13\" class=\"row_heading level0 row13\" >13</th>\n      <td id=\"T_7e750_row13_col0\" class=\"data row13 col0\" >ChgOffDate</td>\n      <td id=\"T_7e750_row13_col1\" class=\"data row13 col1\" >736465</td>\n      <td id=\"T_7e750_row13_col2\" class=\"data row13 col2\" >81.90550 %</td>\n    </tr>\n    <tr>\n      <th id=\"T_7e750_level0_row14\" class=\"row_heading level0 row14\" >14</th>\n      <td id=\"T_7e750_row14_col0\" class=\"data row14 col0\" >DisbursementDate</td>\n      <td id=\"T_7e750_row14_col1\" class=\"data row14 col1\" >2368</td>\n      <td id=\"T_7e750_row14_col2\" class=\"data row14 col2\" >0.26340 %</td>\n    </tr>\n    <tr>\n      <th id=\"T_7e750_level0_row15\" class=\"row_heading level0 row15\" >15</th>\n      <td id=\"T_7e750_row15_col0\" class=\"data row15 col0\" >DisbursementGross</td>\n      <td id=\"T_7e750_row15_col1\" class=\"data row15 col1\" >0</td>\n      <td id=\"T_7e750_row15_col2\" class=\"data row15 col2\" >0.00000 %</td>\n    </tr>\n    <tr>\n      <th id=\"T_7e750_level0_row16\" class=\"row_heading level0 row16\" >16</th>\n      <td id=\"T_7e750_row16_col0\" class=\"data row16 col0\" >BalanceGross</td>\n      <td id=\"T_7e750_row16_col1\" class=\"data row16 col1\" >0</td>\n      <td id=\"T_7e750_row16_col2\" class=\"data row16 col2\" >0.00000 %</td>\n    </tr>\n    <tr>\n      <th id=\"T_7e750_level0_row17\" class=\"row_heading level0 row17\" >17</th>\n      <td id=\"T_7e750_row17_col0\" class=\"data row17 col0\" >MIS_Status</td>\n      <td id=\"T_7e750_row17_col1\" class=\"data row17 col1\" >1997</td>\n      <td id=\"T_7e750_row17_col2\" class=\"data row17 col2\" >0.22210 %</td>\n    </tr>\n    <tr>\n      <th id=\"T_7e750_level0_row18\" class=\"row_heading level0 row18\" >18</th>\n      <td id=\"T_7e750_row18_col0\" class=\"data row18 col0\" >ChgOffPrinGr</td>\n      <td id=\"T_7e750_row18_col1\" class=\"data row18 col1\" >0</td>\n      <td id=\"T_7e750_row18_col2\" class=\"data row18 col2\" >0.00000 %</td>\n    </tr>\n    <tr>\n      <th id=\"T_7e750_level0_row19\" class=\"row_heading level0 row19\" >19</th>\n      <td id=\"T_7e750_row19_col0\" class=\"data row19 col0\" >GrAppv</td>\n      <td id=\"T_7e750_row19_col1\" class=\"data row19 col1\" >0</td>\n      <td id=\"T_7e750_row19_col2\" class=\"data row19 col2\" >0.00000 %</td>\n    </tr>\n    <tr>\n      <th id=\"T_7e750_level0_row20\" class=\"row_heading level0 row20\" >20</th>\n      <td id=\"T_7e750_row20_col0\" class=\"data row20 col0\" >SBA_Appv</td>\n      <td id=\"T_7e750_row20_col1\" class=\"data row20 col1\" >0</td>\n      <td id=\"T_7e750_row20_col2\" class=\"data row20 col2\" >0.00000 %</td>\n    </tr>\n    <tr>\n      <th id=\"T_7e750_level0_row21\" class=\"row_heading level0 row21\" >21</th>\n      <td id=\"T_7e750_row21_col0\" class=\"data row21 col0\" >IsJobCreated</td>\n      <td id=\"T_7e750_row21_col1\" class=\"data row21 col1\" >0</td>\n      <td id=\"T_7e750_row21_col2\" class=\"data row21 col2\" >0.00000 %</td>\n    </tr>\n    <tr>\n      <th id=\"T_7e750_level0_row22\" class=\"row_heading level0 row22\" >22</th>\n      <td id=\"T_7e750_row22_col0\" class=\"data row22 col0\" >IsJobRetained</td>\n      <td id=\"T_7e750_row22_col1\" class=\"data row22 col1\" >0</td>\n      <td id=\"T_7e750_row22_col2\" class=\"data row22 col2\" >0.00000 %</td>\n    </tr>\n    <tr>\n      <th id=\"T_7e750_level0_row23\" class=\"row_heading level0 row23\" >23</th>\n      <td id=\"T_7e750_row23_col0\" class=\"data row23 col0\" >IsFranchised</td>\n      <td id=\"T_7e750_row23_col1\" class=\"data row23 col1\" >0</td>\n      <td id=\"T_7e750_row23_col2\" class=\"data row23 col2\" >0.00000 %</td>\n    </tr>\n    <tr>\n      <th id=\"T_7e750_level0_row24\" class=\"row_heading level0 row24\" >24</th>\n      <td id=\"T_7e750_row24_col0\" class=\"data row24 col0\" >SectorCode</td>\n      <td id=\"T_7e750_row24_col1\" class=\"data row24 col1\" >0</td>\n      <td id=\"T_7e750_row24_col2\" class=\"data row24 col2\" >0.00000 %</td>\n    </tr>\n    <tr>\n      <th id=\"T_7e750_level0_row25\" class=\"row_heading level0 row25\" >25</th>\n      <td id=\"T_7e750_row25_col0\" class=\"data row25 col0\" >SectorDesc</td>\n      <td id=\"T_7e750_row25_col1\" class=\"data row25 col1\" >201948</td>\n      <td id=\"T_7e750_row25_col2\" class=\"data row25 col2\" >22.45950 %</td>\n    </tr>\n    <tr>\n      <th id=\"T_7e750_level0_row26\" class=\"row_heading level0 row26\" >26</th>\n      <td id=\"T_7e750_row26_col0\" class=\"data row26 col0\" >SectorRate</td>\n      <td id=\"T_7e750_row26_col1\" class=\"data row26 col1\" >201948</td>\n      <td id=\"T_7e750_row26_col2\" class=\"data row26 col2\" >22.45950 %</td>\n    </tr>\n    <tr>\n      <th id=\"T_7e750_level0_row27\" class=\"row_heading level0 row27\" >27</th>\n      <td id=\"T_7e750_row27_col0\" class=\"data row27 col0\" >New</td>\n      <td id=\"T_7e750_row27_col1\" class=\"data row27 col1\" >0</td>\n      <td id=\"T_7e750_row27_col2\" class=\"data row27 col2\" >0.00000 %</td>\n    </tr>\n    <tr>\n      <th id=\"T_7e750_level0_row28\" class=\"row_heading level0 row28\" >28</th>\n      <td id=\"T_7e750_row28_col0\" class=\"data row28 col0\" >SBA_portion</td>\n      <td id=\"T_7e750_row28_col1\" class=\"data row28 col1\" >0</td>\n      <td id=\"T_7e750_row28_col2\" class=\"data row28 col2\" >0.00000 %</td>\n    </tr>\n    <tr>\n      <th id=\"T_7e750_level0_row29\" class=\"row_heading level0 row29\" >29</th>\n      <td id=\"T_7e750_row29_col0\" class=\"data row29 col0\" >RealEstate</td>\n      <td id=\"T_7e750_row29_col1\" class=\"data row29 col1\" >0</td>\n      <td id=\"T_7e750_row29_col2\" class=\"data row29 col2\" >0.00000 %</td>\n    </tr>\n    <tr>\n      <th id=\"T_7e750_level0_row30\" class=\"row_heading level0 row30\" >30</th>\n      <td id=\"T_7e750_row30_col0\" class=\"data row30 col0\" >Default</td>\n      <td id=\"T_7e750_row30_col1\" class=\"data row30 col1\" >1997</td>\n      <td id=\"T_7e750_row30_col2\" class=\"data row30 col2\" >0.22210 %</td>\n    </tr>\n    <tr>\n      <th id=\"T_7e750_level0_row31\" class=\"row_heading level0 row31\" >31</th>\n      <td id=\"T_7e750_row31_col0\" class=\"data row31 col0\" >DaysTerm</td>\n      <td id=\"T_7e750_row31_col1\" class=\"data row31 col1\" >0</td>\n      <td id=\"T_7e750_row31_col2\" class=\"data row31 col2\" >0.00000 %</td>\n    </tr>\n    <tr>\n      <th id=\"T_7e750_level0_row32\" class=\"row_heading level0 row32\" >32</th>\n      <td id=\"T_7e750_row32_col0\" class=\"data row32 col0\" >xx</td>\n      <td id=\"T_7e750_row32_col1\" class=\"data row32 col1\" >2368</td>\n      <td id=\"T_7e750_row32_col2\" class=\"data row32 col2\" >0.26340 %</td>\n    </tr>\n    <tr>\n      <th id=\"T_7e750_level0_row33\" class=\"row_heading level0 row33\" >33</th>\n      <td id=\"T_7e750_row33_col0\" class=\"data row33 col0\" >Recession</td>\n      <td id=\"T_7e750_row33_col1\" class=\"data row33 col1\" >0</td>\n      <td id=\"T_7e750_row33_col2\" class=\"data row33 col2\" >0.00000 %</td>\n    </tr>\n    <tr>\n      <th id=\"T_7e750_level0_row34\" class=\"row_heading level0 row34\" >34</th>\n      <td id=\"T_7e750_row34_col0\" class=\"data row34 col0\" >StateRate</td>\n      <td id=\"T_7e750_row34_col1\" class=\"data row34 col1\" >14</td>\n      <td id=\"T_7e750_row34_col2\" class=\"data row34 col2\" >0.00160 %</td>\n    </tr>\n  </tbody>\n</table>\n"
     },
     "execution_count": 94,
     "metadata": {},
     "output_type": "execute_result"
    }
   ],
   "source": [
    "miss_count = df.isna().sum()\n",
    "miss_props = round((miss_count/ len(df))*100,4)\n",
    "pd.DataFrame({\n",
    "    'Column': miss_count.index,\n",
    "    '# of Missing values': miss_count.values,\n",
    "    'Proportion of Missing values': miss_props.map('{:.5f} %'.format).values\n",
    "}).style.apply(lambda x: [\n",
    "    'background-color: lightgreen' if float(val.rstrip('%')) < 10 else\n",
    "    'background-color: yellow' if 10 <= float(val.rstrip('%')) <= 50 else\n",
    "    'background-color: lightcoral' for val in x],\n",
    "    subset=['Proportion of Missing values'])"
   ],
   "metadata": {
    "ExecuteTime": {
     "end_time": "2024-07-05T15:20:52.091784Z",
     "start_time": "2024-07-05T15:20:51.781867Z"
    }
   },
   "id": "a94ee3e3-a5cb-4b20-898e-2b8f9a9aad29",
   "execution_count": 94
  },
  {
   "cell_type": "code",
   "outputs": [
    {
     "data": {
      "text/plain": "MIS_Status\nP I F     739609\nCHGOFF    157558\nName: count, dtype: int64"
     },
     "execution_count": 95,
     "metadata": {},
     "output_type": "execute_result"
    }
   ],
   "source": [
    "df['MIS_Status'].value_counts()"
   ],
   "metadata": {
    "collapsed": false,
    "ExecuteTime": {
     "end_time": "2024-07-05T15:20:52.137939Z",
     "start_time": "2024-07-05T15:20:52.093885Z"
    }
   },
   "id": "42b0981deb4a0d08",
   "execution_count": 95
  },
  {
   "cell_type": "code",
   "outputs": [],
   "source": [
    "#MIS_Status\n",
    "# Fill based on ChgOffDate, If the ChgOffDate = NA ==> MIS_Status = 'P I F' else MIS_Status = 'CHGOFF'\n",
    "df['MIS_Status'] = np.where(df['ChgOffDate'].isna(), 'P I F', 'CHGOFF')\n",
    "\n",
    "# Now Default and State_rates chages\n",
    "df['Default'] = df['MIS_Status'].apply(lambda x: 1 if x == 'CHGOFF' else (0 if x == 'P I F' else np.nan))\n",
    "\n",
    "state_rates = df.groupby('State')['Default'].mean().round(1)\n",
    "\n",
    "df['StateRate'] = df['State'].map(state_rates)"
   ],
   "metadata": {
    "collapsed": false,
    "ExecuteTime": {
     "end_time": "2024-07-05T15:20:52.732047Z",
     "start_time": "2024-07-05T15:20:52.141938Z"
    }
   },
   "id": "1707e9313293763",
   "execution_count": 96
  },
  {
   "cell_type": "code",
   "outputs": [
    {
     "data": {
      "text/plain": "Default\n0    736465\n1    162699\nName: count, dtype: int64"
     },
     "execution_count": 97,
     "metadata": {},
     "output_type": "execute_result"
    }
   ],
   "source": [
    "df['Default'].value_counts()"
   ],
   "metadata": {
    "collapsed": false,
    "ExecuteTime": {
     "end_time": "2024-07-05T15:20:52.748450Z",
     "start_time": "2024-07-05T15:20:52.734048Z"
    }
   },
   "id": "a89555c7cf80fdd0",
   "execution_count": 97
  },
  {
   "cell_type": "code",
   "outputs": [
    {
     "data": {
      "text/plain": "MIS_Status     0\nDefault        0\nStateRate     14\ndtype: int64"
     },
     "execution_count": 98,
     "metadata": {},
     "output_type": "execute_result"
    }
   ],
   "source": [
    "df[['MIS_Status', 'Default', 'StateRate']].isna().sum()"
   ],
   "metadata": {
    "collapsed": false,
    "ExecuteTime": {
     "end_time": "2024-07-05T15:20:52.810804Z",
     "start_time": "2024-07-05T15:20:52.750534Z"
    }
   },
   "id": "83b92f43bc9c6f43",
   "execution_count": 98
  },
  {
   "cell_type": "code",
   "outputs": [
    {
     "data": {
      "text/plain": "       State  StateRate\n804336    NM        0.1\n770881    TX        0.2\n25432     WA        0.1\n24350     NY        0.2\n465971    NH        0.1\n254473    NV        0.2\n481676    CA        0.2",
      "text/html": "<div>\n<style scoped>\n    .dataframe tbody tr th:only-of-type {\n        vertical-align: middle;\n    }\n\n    .dataframe tbody tr th {\n        vertical-align: top;\n    }\n\n    .dataframe thead th {\n        text-align: right;\n    }\n</style>\n<table border=\"1\" class=\"dataframe\">\n  <thead>\n    <tr style=\"text-align: right;\">\n      <th></th>\n      <th>State</th>\n      <th>StateRate</th>\n    </tr>\n  </thead>\n  <tbody>\n    <tr>\n      <th>804336</th>\n      <td>NM</td>\n      <td>0.1</td>\n    </tr>\n    <tr>\n      <th>770881</th>\n      <td>TX</td>\n      <td>0.2</td>\n    </tr>\n    <tr>\n      <th>25432</th>\n      <td>WA</td>\n      <td>0.1</td>\n    </tr>\n    <tr>\n      <th>24350</th>\n      <td>NY</td>\n      <td>0.2</td>\n    </tr>\n    <tr>\n      <th>465971</th>\n      <td>NH</td>\n      <td>0.1</td>\n    </tr>\n    <tr>\n      <th>254473</th>\n      <td>NV</td>\n      <td>0.2</td>\n    </tr>\n    <tr>\n      <th>481676</th>\n      <td>CA</td>\n      <td>0.2</td>\n    </tr>\n  </tbody>\n</table>\n</div>"
     },
     "execution_count": 99,
     "metadata": {},
     "output_type": "execute_result"
    }
   ],
   "source": [
    "df[['State', 'StateRate']].sample(7)"
   ],
   "metadata": {
    "collapsed": false,
    "ExecuteTime": {
     "end_time": "2024-07-05T15:20:52.873831Z",
     "start_time": "2024-07-05T15:20:52.813046Z"
    }
   },
   "id": "1e68a89a425d3be9",
   "execution_count": 99
  },
  {
   "cell_type": "code",
   "outputs": [
    {
     "data": {
      "text/plain": "LowDoc\nN    782822\nY    110335\nName: count, dtype: int64"
     },
     "execution_count": 100,
     "metadata": {},
     "output_type": "execute_result"
    }
   ],
   "source": [
    "# LowDoc\n",
    "df['LowDoc'].value_counts()"
   ],
   "metadata": {
    "collapsed": false,
    "ExecuteTime": {
     "end_time": "2024-07-05T15:20:52.920770Z",
     "start_time": "2024-07-05T15:20:52.876831Z"
    }
   },
   "id": "e2d6eb55dd58bf2b",
   "execution_count": 100
  },
  {
   "cell_type": "code",
   "outputs": [],
   "source": [],
   "metadata": {
    "collapsed": false,
    "ExecuteTime": {
     "end_time": "2024-07-05T15:20:52.936312Z",
     "start_time": "2024-07-05T15:20:52.922772Z"
    }
   },
   "id": "5a55c8414cdd2491",
   "execution_count": 100
  },
  {
   "cell_type": "code",
   "outputs": [],
   "source": [
    "# Accoding to the guidelines if Loan (DisbursementGross) < 150,000 then LowDoc = 1 , else 0\n",
    "df['LowDoc'] = np.where((df['LowDoc'].isna()) & (df['DisbursementGross'] < 150000), 'Y', df['LowDoc'])\n",
    "df['LowDoc'] = np.where((df['LowDoc'].isna()) & (df['DisbursementGross'] >= 150000), 'N', df['LowDoc'])\n",
    "df = df[(df['LowDoc'] == 'N') | (df['LowDoc'] == 'Y')]"
   ],
   "metadata": {
    "collapsed": false,
    "ExecuteTime": {
     "end_time": "2024-07-05T15:20:53.432415Z",
     "start_time": "2024-07-05T15:20:52.938379Z"
    }
   },
   "id": "fbe8078a107adc4e",
   "execution_count": 101
  },
  {
   "cell_type": "code",
   "outputs": [
    {
     "data": {
      "text/plain": "0"
     },
     "execution_count": 102,
     "metadata": {},
     "output_type": "execute_result"
    }
   ],
   "source": [
    "df['LowDoc'].isna().sum()"
   ],
   "metadata": {
    "collapsed": false,
    "ExecuteTime": {
     "end_time": "2024-07-05T15:20:53.479188Z",
     "start_time": "2024-07-05T15:20:53.436070Z"
    }
   },
   "id": "74ea8ea95b409896",
   "execution_count": 102
  },
  {
   "cell_type": "code",
   "outputs": [
    {
     "data": {
      "text/plain": "LowDoc\nN    785228\nY    113936\nName: count, dtype: int64"
     },
     "execution_count": 103,
     "metadata": {},
     "output_type": "execute_result"
    }
   ],
   "source": [
    "df['LowDoc'].value_counts()"
   ],
   "metadata": {
    "collapsed": false,
    "ExecuteTime": {
     "end_time": "2024-07-05T15:20:53.540818Z",
     "start_time": "2024-07-05T15:20:53.483194Z"
    }
   },
   "id": "517acda23189d410",
   "execution_count": 103
  },
  {
   "cell_type": "code",
   "outputs": [],
   "source": [
    "# Now drop 'ChgOffDate' , bcz it's missing proportion is 82%\n",
    "df.drop('ChgOffDate', axis=1, inplace=True)"
   ],
   "metadata": {
    "ExecuteTime": {
     "end_time": "2024-07-05T15:20:53.681670Z",
     "start_time": "2024-07-05T15:20:53.543822Z"
    }
   },
   "id": "f62bdd0f-ee9e-4058-8dcc-c3caf06c068e",
   "execution_count": 104
  },
  {
   "cell_type": "code",
   "outputs": [],
   "source": [],
   "metadata": {
    "collapsed": false,
    "ExecuteTime": {
     "end_time": "2024-07-05T15:20:53.696967Z",
     "start_time": "2024-07-05T15:20:53.686461Z"
    }
   },
   "id": "ada22e4e067e494d",
   "execution_count": 104
  },
  {
   "cell_type": "code",
   "outputs": [],
   "source": [
    "# drop missing value columns with missing proportion is less than 10%\n",
    "# SectorDesc and SectorRate columns miss 22.5% of data, This happens beacuse NAICS column contains value 0, which is not and industrycode assigned by NAICS association. Unfortunately there is no way to handle this.\n",
    "df.dropna(inplace=True)"
   ],
   "metadata": {
    "ExecuteTime": {
     "end_time": "2024-07-05T15:20:54.087478Z",
     "start_time": "2024-07-05T15:20:53.699192Z"
    }
   },
   "id": "49bbeee2-5c02-4963-a836-b48755aefaa7",
   "execution_count": 105
  },
  {
   "cell_type": "code",
   "outputs": [
    {
     "data": {
      "text/plain": "0"
     },
     "execution_count": 106,
     "metadata": {},
     "output_type": "execute_result"
    }
   ],
   "source": [
    "df.isna().sum().sum()"
   ],
   "metadata": {
    "ExecuteTime": {
     "end_time": "2024-07-05T15:20:54.320144Z",
     "start_time": "2024-07-05T15:20:54.092062Z"
    }
   },
   "id": "6c16599a-5577-46da-b9f5-116609a5a30f",
   "execution_count": 106
  },
  {
   "cell_type": "code",
   "outputs": [
    {
     "data": {
      "text/plain": "(677685, 34)"
     },
     "execution_count": 112,
     "metadata": {},
     "output_type": "execute_result"
    }
   ],
   "source": [
    "df.shape"
   ],
   "metadata": {
    "collapsed": false,
    "ExecuteTime": {
     "end_time": "2024-07-05T15:22:01.796581Z",
     "start_time": "2024-07-05T15:22:01.782346Z"
    }
   },
   "id": "3f01fe7b0f605725",
   "execution_count": 112
  },
  {
   "cell_type": "code",
   "outputs": [
    {
     "data": {
      "text/plain": "<Figure size 400x400 with 0 Axes>"
     },
     "metadata": {},
     "output_type": "display_data"
    },
    {
     "data": {
      "text/plain": "<Figure size 640x480 with 1 Axes>",
      "image/png": "[encoded data removed]"
     },
     "metadata": {},
     "output_type": "display_data"
    }
   ],
   "source": [
    "initial_df_size = 899164\n",
    "cleaned_df_size = df.shape[0]\n",
    "data_loss = (initial_df_size-cleaned_df_size)\n",
    "\n",
    "plt.figure(figsize=(4,4))\n",
    "fig, ax = plt.subplots()\n",
    "wedges, texts, autotexts = ax.pie(\n",
    "    [cleaned_df_size, data_loss], labels=['Remaining Data', 'Lost Data'], colors = [ '#6C839B', '#B14B51'],\n",
    "    autopct=lambda p: '{:.1f}%'.format(p), textprops={'fontsize': 10, 'fontweight': 'bold', 'color':'black'}, startangle=90, pctdistance=0.85,\n",
    "    wedgeprops=dict({'linewidth':2, 'edgecolor': 'white'})\n",
    ")\n",
    "for autotext in autotexts:\n",
    "    autotext.set_color('white')\n",
    "    autotext.set_fontsize(10)\n",
    "    autotext.set_fontweight('bold')\n",
    "center = plt.Circle((0, 0), 0.7, fc='#D0A99C',linewidth=2)\n",
    "fig.gca().add_artist(center)\n",
    "\n",
    "plt.text(0,0, '100%', ha='center', va='center', fontsize=10, color='white', fontweight='bold')\n",
    "ax.axis('equal')\n",
    "plt.title('Cleaned Dataset', fontweight='bold', fontsize=15)\n",
    "sns.despine(left=True, bottom=True)\n",
    "plt.savefig('../plots/EDA/CleanedDataset.png', dpi=300, bbox_inches='tight')\n",
    "plt.show()"
   ],
   "metadata": {
    "collapsed": false,
    "ExecuteTime": {
     "end_time": "2024-07-05T15:24:19.123598Z",
     "start_time": "2024-07-05T15:24:18.837814Z"
    }
   },
   "id": "ee63984db61ee",
   "execution_count": 116
  },
  {
   "cell_type": "code",
   "outputs": [],
   "source": [
    "#export cleaned dataset\n",
    "df.to_csv('../data/SBA_cleaned.csv',index=False)"
   ],
   "metadata": {
    "collapsed": false,
    "ExecuteTime": {
     "end_time": "2024-07-05T15:29:01.796250Z",
     "start_time": "2024-07-05T15:28:52.389164Z"
    }
   },
   "id": "63e30f48767b352b",
   "execution_count": 118
  }
 ],
 "metadata": {
  "kernelspec": {
   "name": "gpuenv",
   "language": "python",
   "display_name": "tf (py 3.8)"
  },
  "language_info": {
   "codemirror_mode": {
    "name": "ipython",
    "version": 3
   },
   "file_extension": ".py",
   "mimetype": "text/x-python",
   "name": "python",
   "nbconvert_exporter": "python",
   "pygments_lexer": "ipython3",
   "version": "3.9.19"
  }
 },
 "nbformat": 4,
 "nbformat_minor": 5
}
