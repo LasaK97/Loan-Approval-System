{
 "cells": [
  {
   "cell_type": "code",
   "execution_count": 3,
   "id": "fb7a6ea4-374b-4ab5-a04d-6fcf922781bc",
   "metadata": {
    "ExecuteTime": {
     "end_time": "2024-07-03T15:28:23.926148Z",
     "start_time": "2024-07-03T15:28:23.908147Z"
    }
   },
   "outputs": [],
   "source": [
    "import pandas as pd\n",
    "import numpy as np\n",
    "import re\n",
    "import matplotlib.pyplot as plt\n",
    "import seaborn as sns"
   ]
  },
  {
   "cell_type": "code",
   "execution_count": 4,
   "id": "566cf384-cec5-4234-b145-9275def29a97",
   "metadata": {
    "ExecuteTime": {
     "end_time": "2024-07-03T15:28:27.537281Z",
     "start_time": "2024-07-03T15:28:24.187757Z"
    }
   },
   "outputs": [],
   "source": [
    "df = pd.read_csv('../data/SBAnational.csv', low_memory=False)"
   ]
  },
  {
   "cell_type": "code",
   "execution_count": 5,
   "id": "7db1cdfa-5c0b-4bd2-bf4c-f57abf092298",
   "metadata": {
    "ExecuteTime": {
     "end_time": "2024-07-03T15:28:27.600801Z",
     "start_time": "2024-07-03T15:28:27.540267Z"
    }
   },
   "outputs": [
    {
     "data": {
      "text/plain": "        LoanNr_ChkDgt                            Name          City State  \\\n785683     8336553000               MAU-SCHMALING INC       KENOSHA    WI   \n812968     8713564006   Manzanares Equity Management,    PLANTATION    FL   \n155582     2132135007             All for Maddie Inc.        Lititz    PA   \n196754     2388154010  S&S IRRIGATION INC AND SCOTT A  INDIANAPOLIS    IN   \n608816     6046824008            RICK & KINDY MCINNIS       SPOKANE    WA   \n\n          Zip                            Bank BankState   NAICS ApprovalDate  \\\n785683  53142        BMO HARRIS BK NATL ASSOC        IL       0    13-May-95   \n812968  33324  INDEPENDENT DEVEL SERVICES COR        FL  611110    17-Mar-05   \n155582  17543   MANUFACTURERS & TRADERS TR CO        NY  446199    17-Nov-06   \n196754  46236    THE HUNTINGTON NATIONAL BANK        IN       0    14-Oct-98   \n608816  99212           WASHINGTON TRUST BANK        WA  722110    24-Jan-03   \n\n       ApprovalFY  ...  RevLineCr  LowDoc  ChgOffDate  DisbursementDate  \\\n785683       1995  ...          N       Y         NaN         31-Jul-95   \n812968       2005  ...          0       N         NaN         15-Mar-06   \n155582       2007  ...          N       N   25-Aug-09         31-Dec-06   \n196754       1999  ...          0       N         NaN         31-Dec-98   \n608816       2003  ...          0       Y         NaN         31-Jan-03   \n\n        DisbursementGross  BalanceGross  MIS_Status ChgOffPrinGr  \\\n785683        $46,875.00         $0.00        P I F       $0.00    \n812968     $1,008,000.00         $0.00        P I F       $0.00    \n155582        $90,000.00         $0.00       CHGOFF  $78,988.00    \n196754       $160,000.00         $0.00        P I F       $0.00    \n608816       $150,000.00         $0.00        P I F       $0.00    \n\n                GrAppv        SBA_Appv  \n785683     $46,875.00      $42,188.00   \n812968  $1,008,000.00   $1,008,000.00   \n155582     $90,000.00      $45,000.00   \n196754    $160,000.00     $120,000.00   \n608816    $150,000.00     $127,500.00   \n\n[5 rows x 27 columns]",
      "text/html": "<div>\n<style scoped>\n    .dataframe tbody tr th:only-of-type {\n        vertical-align: middle;\n    }\n\n    .dataframe tbody tr th {\n        vertical-align: top;\n    }\n\n    .dataframe thead th {\n        text-align: right;\n    }\n</style>\n<table border=\"1\" class=\"dataframe\">\n  <thead>\n    <tr style=\"text-align: right;\">\n      <th></th>\n      <th>LoanNr_ChkDgt</th>\n      <th>Name</th>\n      <th>City</th>\n      <th>State</th>\n      <th>Zip</th>\n      <th>Bank</th>\n      <th>BankState</th>\n      <th>NAICS</th>\n      <th>ApprovalDate</th>\n      <th>ApprovalFY</th>\n      <th>...</th>\n      <th>RevLineCr</th>\n      <th>LowDoc</th>\n      <th>ChgOffDate</th>\n      <th>DisbursementDate</th>\n      <th>DisbursementGross</th>\n      <th>BalanceGross</th>\n      <th>MIS_Status</th>\n      <th>ChgOffPrinGr</th>\n      <th>GrAppv</th>\n      <th>SBA_Appv</th>\n    </tr>\n  </thead>\n  <tbody>\n    <tr>\n      <th>785683</th>\n      <td>8336553000</td>\n      <td>MAU-SCHMALING INC</td>\n      <td>KENOSHA</td>\n      <td>WI</td>\n      <td>53142</td>\n      <td>BMO HARRIS BK NATL ASSOC</td>\n      <td>IL</td>\n      <td>0</td>\n      <td>13-May-95</td>\n      <td>1995</td>\n      <td>...</td>\n      <td>N</td>\n      <td>Y</td>\n      <td>NaN</td>\n      <td>31-Jul-95</td>\n      <td>$46,875.00</td>\n      <td>$0.00</td>\n      <td>P I F</td>\n      <td>$0.00</td>\n      <td>$46,875.00</td>\n      <td>$42,188.00</td>\n    </tr>\n    <tr>\n      <th>812968</th>\n      <td>8713564006</td>\n      <td>Manzanares Equity Management,</td>\n      <td>PLANTATION</td>\n      <td>FL</td>\n      <td>33324</td>\n      <td>INDEPENDENT DEVEL SERVICES COR</td>\n      <td>FL</td>\n      <td>611110</td>\n      <td>17-Mar-05</td>\n      <td>2005</td>\n      <td>...</td>\n      <td>0</td>\n      <td>N</td>\n      <td>NaN</td>\n      <td>15-Mar-06</td>\n      <td>$1,008,000.00</td>\n      <td>$0.00</td>\n      <td>P I F</td>\n      <td>$0.00</td>\n      <td>$1,008,000.00</td>\n      <td>$1,008,000.00</td>\n    </tr>\n    <tr>\n      <th>155582</th>\n      <td>2132135007</td>\n      <td>All for Maddie Inc.</td>\n      <td>Lititz</td>\n      <td>PA</td>\n      <td>17543</td>\n      <td>MANUFACTURERS &amp; TRADERS TR CO</td>\n      <td>NY</td>\n      <td>446199</td>\n      <td>17-Nov-06</td>\n      <td>2007</td>\n      <td>...</td>\n      <td>N</td>\n      <td>N</td>\n      <td>25-Aug-09</td>\n      <td>31-Dec-06</td>\n      <td>$90,000.00</td>\n      <td>$0.00</td>\n      <td>CHGOFF</td>\n      <td>$78,988.00</td>\n      <td>$90,000.00</td>\n      <td>$45,000.00</td>\n    </tr>\n    <tr>\n      <th>196754</th>\n      <td>2388154010</td>\n      <td>S&amp;S IRRIGATION INC AND SCOTT A</td>\n      <td>INDIANAPOLIS</td>\n      <td>IN</td>\n      <td>46236</td>\n      <td>THE HUNTINGTON NATIONAL BANK</td>\n      <td>IN</td>\n      <td>0</td>\n      <td>14-Oct-98</td>\n      <td>1999</td>\n      <td>...</td>\n      <td>0</td>\n      <td>N</td>\n      <td>NaN</td>\n      <td>31-Dec-98</td>\n      <td>$160,000.00</td>\n      <td>$0.00</td>\n      <td>P I F</td>\n      <td>$0.00</td>\n      <td>$160,000.00</td>\n      <td>$120,000.00</td>\n    </tr>\n    <tr>\n      <th>608816</th>\n      <td>6046824008</td>\n      <td>RICK &amp; KINDY MCINNIS</td>\n      <td>SPOKANE</td>\n      <td>WA</td>\n      <td>99212</td>\n      <td>WASHINGTON TRUST BANK</td>\n      <td>WA</td>\n      <td>722110</td>\n      <td>24-Jan-03</td>\n      <td>2003</td>\n      <td>...</td>\n      <td>0</td>\n      <td>Y</td>\n      <td>NaN</td>\n      <td>31-Jan-03</td>\n      <td>$150,000.00</td>\n      <td>$0.00</td>\n      <td>P I F</td>\n      <td>$0.00</td>\n      <td>$150,000.00</td>\n      <td>$127,500.00</td>\n    </tr>\n  </tbody>\n</table>\n<p>5 rows × 27 columns</p>\n</div>"
     },
     "execution_count": 5,
     "metadata": {},
     "output_type": "execute_result"
    }
   ],
   "source": [
    "df.sample(5)"
   ]
  },
  {
   "cell_type": "code",
   "execution_count": 5,
   "id": "832faf94-0c16-49fc-a578-ce830094dfa8",
   "metadata": {
    "ExecuteTime": {
     "end_time": "2024-07-03T15:28:27.616397Z",
     "start_time": "2024-07-03T15:28:27.602802Z"
    }
   },
   "outputs": [],
   "source": []
  },
  {
   "cell_type": "markdown",
   "id": "d05eca78-4968-4b26-bb1a-0a4177a52f33",
   "metadata": {},
   "source": [
    "## 1. Basic Information"
   ]
  },
  {
   "cell_type": "code",
   "execution_count": 6,
   "id": "54c3b408-cbce-4e76-8456-078fa6837ded",
   "metadata": {
    "ExecuteTime": {
     "end_time": "2024-07-03T15:28:27.772144Z",
     "start_time": "2024-07-03T15:28:27.619491Z"
    }
   },
   "outputs": [
    {
     "name": "stdout",
     "output_type": "stream",
     "text": [
      "There are 899,164 obseravations and 27 features in the dataset.\n",
      "There are 10 Numerical features and 17 Categorical features in the dataset.\n"
     ]
    }
   ],
   "source": [
    "print(\"There are {:,} obseravations and {} features in the dataset.\".format(df.shape[0], df.shape[1]))\n",
    "print(f'There are {len(df.select_dtypes(exclude=[\"object\"]).columns)} Numerical features and {len(df.select_dtypes(include=[\"object\"]).columns)} Categorical features in the dataset.')"
   ]
  },
  {
   "cell_type": "code",
   "execution_count": 7,
   "id": "32b83a6b-8770-48a7-b00e-9e95d63a5c47",
   "metadata": {
    "ExecuteTime": {
     "end_time": "2024-07-03T15:28:28.213191Z",
     "start_time": "2024-07-03T15:28:27.774153Z"
    }
   },
   "outputs": [
    {
     "name": "stdout",
     "output_type": "stream",
     "text": [
      "<class 'pandas.core.frame.DataFrame'>\n",
      "RangeIndex: 899164 entries, 0 to 899163\n",
      "Data columns (total 27 columns):\n",
      " #   Column             Non-Null Count   Dtype  \n",
      "---  ------             --------------   -----  \n",
      " 0   LoanNr_ChkDgt      899164 non-null  int64  \n",
      " 1   Name               899150 non-null  object \n",
      " 2   City               899134 non-null  object \n",
      " 3   State              899150 non-null  object \n",
      " 4   Zip                899164 non-null  int64  \n",
      " 5   Bank               897605 non-null  object \n",
      " 6   BankState          897598 non-null  object \n",
      " 7   NAICS              899164 non-null  int64  \n",
      " 8   ApprovalDate       899164 non-null  object \n",
      " 9   ApprovalFY         899164 non-null  object \n",
      " 10  Term               899164 non-null  int64  \n",
      " 11  NoEmp              899164 non-null  int64  \n",
      " 12  NewExist           899028 non-null  float64\n",
      " 13  CreateJob          899164 non-null  int64  \n",
      " 14  RetainedJob        899164 non-null  int64  \n",
      " 15  FranchiseCode      899164 non-null  int64  \n",
      " 16  UrbanRural         899164 non-null  int64  \n",
      " 17  RevLineCr          894636 non-null  object \n",
      " 18  LowDoc             896582 non-null  object \n",
      " 19  ChgOffDate         162699 non-null  object \n",
      " 20  DisbursementDate   896796 non-null  object \n",
      " 21  DisbursementGross  899164 non-null  object \n",
      " 22  BalanceGross       899164 non-null  object \n",
      " 23  MIS_Status         897167 non-null  object \n",
      " 24  ChgOffPrinGr       899164 non-null  object \n",
      " 25  GrAppv             899164 non-null  object \n",
      " 26  SBA_Appv           899164 non-null  object \n",
      "dtypes: float64(1), int64(9), object(17)\n",
      "memory usage: 185.2+ MB\n"
     ]
    }
   ],
   "source": [
    "# feature info\n",
    "df.info()"
   ]
  },
  {
   "cell_type": "code",
   "execution_count": 7,
   "id": "f79d6b20-aea7-4143-94c1-25d0c6a31705",
   "metadata": {
    "ExecuteTime": {
     "end_time": "2024-07-03T15:28:28.229190Z",
     "start_time": "2024-07-03T15:28:28.216188Z"
    }
   },
   "outputs": [],
   "source": []
  },
  {
   "cell_type": "markdown",
   "id": "19f4ab9b-2368-46c9-8e21-30fc004d9bd1",
   "metadata": {},
   "source": [
    "### 1.1 Summary Statistics of Numerical Features"
   ]
  },
  {
   "cell_type": "code",
   "execution_count": 7,
   "id": "eeb6142c-d7d6-49a1-a022-33bfdbb904a1",
   "metadata": {
    "ExecuteTime": {
     "end_time": "2024-07-03T15:28:28.245201Z",
     "start_time": "2024-07-03T15:28:28.230192Z"
    }
   },
   "outputs": [],
   "source": []
  },
  {
   "cell_type": "code",
   "execution_count": 10,
   "id": "b7840586-18ba-4b78-a4ec-ebfb63816458",
   "metadata": {
    "ExecuteTime": {
     "end_time": "2024-07-03T15:28:44.756661Z",
     "start_time": "2024-07-03T15:28:44.551449Z"
    }
   },
   "outputs": [
    {
     "data": {
      "text/plain": "<pandas.io.formats.style.Styler at 0x21baad5feb0>",
      "text/html": "<style type=\"text/css\">\n#T_82544_row0_col0, #T_82544_row1_col0, #T_82544_row1_col1, #T_82544_row1_col2, #T_82544_row1_col4, #T_82544_row1_col5, #T_82544_row1_col6, #T_82544_row1_col7, #T_82544_row2_col0, #T_82544_row2_col1, #T_82544_row2_col2, #T_82544_row2_col4, #T_82544_row2_col5, #T_82544_row2_col6, #T_82544_row2_col7, #T_82544_row3_col0, #T_82544_row4_col0, #T_82544_row4_col7, #T_82544_row5_col0, #T_82544_row6_col0, #T_82544_row6_col7, #T_82544_row7_col0, #T_82544_row7_col7, #T_82544_row8_col0, #T_82544_row8_col1, #T_82544_row8_col2, #T_82544_row8_col7, #T_82544_row9_col0 {\n  background-color: lightcoral;\n}\n#T_82544_row0_col1, #T_82544_row0_col2, #T_82544_row0_col3, #T_82544_row0_col4, #T_82544_row0_col5, #T_82544_row0_col6, #T_82544_row0_col7 {\n  background-color: purple;\n}\n#T_82544_row1_col3, #T_82544_row2_col3, #T_82544_row3_col3, #T_82544_row4_col3, #T_82544_row5_col3, #T_82544_row6_col3, #T_82544_row6_col4, #T_82544_row6_col5, #T_82544_row7_col3, #T_82544_row7_col4, #T_82544_row8_col3, #T_82544_row9_col3, #T_82544_row9_col4 {\n  background-color: white;\n}\n#T_82544_row3_col1, #T_82544_row3_col6, #T_82544_row3_col7, #T_82544_row6_col2, #T_82544_row7_col2 {\n  background-color: lightblue;\n}\n#T_82544_row3_col2, #T_82544_row3_col4, #T_82544_row3_col5, #T_82544_row4_col1, #T_82544_row4_col2, #T_82544_row7_col1 {\n  background-color: lightgreen;\n}\n#T_82544_row4_col4, #T_82544_row4_col5, #T_82544_row4_col6, #T_82544_row5_col1, #T_82544_row5_col2, #T_82544_row5_col4, #T_82544_row5_col5, #T_82544_row5_col6, #T_82544_row5_col7, #T_82544_row6_col1, #T_82544_row6_col6, #T_82544_row7_col5, #T_82544_row7_col6, #T_82544_row8_col4, #T_82544_row8_col5, #T_82544_row8_col6, #T_82544_row9_col1, #T_82544_row9_col2, #T_82544_row9_col5, #T_82544_row9_col6, #T_82544_row9_col7 {\n  background-color: lightyellow;\n}\n</style>\n<table id=\"T_82544\">\n  <thead>\n    <tr>\n      <th class=\"blank level0\" >&nbsp;</th>\n      <th id=\"T_82544_level0_col0\" class=\"col_heading level0 col0\" >count</th>\n      <th id=\"T_82544_level0_col1\" class=\"col_heading level0 col1\" >mean</th>\n      <th id=\"T_82544_level0_col2\" class=\"col_heading level0 col2\" >std</th>\n      <th id=\"T_82544_level0_col3\" class=\"col_heading level0 col3\" >min</th>\n      <th id=\"T_82544_level0_col4\" class=\"col_heading level0 col4\" >25%</th>\n      <th id=\"T_82544_level0_col5\" class=\"col_heading level0 col5\" >50%</th>\n      <th id=\"T_82544_level0_col6\" class=\"col_heading level0 col6\" >75%</th>\n      <th id=\"T_82544_level0_col7\" class=\"col_heading level0 col7\" >max</th>\n    </tr>\n  </thead>\n  <tbody>\n    <tr>\n      <th id=\"T_82544_level0_row0\" class=\"row_heading level0 row0\" >LoanNr_ChkDgt</th>\n      <td id=\"T_82544_row0_col0\" class=\"data row0 col0\" >899164.000</td>\n      <td id=\"T_82544_row0_col1\" class=\"data row0 col1\" >4772612310.594</td>\n      <td id=\"T_82544_row0_col2\" class=\"data row0 col2\" >2538175037.453</td>\n      <td id=\"T_82544_row0_col3\" class=\"data row0 col3\" >1000014003.000</td>\n      <td id=\"T_82544_row0_col4\" class=\"data row0 col4\" >2589757508.500</td>\n      <td id=\"T_82544_row0_col5\" class=\"data row0 col5\" >4361439006.000</td>\n      <td id=\"T_82544_row0_col6\" class=\"data row0 col6\" >6904626504.750</td>\n      <td id=\"T_82544_row0_col7\" class=\"data row0 col7\" >9996003010.000</td>\n    </tr>\n    <tr>\n      <th id=\"T_82544_level0_row1\" class=\"row_heading level0 row1\" >Zip</th>\n      <td id=\"T_82544_row1_col0\" class=\"data row1 col0\" >899164.000</td>\n      <td id=\"T_82544_row1_col1\" class=\"data row1 col1\" >53804.391</td>\n      <td id=\"T_82544_row1_col2\" class=\"data row1 col2\" >31184.159</td>\n      <td id=\"T_82544_row1_col3\" class=\"data row1 col3\" >0.000</td>\n      <td id=\"T_82544_row1_col4\" class=\"data row1 col4\" >27587.000</td>\n      <td id=\"T_82544_row1_col5\" class=\"data row1 col5\" >55410.000</td>\n      <td id=\"T_82544_row1_col6\" class=\"data row1 col6\" >83704.000</td>\n      <td id=\"T_82544_row1_col7\" class=\"data row1 col7\" >99999.000</td>\n    </tr>\n    <tr>\n      <th id=\"T_82544_level0_row2\" class=\"row_heading level0 row2\" >NAICS</th>\n      <td id=\"T_82544_row2_col0\" class=\"data row2 col0\" >899164.000</td>\n      <td id=\"T_82544_row2_col1\" class=\"data row2 col1\" >398660.950</td>\n      <td id=\"T_82544_row2_col2\" class=\"data row2 col2\" >263318.313</td>\n      <td id=\"T_82544_row2_col3\" class=\"data row2 col3\" >0.000</td>\n      <td id=\"T_82544_row2_col4\" class=\"data row2 col4\" >235210.000</td>\n      <td id=\"T_82544_row2_col5\" class=\"data row2 col5\" >445310.000</td>\n      <td id=\"T_82544_row2_col6\" class=\"data row2 col6\" >561730.000</td>\n      <td id=\"T_82544_row2_col7\" class=\"data row2 col7\" >928120.000</td>\n    </tr>\n    <tr>\n      <th id=\"T_82544_level0_row3\" class=\"row_heading level0 row3\" >Term</th>\n      <td id=\"T_82544_row3_col0\" class=\"data row3 col0\" >899164.000</td>\n      <td id=\"T_82544_row3_col1\" class=\"data row3 col1\" >110.773</td>\n      <td id=\"T_82544_row3_col2\" class=\"data row3 col2\" >78.857</td>\n      <td id=\"T_82544_row3_col3\" class=\"data row3 col3\" >0.000</td>\n      <td id=\"T_82544_row3_col4\" class=\"data row3 col4\" >60.000</td>\n      <td id=\"T_82544_row3_col5\" class=\"data row3 col5\" >84.000</td>\n      <td id=\"T_82544_row3_col6\" class=\"data row3 col6\" >120.000</td>\n      <td id=\"T_82544_row3_col7\" class=\"data row3 col7\" >569.000</td>\n    </tr>\n    <tr>\n      <th id=\"T_82544_level0_row4\" class=\"row_heading level0 row4\" >NoEmp</th>\n      <td id=\"T_82544_row4_col0\" class=\"data row4 col0\" >899164.000</td>\n      <td id=\"T_82544_row4_col1\" class=\"data row4 col1\" >11.411</td>\n      <td id=\"T_82544_row4_col2\" class=\"data row4 col2\" >74.108</td>\n      <td id=\"T_82544_row4_col3\" class=\"data row4 col3\" >0.000</td>\n      <td id=\"T_82544_row4_col4\" class=\"data row4 col4\" >2.000</td>\n      <td id=\"T_82544_row4_col5\" class=\"data row4 col5\" >4.000</td>\n      <td id=\"T_82544_row4_col6\" class=\"data row4 col6\" >10.000</td>\n      <td id=\"T_82544_row4_col7\" class=\"data row4 col7\" >9999.000</td>\n    </tr>\n    <tr>\n      <th id=\"T_82544_level0_row5\" class=\"row_heading level0 row5\" >NewExist</th>\n      <td id=\"T_82544_row5_col0\" class=\"data row5 col0\" >899028.000</td>\n      <td id=\"T_82544_row5_col1\" class=\"data row5 col1\" >1.280</td>\n      <td id=\"T_82544_row5_col2\" class=\"data row5 col2\" >0.452</td>\n      <td id=\"T_82544_row5_col3\" class=\"data row5 col3\" >0.000</td>\n      <td id=\"T_82544_row5_col4\" class=\"data row5 col4\" >1.000</td>\n      <td id=\"T_82544_row5_col5\" class=\"data row5 col5\" >1.000</td>\n      <td id=\"T_82544_row5_col6\" class=\"data row5 col6\" >2.000</td>\n      <td id=\"T_82544_row5_col7\" class=\"data row5 col7\" >2.000</td>\n    </tr>\n    <tr>\n      <th id=\"T_82544_level0_row6\" class=\"row_heading level0 row6\" >CreateJob</th>\n      <td id=\"T_82544_row6_col0\" class=\"data row6 col0\" >899164.000</td>\n      <td id=\"T_82544_row6_col1\" class=\"data row6 col1\" >8.430</td>\n      <td id=\"T_82544_row6_col2\" class=\"data row6 col2\" >236.688</td>\n      <td id=\"T_82544_row6_col3\" class=\"data row6 col3\" >0.000</td>\n      <td id=\"T_82544_row6_col4\" class=\"data row6 col4\" >0.000</td>\n      <td id=\"T_82544_row6_col5\" class=\"data row6 col5\" >0.000</td>\n      <td id=\"T_82544_row6_col6\" class=\"data row6 col6\" >1.000</td>\n      <td id=\"T_82544_row6_col7\" class=\"data row6 col7\" >8800.000</td>\n    </tr>\n    <tr>\n      <th id=\"T_82544_level0_row7\" class=\"row_heading level0 row7\" >RetainedJob</th>\n      <td id=\"T_82544_row7_col0\" class=\"data row7 col0\" >899164.000</td>\n      <td id=\"T_82544_row7_col1\" class=\"data row7 col1\" >10.797</td>\n      <td id=\"T_82544_row7_col2\" class=\"data row7 col2\" >237.121</td>\n      <td id=\"T_82544_row7_col3\" class=\"data row7 col3\" >0.000</td>\n      <td id=\"T_82544_row7_col4\" class=\"data row7 col4\" >0.000</td>\n      <td id=\"T_82544_row7_col5\" class=\"data row7 col5\" >1.000</td>\n      <td id=\"T_82544_row7_col6\" class=\"data row7 col6\" >4.000</td>\n      <td id=\"T_82544_row7_col7\" class=\"data row7 col7\" >9500.000</td>\n    </tr>\n    <tr>\n      <th id=\"T_82544_level0_row8\" class=\"row_heading level0 row8\" >FranchiseCode</th>\n      <td id=\"T_82544_row8_col0\" class=\"data row8 col0\" >899164.000</td>\n      <td id=\"T_82544_row8_col1\" class=\"data row8 col1\" >2753.726</td>\n      <td id=\"T_82544_row8_col2\" class=\"data row8 col2\" >12758.019</td>\n      <td id=\"T_82544_row8_col3\" class=\"data row8 col3\" >0.000</td>\n      <td id=\"T_82544_row8_col4\" class=\"data row8 col4\" >1.000</td>\n      <td id=\"T_82544_row8_col5\" class=\"data row8 col5\" >1.000</td>\n      <td id=\"T_82544_row8_col6\" class=\"data row8 col6\" >1.000</td>\n      <td id=\"T_82544_row8_col7\" class=\"data row8 col7\" >99999.000</td>\n    </tr>\n    <tr>\n      <th id=\"T_82544_level0_row9\" class=\"row_heading level0 row9\" >UrbanRural</th>\n      <td id=\"T_82544_row9_col0\" class=\"data row9 col0\" >899164.000</td>\n      <td id=\"T_82544_row9_col1\" class=\"data row9 col1\" >0.758</td>\n      <td id=\"T_82544_row9_col2\" class=\"data row9 col2\" >0.646</td>\n      <td id=\"T_82544_row9_col3\" class=\"data row9 col3\" >0.000</td>\n      <td id=\"T_82544_row9_col4\" class=\"data row9 col4\" >0.000</td>\n      <td id=\"T_82544_row9_col5\" class=\"data row9 col5\" >1.000</td>\n      <td id=\"T_82544_row9_col6\" class=\"data row9 col6\" >1.000</td>\n      <td id=\"T_82544_row9_col7\" class=\"data row9 col7\" >2.000</td>\n    </tr>\n  </tbody>\n</table>\n"
     },
     "execution_count": 10,
     "metadata": {},
     "output_type": "execute_result"
    }
   ],
   "source": [
    "df.describe().T.round(3).style.applymap(lambda val: 'background-color: {}'.format('white' if val == 0 else 'lightyellow' \n",
    "                                                                             if val <= 10 else 'lightgreen' \n",
    "                                                                             if val <= 100 else 'lightblue' \n",
    "                                                                             if val <= 1000 else 'lightcoral' \n",
    "                                                                             if val <= 1000000 else 'purple')).format(precision=3)"
   ]
  },
  {
   "cell_type": "markdown",
   "id": "3909e473-1a21-42bc-9323-53ae088b5896",
   "metadata": {},
   "source": [
    "### 1.2 Summary Statistics of Categorical Features"
   ]
  },
  {
   "cell_type": "code",
   "execution_count": 11,
   "id": "a3854c46-d42a-4525-bec0-f7c6f8e8be6d",
   "metadata": {
    "ExecuteTime": {
     "end_time": "2024-07-03T15:28:59.433606Z",
     "start_time": "2024-07-03T15:28:57.693568Z"
    }
   },
   "outputs": [
    {
     "data": {
      "text/plain": "<pandas.io.formats.style.Styler at 0x21baa95c6d0>",
      "text/html": "<style type=\"text/css\">\n#T_32857_row0_col0, #T_32857_row0_col1, #T_32857_row0_col2, #T_32857_row0_col3, #T_32857_row0_col4, #T_32857_row0_col5, #T_32857_row0_col6, #T_32857_row0_col7, #T_32857_row0_col8, #T_32857_row0_col9, #T_32857_row0_col10, #T_32857_row0_col11, #T_32857_row0_col12, #T_32857_row0_col13, #T_32857_row0_col14, #T_32857_row0_col15, #T_32857_row0_col16 {\n  background-color: lightblue;\n}\n#T_32857_row1_col0, #T_32857_row1_col1, #T_32857_row1_col2, #T_32857_row1_col3, #T_32857_row1_col4, #T_32857_row1_col5, #T_32857_row1_col6, #T_32857_row1_col7, #T_32857_row1_col8, #T_32857_row1_col9, #T_32857_row1_col10, #T_32857_row1_col11, #T_32857_row1_col12, #T_32857_row1_col13, #T_32857_row1_col14, #T_32857_row1_col15, #T_32857_row1_col16 {\n  background-color: lightgreen;\n}\n#T_32857_row2_col0, #T_32857_row2_col1, #T_32857_row2_col2, #T_32857_row2_col3, #T_32857_row2_col4, #T_32857_row2_col5, #T_32857_row2_col6, #T_32857_row2_col7, #T_32857_row2_col8, #T_32857_row2_col9, #T_32857_row2_col10, #T_32857_row2_col11, #T_32857_row2_col12, #T_32857_row2_col13, #T_32857_row2_col14, #T_32857_row2_col15, #T_32857_row2_col16 {\n  background-color: lightcoral;\n}\n#T_32857_row3_col0, #T_32857_row3_col1, #T_32857_row3_col2, #T_32857_row3_col3, #T_32857_row3_col4, #T_32857_row3_col5, #T_32857_row3_col6, #T_32857_row3_col7, #T_32857_row3_col8, #T_32857_row3_col9, #T_32857_row3_col10, #T_32857_row3_col11, #T_32857_row3_col12, #T_32857_row3_col13, #T_32857_row3_col14, #T_32857_row3_col15, #T_32857_row3_col16 {\n  background-color: lightyellow;\n}\n</style>\n<table id=\"T_32857\">\n  <thead>\n    <tr>\n      <th class=\"blank level0\" >&nbsp;</th>\n      <th id=\"T_32857_level0_col0\" class=\"col_heading level0 col0\" >Name</th>\n      <th id=\"T_32857_level0_col1\" class=\"col_heading level0 col1\" >City</th>\n      <th id=\"T_32857_level0_col2\" class=\"col_heading level0 col2\" >State</th>\n      <th id=\"T_32857_level0_col3\" class=\"col_heading level0 col3\" >Bank</th>\n      <th id=\"T_32857_level0_col4\" class=\"col_heading level0 col4\" >BankState</th>\n      <th id=\"T_32857_level0_col5\" class=\"col_heading level0 col5\" >ApprovalDate</th>\n      <th id=\"T_32857_level0_col6\" class=\"col_heading level0 col6\" >ApprovalFY</th>\n      <th id=\"T_32857_level0_col7\" class=\"col_heading level0 col7\" >RevLineCr</th>\n      <th id=\"T_32857_level0_col8\" class=\"col_heading level0 col8\" >LowDoc</th>\n      <th id=\"T_32857_level0_col9\" class=\"col_heading level0 col9\" >ChgOffDate</th>\n      <th id=\"T_32857_level0_col10\" class=\"col_heading level0 col10\" >DisbursementDate</th>\n      <th id=\"T_32857_level0_col11\" class=\"col_heading level0 col11\" >DisbursementGross</th>\n      <th id=\"T_32857_level0_col12\" class=\"col_heading level0 col12\" >BalanceGross</th>\n      <th id=\"T_32857_level0_col13\" class=\"col_heading level0 col13\" >MIS_Status</th>\n      <th id=\"T_32857_level0_col14\" class=\"col_heading level0 col14\" >ChgOffPrinGr</th>\n      <th id=\"T_32857_level0_col15\" class=\"col_heading level0 col15\" >GrAppv</th>\n      <th id=\"T_32857_level0_col16\" class=\"col_heading level0 col16\" >SBA_Appv</th>\n    </tr>\n  </thead>\n  <tbody>\n    <tr>\n      <th id=\"T_32857_level0_row0\" class=\"row_heading level0 row0\" >count</th>\n      <td id=\"T_32857_row0_col0\" class=\"data row0 col0\" >899150</td>\n      <td id=\"T_32857_row0_col1\" class=\"data row0 col1\" >899134</td>\n      <td id=\"T_32857_row0_col2\" class=\"data row0 col2\" >899150</td>\n      <td id=\"T_32857_row0_col3\" class=\"data row0 col3\" >897605</td>\n      <td id=\"T_32857_row0_col4\" class=\"data row0 col4\" >897598</td>\n      <td id=\"T_32857_row0_col5\" class=\"data row0 col5\" >899164</td>\n      <td id=\"T_32857_row0_col6\" class=\"data row0 col6\" >899164</td>\n      <td id=\"T_32857_row0_col7\" class=\"data row0 col7\" >894636</td>\n      <td id=\"T_32857_row0_col8\" class=\"data row0 col8\" >896582</td>\n      <td id=\"T_32857_row0_col9\" class=\"data row0 col9\" >162699</td>\n      <td id=\"T_32857_row0_col10\" class=\"data row0 col10\" >896796</td>\n      <td id=\"T_32857_row0_col11\" class=\"data row0 col11\" >899164</td>\n      <td id=\"T_32857_row0_col12\" class=\"data row0 col12\" >899164</td>\n      <td id=\"T_32857_row0_col13\" class=\"data row0 col13\" >897167</td>\n      <td id=\"T_32857_row0_col14\" class=\"data row0 col14\" >899164</td>\n      <td id=\"T_32857_row0_col15\" class=\"data row0 col15\" >899164</td>\n      <td id=\"T_32857_row0_col16\" class=\"data row0 col16\" >899164</td>\n    </tr>\n    <tr>\n      <th id=\"T_32857_level0_row1\" class=\"row_heading level0 row1\" >unique</th>\n      <td id=\"T_32857_row1_col0\" class=\"data row1 col0\" >779583</td>\n      <td id=\"T_32857_row1_col1\" class=\"data row1 col1\" >32581</td>\n      <td id=\"T_32857_row1_col2\" class=\"data row1 col2\" >51</td>\n      <td id=\"T_32857_row1_col3\" class=\"data row1 col3\" >5802</td>\n      <td id=\"T_32857_row1_col4\" class=\"data row1 col4\" >56</td>\n      <td id=\"T_32857_row1_col5\" class=\"data row1 col5\" >9859</td>\n      <td id=\"T_32857_row1_col6\" class=\"data row1 col6\" >52</td>\n      <td id=\"T_32857_row1_col7\" class=\"data row1 col7\" >18</td>\n      <td id=\"T_32857_row1_col8\" class=\"data row1 col8\" >8</td>\n      <td id=\"T_32857_row1_col9\" class=\"data row1 col9\" >6448</td>\n      <td id=\"T_32857_row1_col10\" class=\"data row1 col10\" >8472</td>\n      <td id=\"T_32857_row1_col11\" class=\"data row1 col11\" >118859</td>\n      <td id=\"T_32857_row1_col12\" class=\"data row1 col12\" >15</td>\n      <td id=\"T_32857_row1_col13\" class=\"data row1 col13\" >2</td>\n      <td id=\"T_32857_row1_col14\" class=\"data row1 col14\" >83165</td>\n      <td id=\"T_32857_row1_col15\" class=\"data row1 col15\" >22128</td>\n      <td id=\"T_32857_row1_col16\" class=\"data row1 col16\" >38326</td>\n    </tr>\n    <tr>\n      <th id=\"T_32857_level0_row2\" class=\"row_heading level0 row2\" >top</th>\n      <td id=\"T_32857_row2_col0\" class=\"data row2 col0\" >SUBWAY</td>\n      <td id=\"T_32857_row2_col1\" class=\"data row2 col1\" >LOS ANGELES</td>\n      <td id=\"T_32857_row2_col2\" class=\"data row2 col2\" >CA</td>\n      <td id=\"T_32857_row2_col3\" class=\"data row2 col3\" >BANK OF AMERICA NATL ASSOC</td>\n      <td id=\"T_32857_row2_col4\" class=\"data row2 col4\" >CA</td>\n      <td id=\"T_32857_row2_col5\" class=\"data row2 col5\" >7-Jul-93</td>\n      <td id=\"T_32857_row2_col6\" class=\"data row2 col6\" >2005</td>\n      <td id=\"T_32857_row2_col7\" class=\"data row2 col7\" >N</td>\n      <td id=\"T_32857_row2_col8\" class=\"data row2 col8\" >N</td>\n      <td id=\"T_32857_row2_col9\" class=\"data row2 col9\" >13-Mar-10</td>\n      <td id=\"T_32857_row2_col10\" class=\"data row2 col10\" >31-Jul-95</td>\n      <td id=\"T_32857_row2_col11\" class=\"data row2 col11\" >$50,000.00 </td>\n      <td id=\"T_32857_row2_col12\" class=\"data row2 col12\" >$0.00 </td>\n      <td id=\"T_32857_row2_col13\" class=\"data row2 col13\" >P I F</td>\n      <td id=\"T_32857_row2_col14\" class=\"data row2 col14\" >$0.00 </td>\n      <td id=\"T_32857_row2_col15\" class=\"data row2 col15\" >$50,000.00 </td>\n      <td id=\"T_32857_row2_col16\" class=\"data row2 col16\" >$25,000.00 </td>\n    </tr>\n    <tr>\n      <th id=\"T_32857_level0_row3\" class=\"row_heading level0 row3\" >freq</th>\n      <td id=\"T_32857_row3_col0\" class=\"data row3 col0\" >1269</td>\n      <td id=\"T_32857_row3_col1\" class=\"data row3 col1\" >11558</td>\n      <td id=\"T_32857_row3_col2\" class=\"data row3 col2\" >130619</td>\n      <td id=\"T_32857_row3_col3\" class=\"data row3 col3\" >86853</td>\n      <td id=\"T_32857_row3_col4\" class=\"data row3 col4\" >118116</td>\n      <td id=\"T_32857_row3_col5\" class=\"data row3 col5\" >1131</td>\n      <td id=\"T_32857_row3_col6\" class=\"data row3 col6\" >77525</td>\n      <td id=\"T_32857_row3_col7\" class=\"data row3 col7\" >420288</td>\n      <td id=\"T_32857_row3_col8\" class=\"data row3 col8\" >782822</td>\n      <td id=\"T_32857_row3_col9\" class=\"data row3 col9\" >734</td>\n      <td id=\"T_32857_row3_col10\" class=\"data row3 col10\" >10371</td>\n      <td id=\"T_32857_row3_col11\" class=\"data row3 col11\" >43787</td>\n      <td id=\"T_32857_row3_col12\" class=\"data row3 col12\" >899150</td>\n      <td id=\"T_32857_row3_col13\" class=\"data row3 col13\" >739609</td>\n      <td id=\"T_32857_row3_col14\" class=\"data row3 col14\" >737152</td>\n      <td id=\"T_32857_row3_col15\" class=\"data row3 col15\" >69394</td>\n      <td id=\"T_32857_row3_col16\" class=\"data row3 col16\" >49579</td>\n    </tr>\n  </tbody>\n</table>\n"
     },
     "execution_count": 11,
     "metadata": {},
     "output_type": "execute_result"
    }
   ],
   "source": [
    "df.select_dtypes(include=[\"object\"]).describe().style.apply(\n",
    "    lambda x: ['background-color: lightblue' if x.name == 'count' else\n",
    "               'background-color: lightgreen' if x.name == 'unique' else\n",
    "               'background-color: lightcoral' if x.name == 'top' else\n",
    "               'background-color: lightyellow' if x.name == 'freq' else ''\n",
    "               for _ in x], axis=1\n",
    ")"
   ]
  },
  {
   "cell_type": "markdown",
   "id": "78a02b8f-32d3-433c-97f9-07afc46fe872",
   "metadata": {},
   "source": [
    "## 2. Data Preprocessing"
   ]
  },
  {
   "cell_type": "markdown",
   "id": "546a6a81-ebc4-4290-9ed9-53db5e713d93",
   "metadata": {},
   "source": [
    "### 2.1 Handling missing values"
   ]
  },
  {
   "cell_type": "code",
   "execution_count": null,
   "id": "89f95bbb-f41b-46d4-918c-b57b01e32cc6",
   "metadata": {},
   "outputs": [],
   "source": [
    "print(f'There are total {df.isna().sum().sum()} values are missing in the data set.')"
   ]
  },
  {
   "cell_type": "code",
   "execution_count": null,
   "id": "51f1f887-54cd-4450-8311-f54e6ee6a2d5",
   "metadata": {},
   "outputs": [],
   "source": [
    "df.isna().sum()"
   ]
  },
  {
   "cell_type": "code",
   "execution_count": null,
   "id": "a94ee3e3-a5cb-4b20-898e-2b8f9a9aad29",
   "metadata": {
    "ExecuteTime": {
     "start_time": "2024-07-03T15:28:29.198129Z"
    }
   },
   "outputs": [],
   "source": [
    "miss_count = df.isna().sum()\n",
    "miss_props = round((miss_count/ len(df))*100,4)\n",
    "pd.DataFrame({\n",
    "    'Column':miss_count.index,\n",
    "    '# of Missing values':miss_count.values,\n",
    "    'Proportion of Missing values':miss_props.map('{:.5f} %'.format).values\n",
    "}).style.apply(lambda x: ['background-color: lightcoral' if float(val.rstrip('%')) > 50 else 'background-color: lightgreen' for val in x], subset=['Proportion of Missing values'])"
   ]
  },
  {
   "cell_type": "code",
   "execution_count": null,
   "id": "f62bdd0f-ee9e-4058-8dcc-c3caf06c068e",
   "metadata": {},
   "outputs": [],
   "source": [
    "# drop 'ChgOffDate' , bcz it's missing proportion is 82%\n",
    "df.drop('ChgOffDate', axis=1, inplace=True)"
   ]
  },
  {
   "cell_type": "code",
   "execution_count": null,
   "id": "49bbeee2-5c02-4963-a836-b48755aefaa7",
   "metadata": {},
   "outputs": [],
   "source": [
    "# drop other missing value by removing the row (missing proportion is low)\n",
    "df.dropna(inplace=True)"
   ]
  },
  {
   "cell_type": "code",
   "execution_count": null,
   "id": "6c16599a-5577-46da-b9f5-116609a5a30f",
   "metadata": {
    "ExecuteTime": {
     "start_time": "2024-07-03T15:28:29.204129Z"
    }
   },
   "outputs": [],
   "source": [
    "df.isna().sum().sum()"
   ]
  },
  {
   "cell_type": "markdown",
   "id": "32ec4c58-a7b9-463d-9c3a-c10cd6f5b67d",
   "metadata": {},
   "source": [
    "### 2.2 Handling Features "
   ]
  },
  {
   "cell_type": "markdown",
   "id": "248795af-addc-4f16-8f63-4ae078c67d6a",
   "metadata": {},
   "source": [
    "#### 2.2.1 Handling monetary features "
   ]
  },
  {
   "cell_type": "code",
   "execution_count": null,
   "id": "941fa6f3-2a0d-41c4-afdc-c50442184826",
   "metadata": {},
   "outputs": [],
   "source": [
    "df['DisbursementGross'].value_counts()"
   ]
  },
  {
   "cell_type": "code",
   "execution_count": null,
   "id": "1be6f15b-aae3-4d20-9885-a35e87b00e12",
   "metadata": {},
   "outputs": [],
   "source": [
    "# find symbols\n",
    "regex_pattern = r'[^0-9]'\n",
    "\n",
    "def find_symbols(cols):\n",
    "    for col in cols:\n",
    "        symbs = []\n",
    "        for s in df[col]:\n",
    "            sym = re.findall(regex_pattern, s)\n",
    "            symbs.extend(sym)\n",
    "        if symbs:\n",
    "            symbs_str = ', '.join(set(symbs))\n",
    "            print(f'Column: {col} ==> {symbs_str}')"
   ]
  },
  {
   "cell_type": "code",
   "execution_count": null,
   "id": "ea30682e-c8bb-4513-9e13-99b6409bc585",
   "metadata": {},
   "outputs": [],
   "source": [
    "cols = ['DisbursementGross', 'BalanceGross', 'ChgOffPrinGr', 'GrAppv', 'SBA_Appv']\n",
    "\n",
    "find_symbols(cols)"
   ]
  },
  {
   "cell_type": "markdown",
   "id": "31d74ca7-6455-4cf6-ac97-416de56d6442",
   "metadata": {},
   "source": []
  },
  {
   "cell_type": "code",
   "execution_count": null,
   "id": "2daf44a8-f57c-4615-8457-f1a2ad030e4d",
   "metadata": {},
   "outputs": [],
   "source": [
    "#remove , $ and ' '"
   ]
  },
  {
   "cell_type": "code",
   "execution_count": null,
   "id": "6781ff0b-8ce2-4ddc-8634-162dabe30aff",
   "metadata": {
    "ExecuteTime": {
     "start_time": "2024-07-03T15:28:29.213130Z"
    }
   },
   "outputs": [],
   "source": [
    "def remove_symbols(cols):\n",
    "    for col in cols:\n",
    "        df[col] = df[col].str.replace('$', '').str.replace(',', '').str.replace(' ', '')"
   ]
  },
  {
   "cell_type": "code",
   "execution_count": null,
   "id": "74dbd9fa-97a5-48a7-b4b7-e3a68d8320b2",
   "metadata": {},
   "outputs": [],
   "source": [
    "remove_symbols(cols)"
   ]
  },
  {
   "cell_type": "code",
   "execution_count": null,
   "id": "da8b2017-44c0-410a-98c9-aef94b61a8c3",
   "metadata": {
    "ExecuteTime": {
     "start_time": "2024-07-03T15:28:29.216133Z"
    }
   },
   "outputs": [],
   "source": [
    "df['DisbursementGross'].value_counts()"
   ]
  },
  {
   "cell_type": "code",
   "execution_count": null,
   "id": "80d176ba-2f7f-40d9-a966-f6d0f9be4e41",
   "metadata": {},
   "outputs": [],
   "source": [
    "df['DisbursementGross'].dtype"
   ]
  },
  {
   "cell_type": "code",
   "execution_count": null,
   "id": "31caa811-92d4-446d-bf95-b07d1c776d15",
   "metadata": {
    "ExecuteTime": {
     "start_time": "2024-07-03T15:28:29.219134Z"
    }
   },
   "outputs": [],
   "source": [
    "for col in cols:\n",
    "    df[col] = df[col].astype('float64')"
   ]
  },
  {
   "cell_type": "code",
   "execution_count": null,
   "id": "410003b0-363f-46b3-a390-b679db200498",
   "metadata": {},
   "outputs": [],
   "source": [
    "df[cols].describe().T.round(3).style.map(lambda val: 'background-color: {}'.format('white' if val == 0 else 'lightyellow' \n",
    "                                                                             if val <= 10 else 'lightgreen' \n",
    "                                                                             if val <= 100 else 'lightblue' \n",
    "                                                                             if val <= 1000 else 'lightcoral' \n",
    "                                                                             if val <= 1000000 else 'purple')).format(precision=3)"
   ]
  },
  {
   "cell_type": "markdown",
   "id": "fe52b615-ce7b-4b6f-9477-4fd85fecaa40",
   "metadata": {},
   "source": [
    "#### 2.2.2 Handling Date features"
   ]
  },
  {
   "cell_type": "code",
   "execution_count": null,
   "id": "768c1fbb-34ce-4490-b46c-285fa3bc9c2b",
   "metadata": {
    "ExecuteTime": {
     "start_time": "2024-07-03T15:28:29.222132Z"
    }
   },
   "outputs": [],
   "source": []
  },
  {
   "cell_type": "code",
   "execution_count": null,
   "id": "3652cdb7-cd10-436c-b443-e84e545e1790",
   "metadata": {},
   "outputs": [],
   "source": []
  },
  {
   "cell_type": "code",
   "execution_count": null,
   "id": "9868ded8-aa36-465d-91df-adfb61498b4e",
   "metadata": {
    "ExecuteTime": {
     "start_time": "2024-07-03T15:28:29.226133Z"
    }
   },
   "outputs": [],
   "source": []
  },
  {
   "cell_type": "code",
   "execution_count": null,
   "id": "652d3220-2957-4351-8ceb-f4419f80cc31",
   "metadata": {
    "ExecuteTime": {
     "start_time": "2024-07-03T15:28:29.227136Z"
    }
   },
   "outputs": [],
   "source": []
  },
  {
   "cell_type": "code",
   "execution_count": null,
   "id": "67659302-312a-4906-945e-aa8d43dbdf63",
   "metadata": {},
   "outputs": [],
   "source": []
  },
  {
   "cell_type": "code",
   "execution_count": null,
   "id": "f1489957-5e51-425e-98f5-8eb83052a473",
   "metadata": {
    "ExecuteTime": {
     "start_time": "2024-07-03T15:28:29.230150Z"
    }
   },
   "outputs": [],
   "source": []
  }
 ],
 "metadata": {
  "kernelspec": {
   "name": "gpuenv",
   "language": "python",
   "display_name": "tf (py 3.8)"
  },
  "language_info": {
   "codemirror_mode": {
    "name": "ipython",
    "version": 3
   },
   "file_extension": ".py",
   "mimetype": "text/x-python",
   "name": "python",
   "nbconvert_exporter": "python",
   "pygments_lexer": "ipython3",
   "version": "3.9.19"
  }
 },
 "nbformat": 4,
 "nbformat_minor": 5
}
